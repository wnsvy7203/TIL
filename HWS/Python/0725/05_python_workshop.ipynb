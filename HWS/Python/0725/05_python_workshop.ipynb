{
 "cells": [
  {
   "cell_type": "markdown",
   "metadata": {},
   "source": [
    "# Python 05. 데이터 구조와 복사"
   ]
  },
  {
   "cell_type": "markdown",
   "metadata": {},
   "source": [
    "## 1. 평균 점수 구하기\n",
    "key 값으로 과목명, value 값으로 점수를 가지는 dictionary를 전달 받아, 전체 과목의 평균 점수를 반환하는 함수 get_dict_avg 함수를 작성하시오."
   ]
  },
  {
   "cell_type": "code",
   "execution_count": 5,
   "metadata": {},
   "outputs": [
    {
     "name": "stdout",
     "output_type": "stream",
     "text": [
      "85.5\n"
     ]
    }
   ],
   "source": [
    "# get_dict_avg({\n",
    "#    'python': 80,\n",
    "#    'web': 83,\n",
    "#    'algorithm': 90\n",
    "#    'django': 89\n",
    "# }) -> 85.5\n",
    "\n",
    "def get_dict_avg(avg):\n",
    "    avg_list = list(avg.values()) # avg의 value만 리스트로 받는다.\n",
    "    sum = 0\n",
    "    for i in range(len(avg_list)): # 전부 더 한다.\n",
    "        sum += avg_list[i]\n",
    "    return sum / len(avg.values())\n",
    "\n",
    "print(get_dict_avg({\n",
    "    'python': 80,\n",
    "    'web': 83,\n",
    "    'algorithm': 90,\n",
    "    'django': 89\n",
    " }))\n"
   ]
  },
  {
   "cell_type": "markdown",
   "metadata": {},
   "source": [
    "## 2. 혈액형 분류하기\n",
    "여러 사람의 혈액형(A, B, AB, O)에 대한 정보가 담긴 list를 전달 받아, key 는 혈액형의 종류 , value 는 사람 수인 dictionary 를 반환하는 count_blood 함수를 작성하시오."
   ]
  },
  {
   "cell_type": "code",
   "execution_count": 6,
   "metadata": {},
   "outputs": [
    {
     "name": "stdout",
     "output_type": "stream",
     "text": [
      "{'A': 3, 'B': 3, 'O': 3, 'AB': 3}\n"
     ]
    }
   ],
   "source": [
    "def count_blood(blood_type):\n",
    "    blood = {\n",
    "        'A': blood_type.count('A'),\n",
    "        'B': blood_type.count('B'),\n",
    "        'O': blood_type.count('O'),\n",
    "        'AB': blood_type.count('AB'),\n",
    "    } # 입력받을 딕셔너리 정의\n",
    "    return blood\n",
    "print(count_blood([\n",
    "    'A', 'B', 'A', 'O', 'AB', 'AB',\n",
    "    'O', 'A', 'B', 'O', 'B', 'AB'\n",
    "]))"
   ]
  }
 ],
 "metadata": {
  "kernelspec": {
   "display_name": "Python 3.9.13 64-bit",
   "language": "python",
   "name": "python3"
  },
  "language_info": {
   "codemirror_mode": {
    "name": "ipython",
    "version": 3
   },
   "file_extension": ".py",
   "mimetype": "text/x-python",
   "name": "python",
   "nbconvert_exporter": "python",
   "pygments_lexer": "ipython3",
   "version": "3.9.13"
  },
  "orig_nbformat": 4,
  "vscode": {
   "interpreter": {
    "hash": "d0f63c8ac4ae55f0599ce1f2b79c462941338767091400e19b50672fdac5e4d3"
   }
  }
 },
 "nbformat": 4,
 "nbformat_minor": 2
}
