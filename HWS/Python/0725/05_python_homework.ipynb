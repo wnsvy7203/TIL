{
 "cells": [
  {
   "cell_type": "markdown",
   "metadata": {},
   "source": [
    "# Python 05. 데이터 구조 및 활용"
   ]
  },
  {
   "cell_type": "markdown",
   "metadata": {},
   "source": [
    "## 1. 모음은 몇 개나 있을까?\n",
    "문자열을 전달 받아 해당 문자열의 모음 개수를 반환하는 count_vowels 함수를 작성하시오. `count()` 메서드를 활용하여 작성하시오."
   ]
  },
  {
   "cell_type": "markdown",
   "metadata": {},
   "source": []
  },
  {
   "cell_type": "code",
   "execution_count": 8,
   "metadata": {},
   "outputs": [
    {
     "name": "stdout",
     "output_type": "stream",
     "text": [
      "2\n",
      "3\n"
     ]
    }
   ],
   "source": [
    "def count_vowels(word):\n",
    "    return word.count('a') + word.count('e') + word.count('i') + word.count('o') + word.count('u')\n",
    "    # 각 모음의 개수를 세서 더하는 함수\n",
    "\n",
    "\n",
    "print(count_vowels('apple'))\n",
    "print(count_vowels('banana'))"
   ]
  },
  {
   "cell_type": "markdown",
   "metadata": {},
   "source": [
    "## 2. 문자열 조작\n",
    "다음 중, 문자열(string)을 조작하는 방법으로 옳지 않은 것을 고르시오."
   ]
  },
  {
   "cell_type": "markdown",
   "metadata": {},
   "source": [
    "```\n",
    "(1) .find(x)는 x의 첫번째 위치를 반환한다. 없으면 -1을 반환한다.\n",
    "(2) .split([chars])은 특정 문자를 지정하면 문자열을 특정 문자를\n",
    "기준으로 나누어 list로 반환한다.\n",
    "특정 문자를 지정하지 않으면 공백을 기준으로 나눈다.\n",
    "(3) .replace(old, new[, count])는 바꿀 대상 문자를 새로운 문자로\n",
    "바꿔서 반환한다.\n",
    "(4) .strip([chars])은 특정 문자를 지정하면, 양쪽에서 해당 문자를\n",
    "찾아 제거한다. 특정 문자를 지정하지 않으면 오류가 발생한다.\n",
    "```"
   ]
  },
  {
   "cell_type": "code",
   "execution_count": 4,
   "metadata": {},
   "outputs": [
    {
     "name": "stdout",
     "output_type": "stream",
     "text": [
      "안녕하세요\n"
     ]
    }
   ],
   "source": [
    "# (2) .split([chars])은 공백이나 특정 문자를 제거하는데 사용된다.\n",
    "print('안녕하세요????'.strip('?')) # '안녕하세요'\n",
    "\n",
    "# 따라서 답 (2)"
   ]
  },
  {
   "cell_type": "markdown",
   "metadata": {},
   "source": [
    "## 3. 정사각형만 만들기\n",
    "각각 너비와 높이의 값으로 이루어진 2개의 list를 전달 받아, 각각의 값들을 조합하여\n",
    "만들 수 있는 정사각형만의 넓이를 담은 list를 반환하는 only_square_area 함수를\n",
    "작성하시오."
   ]
  },
  {
   "cell_type": "code",
   "execution_count": 5,
   "metadata": {},
   "outputs": [
    {
     "name": "stdout",
     "output_type": "stream",
     "text": [
      "[1024, 3025]\n"
     ]
    }
   ],
   "source": [
    "# only_square_area([32, 55, 63], [13, 32, 40, 55]) # [1024, 3025]\n",
    "\n",
    "area = [] # 정사각형의 넓이를 받을 리스트 area 생성\n",
    "def only_square_area(a, b):\n",
    "    for i in a:\n",
    "        for j in b:\n",
    "            if i == j:\n",
    "                area.append(i * i) # 같은 변수가 있다면 그 제곱에 해당하는 변수를 area에 추가\n",
    "    return area\n",
    "\n",
    "print(only_square_area([32, 55, 63], [13, 32, 40, 55]))\n",
    "\n"
   ]
  }
 ],
 "metadata": {
  "kernelspec": {
   "display_name": "Python 3.9.13 64-bit",
   "language": "python",
   "name": "python3"
  },
  "language_info": {
   "codemirror_mode": {
    "name": "ipython",
    "version": 3
   },
   "file_extension": ".py",
   "mimetype": "text/x-python",
   "name": "python",
   "nbconvert_exporter": "python",
   "pygments_lexer": "ipython3",
   "version": "3.9.13"
  },
  "orig_nbformat": 4,
  "vscode": {
   "interpreter": {
    "hash": "d0f63c8ac4ae55f0599ce1f2b79c462941338767091400e19b50672fdac5e4d3"
   }
  }
 },
 "nbformat": 4,
 "nbformat_minor": 2
}
