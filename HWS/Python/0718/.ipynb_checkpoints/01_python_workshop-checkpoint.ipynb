{
 "cells": [
  {
   "cell_type": "markdown",
   "id": "b672e6e4",
   "metadata": {},
   "source": [
    "# Python 01. 기초문법과 데이터의 입 출력"
   ]
  },
  {
   "cell_type": "markdown",
   "id": "941bf129",
   "metadata": {},
   "source": [
    "## 1. 문자 print\n",
    "<br>\n",
    "It's SSAFY 8 을 출력하는 프로그램을 작성하시오.(중간에 작은따옴표가 있다.)"
   ]
  },
  {
   "cell_type": "code",
   "execution_count": 1,
   "id": "43f63624",
   "metadata": {},
   "outputs": [
    {
     "name": "stdout",
     "output_type": "stream",
     "text": [
      "It's SSAFY 8\n"
     ]
    }
   ],
   "source": [
    "print(\"It's SSAFY 8\")"
   ]
  },
  {
   "cell_type": "markdown",
   "id": "dbfea25f",
   "metadata": {},
   "source": [
    "## 2. 숫자 print\n",
    "<br>\n",
    "458345 + 623576 를 계산하여 출력하는 프로그램을 작성하시오"
   ]
  },
  {
   "cell_type": "code",
   "execution_count": 2,
   "id": "59a60e6e",
   "metadata": {},
   "outputs": [
    {
     "name": "stdout",
     "output_type": "stream",
     "text": [
      "1081921\n"
     ]
    }
   ],
   "source": [
    "a = 458345\n",
    "b = 623576\n",
    "print(a+b)"
   ]
  },
  {
   "cell_type": "markdown",
   "id": "d718572c",
   "metadata": {},
   "source": [
    "## 3. 변수를 사용해서 데이터 출력하기\n",
    "<br>\n",
    "두 변수 greeting, month를 사용해서 Hello July를 출력하는 프로그램을 작성하시오.\n",
    "<br>\n",
    "greeting = 'hello'<br>\n",
    "month = 'July'"
   ]
  },
  {
   "cell_type": "code",
   "execution_count": 5,
   "id": "15935b5d",
   "metadata": {},
   "outputs": [
    {
     "name": "stdout",
     "output_type": "stream",
     "text": [
      "hello July\n"
     ]
    }
   ],
   "source": [
    "greeting = 'hello'\n",
    "month = 'July'\n",
    "print(f'{greeting} {month}')"
   ]
  },
  {
   "cell_type": "markdown",
   "id": "cf943315",
   "metadata": {},
   "source": [
    "## 4. 문자형의 입력과 출력\n",
    "<br>\n",
    "입력 받은 문자를 출력하는 프로그램을 작성하시오.<br>\n",
    "(힌트 : input() 함수를 활용하여 데이터를 입력받을 수 있다.)<br>\n",
    "hello = input()<br><br>\n",
    "[입력]<br>\n",
    "문자를 입력받는다.<br><br>\n",
    "[출력]<br>\n",
    "입력 받은 문자를 출력한다.<br><br>\n",
    "[입력 예시]<br>\n",
    "Hello! SSAFY 8<br><br>\n",
    "[출력 예시]<br>\n",
    "Hello! SSAFY 8"
   ]
  },
  {
   "cell_type": "code",
   "execution_count": 6,
   "id": "15d11043",
   "metadata": {},
   "outputs": [
    {
     "name": "stdout",
     "output_type": "stream",
     "text": [
      "Hello! SSAFY 8\n",
      "Hello! SSAFY 8\n"
     ]
    }
   ],
   "source": [
    "hello = input()\n",
    "print(hello)"
   ]
  }
 ],
 "metadata": {
  "kernelspec": {
   "display_name": "Python 3 (ipykernel)",
   "language": "python",
   "name": "python3"
  },
  "language_info": {
   "codemirror_mode": {
    "name": "ipython",
    "version": 3
   },
   "file_extension": ".py",
   "mimetype": "text/x-python",
   "name": "python",
   "nbconvert_exporter": "python",
   "pygments_lexer": "ipython3",
   "version": "3.9.13"
  }
 },
 "nbformat": 4,
 "nbformat_minor": 5
}
