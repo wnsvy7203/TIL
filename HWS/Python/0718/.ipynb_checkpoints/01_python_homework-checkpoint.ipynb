{
 "cells": [
  {
   "cell_type": "markdown",
   "id": "8a2781b1",
   "metadata": {},
   "source": [
    "# Python 01. 기초문법과 변수 데이터 타입"
   ]
  },
  {
   "cell_type": "markdown",
   "id": "eb5b7835",
   "metadata": {},
   "source": [
    "## 1. Python 예약어\n",
    "python에서 사용할 수 없는 식별자(예약어) 를 찾아 작성하시오"
   ]
  },
  {
   "cell_type": "code",
   "execution_count": 1,
   "id": "23d8fefa",
   "metadata": {},
   "outputs": [
    {
     "name": "stdout",
     "output_type": "stream",
     "text": [
      "['False', 'None', 'True', '__peg_parser__', 'and', 'as', 'assert', 'async', 'await', 'break', 'class', 'continue', 'def', 'del', 'elif', 'else', 'except', 'finally', 'for', 'from', 'global', 'if', 'import', 'in', 'is', 'lambda', 'nonlocal', 'not', 'or', 'pass', 'raise', 'return', 'try', 'while', 'with', 'yield']\n"
     ]
    }
   ],
   "source": [
    "import keyword\n",
    "print(keyword.kwlist)"
   ]
  },
  {
   "cell_type": "markdown",
   "id": "5865d5f1",
   "metadata": {},
   "source": [
    "## 2. 실수 비교\n",
    "python은 부동소수점 방식을 이용하여 실수(float)를 표현하는 과정에서, 나타내고자 하는 값과의 오차가 발생하여 원하는 대로 연산 또는 비교가 되지 않을 때가 있다.<br>\n",
    "이를 참고하여, 아래와 같은 두 실수 값을 올바르게 비교하기 위한 코드를 작성하시오.<br>\n",
    "num1 = 0.1 * 3<br>\n",
    "num2 = 0.3"
   ]
  },
  {
   "cell_type": "code",
   "execution_count": 1,
   "id": "eda80f42",
   "metadata": {},
   "outputs": [
    {
     "name": "stdout",
     "output_type": "stream",
     "text": [
      "True\n"
     ]
    }
   ],
   "source": [
    "import math\n",
    "\n",
    "num1 = 0.1*3\n",
    "num2 = 0.3\n",
    "\n",
    "print(math.isclose(num1, num2))"
   ]
  },
  {
   "cell_type": "markdown",
   "id": "d51ee760",
   "metadata": {},
   "source": [
    "## 3. 이스케이프 시퀀스\n",
    "<br>\n",
    "(1) 줄 바꿈 , (2) 탭 , (3) 백슬래시를 의미하는 이스케이프 시퀀스를 작성하시오"
   ]
  },
  {
   "cell_type": "markdown",
   "id": "366b63ac",
   "metadata": {},
   "source": [
    "`# (1) 줄 바꿈`\n",
    "\\n<br>\n",
    "`# (2) 탭`\n",
    "\\t<br>\n",
    "`# (3) 백슬래시`\n",
    "\\\\"
   ]
  },
  {
   "cell_type": "markdown",
   "id": "57c4821f",
   "metadata": {},
   "source": [
    "## 4. String Interpolation\n",
    "<br>\n",
    "`안녕, 철수야` 를 string interpolation 을 사용하여 출력하시오.<br>\n",
    "name = `철수`"
   ]
  },
  {
   "cell_type": "code",
   "execution_count": 3,
   "id": "337e8679",
   "metadata": {},
   "outputs": [
    {
     "name": "stdout",
     "output_type": "stream",
     "text": [
      "안녕, 철수야\n",
      "안녕, 철수야\n"
     ]
    }
   ],
   "source": [
    "name = '철수'\n",
    "print(\"안녕, {}야\".format(name))\n",
    "print(f'안녕, {name}야')"
   ]
  },
  {
   "cell_type": "markdown",
   "id": "2e49c864",
   "metadata": {},
   "source": [
    "## 5. 형 변환\n",
    "<br>\n",
    "다음 중, 실행 시 오류가 발생하는 코드를 고르시오.\n",
    "\n",
    "str(1)<br>\n",
    "int('30')<br>\n",
    "int(5)<br>\n",
    "bool('50')<br>\n",
    "int('3.5')"
   ]
  },
  {
   "cell_type": "markdown",
   "id": "a6a1286c",
   "metadata": {},
   "source": [
    "3.5는 실수형 변수이기 때문에 정수형으로 변환할 수 없다.\n",
    "따라서 정답 (5)"
   ]
  },
  {
   "cell_type": "markdown",
   "id": "1038ceb2",
   "metadata": {},
   "source": [
    "## 6. 네모 출력\n",
    "두 개의 정수 n 과 m 이 주어졌을 때, 가로의 길이가 n, 세로의 길이가 m 인\n",
    "직사각형 형태를 별 (`*`) 문자를 이용하여 출력하시오. 단, 반복문은 사용할 수 없다.<br>\n",
    "n = 5<br>\n",
    "m = 9"
   ]
  },
  {
   "cell_type": "code",
   "execution_count": 18,
   "id": "29c09c8b",
   "metadata": {},
   "outputs": [
    {
     "name": "stdout",
     "output_type": "stream",
     "text": [
      "*****\n",
      "*****\n",
      "*****\n",
      "*****\n",
      "*****\n",
      "*****\n",
      "*****\n",
      "*****\n",
      "*****\n",
      "\n"
     ]
    }
   ],
   "source": [
    "n = 5\n",
    "m = 9\n",
    "print(('*' * n + '\\n') * m)"
   ]
  },
  {
   "cell_type": "markdown",
   "id": "122d4b27",
   "metadata": {},
   "source": [
    "## 7. 이스케이프 시퀀스 응용\n",
    "print() 함수를 한 번만 사용하여 다음 문장을 출력하시오.<br>\n",
    "\"파일은 c: Windows Users 내문서 Python 에 저장이 되었습니다.\"<br>\n",
    "나는 생각했다. 'cd 를 써서 git bash 로 들어가 봐야지.'"
   ]
  },
  {
   "cell_type": "code",
   "execution_count": 21,
   "id": "cdfa89bc",
   "metadata": {},
   "outputs": [
    {
     "name": "stdout",
     "output_type": "stream",
     "text": [
      "\"파일은 c:\\Windows\\Users\\내문서\\Python에 저장이 되었습니다.\"\n",
      " 나는 생각했다. 'cd를 써서 git bash로 들어가 봐야지.'\n"
     ]
    }
   ],
   "source": [
    "print('''\\\"파일은 c:\\\\Windows\\\\Users\\\\내문서\\\\Python에 저장이 되었습니다.\"\\n 나는 생각했다. \\'cd를 써서 git bash로 들어가 봐야지.\\'''')"
   ]
  },
  {
   "cell_type": "markdown",
   "id": "af7dc169",
   "metadata": {},
   "source": [
    "## 8. 근의 공식\n",
    "<br>\n",
    "다음은 이차 방정식의 근을 찾는 수식이다. 이를 파이썬 코드로 작성하시오."
   ]
  },
  {
   "cell_type": "markdown",
   "id": "ff384f0f",
   "metadata": {},
   "source": [
    "![image1.png](./image/image1.png)"
   ]
  },
  {
   "cell_type": "code",
   "execution_count": 2,
   "id": "3e80bbbe",
   "metadata": {},
   "outputs": [
    {
     "name": "stdout",
     "output_type": "stream",
     "text": [
      "2 4 1\n",
      "x= 0.0 , -8.0\n"
     ]
    }
   ],
   "source": [
    "a, b, c = map(int, input().split())\n",
    "\n",
    "d = b**2 - 4*a*c\n",
    "\n",
    "solution1 = -b + (d**1/2) / 2*a\n",
    "solution2 = -b - (d**1/2) / 2*a\n",
    "\n",
    "if d < 0:\n",
    "    print('근이 없다')\n",
    "elif d == 0:\n",
    "    print(-b / 2*a)\n",
    "else :\n",
    "    print('x=',solution1,',',solution2)"
   ]
  }
 ],
 "metadata": {
  "kernelspec": {
   "display_name": "Python 3 (ipykernel)",
   "language": "python",
   "name": "python3"
  },
  "language_info": {
   "codemirror_mode": {
    "name": "ipython",
    "version": 3
   },
   "file_extension": ".py",
   "mimetype": "text/x-python",
   "name": "python",
   "nbconvert_exporter": "python",
   "pygments_lexer": "ipython3",
   "version": "3.9.13"
  }
 },
 "nbformat": 4,
 "nbformat_minor": 5
}
