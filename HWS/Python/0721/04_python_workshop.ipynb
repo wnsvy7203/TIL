{
 "cells": [
  {
   "cell_type": "markdown",
   "id": "0c8c6d10",
   "metadata": {},
   "source": [
    "# Python 04. 함수"
   ]
  },
  {
   "cell_type": "markdown",
   "id": "dda87527",
   "metadata": {},
   "source": [
    "## 1. 간단한 N의 약수 (SWEA #1933)\n",
    "입력으로 1개의 정수 N이 주어진다. 정수 N의 약수를 오름차순으로 출력하는 프로그램을 작성하시오."
   ]
  },
  {
   "cell_type": "code",
   "execution_count": 6,
   "id": "bcba104c",
   "metadata": {},
   "outputs": [
    {
     "name": "stdout",
     "output_type": "stream",
     "text": [
      "10\n",
      "1 2 5 10 "
     ]
    }
   ],
   "source": [
    "n = int(input())\n",
    "for i in range(1, n + 1):\n",
    "    if n % i == 0:\n",
    "        print(i, end = ' ')"
   ]
  },
  {
   "cell_type": "markdown",
   "id": "27bf7f5b",
   "metadata": {},
   "source": [
    "## 2. List의 합 구하기\n",
    "정수로만 이루어진 list를 전달 받아 해당 list의 모든 요소들의 합을 반환하는 list_sum 함수를 built-in 함수인 `sum()` 함수를 사용하지 않고 작성하시오."
   ]
  },
  {
   "cell_type": "code",
   "execution_count": 7,
   "id": "f0f46978",
   "metadata": {},
   "outputs": [
    {
     "name": "stdout",
     "output_type": "stream",
     "text": [
      "15\n"
     ]
    }
   ],
   "source": [
    "def list_sum(numbers):\n",
    "    sum = 0\n",
    "    for num in numbers:\n",
    "        sum += num\n",
    "    return sum\n",
    "\n",
    "print(list_sum([1, 2, 3, 4, 5]))"
   ]
  },
  {
   "cell_type": "markdown",
   "id": "2aef92a7",
   "metadata": {},
   "source": [
    "## 3. Dictionary로 이루어진 List의 합 구하기\n",
    "Dictionary로 이루어진 list를 전달 받아 모든 dictionary의 'age' key에 해당하는 value들의 합을 반환하는 dict_list_sum 함수를 built-in 함수인 `sum()` 함수를 사용하지 않고 작성하시오."
   ]
  },
  {
   "cell_type": "code",
   "execution_count": 3,
   "id": "3caa174f",
   "metadata": {},
   "outputs": [
    {
     "name": "stdout",
     "output_type": "stream",
     "text": [
      "16\n"
     ]
    }
   ],
   "source": [
    "def dict_list_sum(numbers):\n",
    "    sum_ages = 0\n",
    "    for i in numbers:\n",
    "        sum_ages += i['age']\n",
    "    return sum_ages\n",
    "\n",
    "print(dict_list_sum([{'name': 'kim', 'age':12}, {'name': 'lee', 'age': 4}]))"
   ]
  },
  {
   "cell_type": "markdown",
   "id": "d2cbfb9b",
   "metadata": {},
   "source": [
    "## 4. 2차원 List의 전체 합 구하기\n",
    "정수로만 이루어진 2차원 list를 전달 받아 해당 list의 모든 요소들의 합을 반환하는 all_list_sum 함수를 built-in 함수인 `sum()` 함수를 사용하지 않고 작성하시오."
   ]
  },
  {
   "cell_type": "code",
   "execution_count": 10,
   "id": "42227ff4",
   "metadata": {},
   "outputs": [
    {
     "name": "stdout",
     "output_type": "stream",
     "text": [
      "55\n"
     ]
    }
   ],
   "source": [
    "def all_list_sum(numbers):\n",
    "    result = 0\n",
    "    for i in numbers:\n",
    "        for j in range(len(i)):\n",
    "            result += i[j]\n",
    "    return result\n",
    "\n",
    "print(all_list_sum([[1],[2, 3],[4, 5, 6],[7, 8, 9, 10]]))"
   ]
  },
  {
   "cell_type": "markdown",
   "id": "247c5417",
   "metadata": {},
   "source": [
    "## 5. 숫자의 의미\n",
    "정수로 이루어진 list를 전달 받아, 각 정수에 대응되는 아스키 문자를 이어붙인 문자열을 반환하는 get_secret_word 함수를 작성하시오.<br>\n",
    "단, list는 65이상 90이하 그리고 97이상 122이하의 정수로만 구성되어 있다."
   ]
  },
  {
   "cell_type": "code",
   "execution_count": 4,
   "id": "dfb55b11",
   "metadata": {},
   "outputs": [
    {
     "name": "stdout",
     "output_type": "stream",
     "text": [
      "SsAfY\n"
     ]
    }
   ],
   "source": [
    "def get_secret_word(numbers):\n",
    "    word = ''\n",
    "    for num in numbers:\n",
    "        word += chr(num)\n",
    "    return word\n",
    "\n",
    "print(get_secret_word([83, 115, 65, 102, 89]))\n",
    "\n",
    "# chr 함수 : 아스키코드를 문자열로 반환하는 함수"
   ]
  },
  {
   "cell_type": "markdown",
   "id": "07016a1b",
   "metadata": {},
   "source": [
    "## 6. 내 이름은 몇일까?\n",
    "문자열을 전달 받아 해당 문자열의 각 문자에 대응되는 아스키 숫자들의 합을 반환하는 get_secret_number 함수를 작성하시오. 단, 문자열은 `A~Z, a~z`로만 구성되어 있다."
   ]
  },
  {
   "cell_type": "code",
   "execution_count": null,
   "id": "5d4823de",
   "metadata": {},
   "outputs": [],
   "source": [
    "def get_secret_number(word):\n",
    "    total = 0\n",
    "\n",
    "    for char in word:\n",
    "        total += ord(char)\n",
    "    return total\n",
    "\n",
    "get_secret_number('happy') # 546\n",
    "\n",
    "# ord 함수 : 문자열을 아스키코드로 반환하는 함수"
   ]
  },
  {
   "cell_type": "markdown",
   "id": "b14ef3a8",
   "metadata": {},
   "source": [
    "## 7. 강한 이름\n",
    "문자열 2개를 전달 받아 두 문자열의 각 문자에 대응되는 아스키 숫자들의 합을 비교하여 더 큰 합을 가진 문자열을 반환하는 get_strong_word 함수를 작성하시오.<br>\n",
    "단, 두 문자열의 아스키 숫자의 합이 같은 경우, 둘 다 반환하세요."
   ]
  },
  {
   "cell_type": "code",
   "execution_count": 5,
   "id": "39167b53",
   "metadata": {},
   "outputs": [
    {
     "name": "stdout",
     "output_type": "stream",
     "text": [
      "delilah\n"
     ]
    }
   ],
   "source": [
    "def get_strong_word(word1, word2):\n",
    "    word1_total = 0\n",
    "    word2_total = 0\n",
    "\n",
    "    for char in word1:\n",
    "        word1_total += ord(char)\n",
    "\n",
    "    for char in word2:\n",
    "        word2_total += ord(char)\n",
    "\n",
    "    if word1_total > word2_total:\n",
    "        return word1\n",
    "    elif word1_total < word2_total:\n",
    "        return word2\n",
    "    else:\n",
    "        return word1, word2\n",
    "\n",
    "print(get_strong_word('delilah', 'dixon')) # delilah"
   ]
  }
 ],
 "metadata": {
  "kernelspec": {
   "display_name": "Python 3.9.13 64-bit",
   "language": "python",
   "name": "python3"
  },
  "language_info": {
   "codemirror_mode": {
    "name": "ipython",
    "version": 3
   },
   "file_extension": ".py",
   "mimetype": "text/x-python",
   "name": "python",
   "nbconvert_exporter": "python",
   "pygments_lexer": "ipython3",
   "version": "3.9.13"
  },
  "vscode": {
   "interpreter": {
    "hash": "d0f63c8ac4ae55f0599ce1f2b79c462941338767091400e19b50672fdac5e4d3"
   }
  }
 },
 "nbformat": 4,
 "nbformat_minor": 5
}
