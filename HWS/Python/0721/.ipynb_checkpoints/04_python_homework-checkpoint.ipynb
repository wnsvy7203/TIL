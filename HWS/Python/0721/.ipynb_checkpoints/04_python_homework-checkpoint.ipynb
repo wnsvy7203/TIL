{
 "cells": [
  {
   "cell_type": "markdown",
   "id": "99dc1acc",
   "metadata": {},
   "source": [
    "# Python 04. 함수 심화"
   ]
  },
  {
   "cell_type": "markdown",
   "id": "a76ef8e3",
   "metadata": {},
   "source": [
    "## 1. 위치 인자와 키워드 인자\n",
    "다음과 같이 함수가 선언되어 있을 때, 보기 (1)~(4) 중에서 실행 시 오류가 발생하는 코드를 고르시오."
   ]
  },
  {
   "cell_type": "code",
   "execution_count": 13,
   "id": "f15d5a28",
   "metadata": {},
   "outputs": [
    {
     "ename": "SyntaxError",
     "evalue": "positional argument follows keyword argument (2895955236.py, line 10)",
     "output_type": "error",
     "traceback": [
      "\u001b[1;36m  Input \u001b[1;32mIn [13]\u001b[1;36m\u001b[0m\n\u001b[1;33m    ssafy(name='승호', '광주')\u001b[0m\n\u001b[1;37m                         ^\u001b[0m\n\u001b[1;31mSyntaxError\u001b[0m\u001b[1;31m:\u001b[0m positional argument follows keyword argument\n"
     ]
    }
   ],
   "source": [
    "def ssafy(name, location='서울'):\n",
    "    print(f'{name}의 지역은 {location}입니다.')\n",
    "# (1)\n",
    "ssafy('가흔')\n",
    "# (2)\n",
    "ssafy(location='부울경', name='승현')\n",
    "# (3)\n",
    "ssafy('지우', location='서울')\n",
    "# (4)\n",
    "ssafy(name='승호', '광주')"
   ]
  },
  {
   "cell_type": "markdown",
   "id": "11b19267",
   "metadata": {},
   "source": [
    "```\n",
    "keyword argument 뒤에 positional argument가 따라올 수 없다.\n",
    "답 (4)\n",
    "```"
   ]
  },
  {
   "cell_type": "markdown",
   "id": "e8e034af",
   "metadata": {},
   "source": [
    "## 2. 가변 인자 리스트\n",
    "가변 인자 리스트를 사용하여, 개수가 정해지지 않은 여러 정수들을 전달 받아 해당 정수들의 평균 값을 반환하는 my_avg 함수를 작성하시오."
   ]
  },
  {
   "cell_type": "code",
   "execution_count": 4,
   "id": "ab254619",
   "metadata": {},
   "outputs": [
    {
     "name": "stdout",
     "output_type": "stream",
     "text": [
      "81.0\n"
     ]
    }
   ],
   "source": [
    "def my_avg(*numbers):\n",
    "    result = 0\n",
    "    for number in numbers:\n",
    "        result += number\n",
    "    return result / len(numbers)\n",
    "\n",
    "print(my_avg(77, 83, 95, 80, 70))"
   ]
  },
  {
   "cell_type": "markdown",
   "id": "16380174",
   "metadata": {},
   "source": [
    "## 3. 반환값\n",
    "다음과 같이 함수를 선언하고 호출하였을 때, 변수 result에 저장된 값과 그 값이 나온 이유를 작성하시오."
   ]
  },
  {
   "cell_type": "code",
   "execution_count": 8,
   "id": "6227aa6c",
   "metadata": {},
   "outputs": [
    {
     "name": "stdout",
     "output_type": "stream",
     "text": [
      "10\n"
     ]
    }
   ],
   "source": [
    "def my_func(a, b):\n",
    "    c = a + b\n",
    "    print(c)\n",
    "    \n",
    "result = my_func(3, 7)\n"
   ]
  },
  {
   "cell_type": "markdown",
   "id": "ec971eaa",
   "metadata": {},
   "source": [
    "```\n",
    "return이 함수를 종료시켜주는 역할을 하기 때문에 함수 내에서 return이 없으면 결과값으로 None을 반환하게 되어 있다. 따라서 print(my_func(3, 7) 할 경우 c와 None을 함께 출력한다.\n",
    "```"
   ]
  },
  {
   "cell_type": "markdown",
   "id": "1d7f3529",
   "metadata": {},
   "source": [
    "## 4. 이름 공간(Namespace)\n",
    "Python에서 변수를 찾을 때 접근하는 이름 공간을 순서대로 작성하시오."
   ]
  },
  {
   "cell_type": "markdown",
   "id": "09afad67",
   "metadata": {},
   "source": [
    "```\n",
    "Local scope : 지역 범위(현재 작업 중인 범위)\n",
    "Enclosed scope : 지역 범위 한 단계 위 범위\n",
    "Global scope : 최상단에 위치한 범위\n",
    "Built-in scope : 모든 것을 담고 있는 범위(정의하지 않고 사용할 수 있는 모든 것)\n",
    "```"
   ]
  },
  {
   "cell_type": "markdown",
   "id": "5531ab30",
   "metadata": {},
   "source": [
    "## 5. 매개변수와 인자, 그리고 반환\n",
    "아래의 보기 (1) ~ (4) 중에서, 옳지 않은 것을 고르시오."
   ]
  },
  {
   "cell_type": "markdown",
   "id": "1ca011f6",
   "metadata": {},
   "source": [
    "(1) 함수는 오직 하나의 객체만 반환할 수 있으므로 'return a, b'와 같이 쓸 수 없다.<br>\n",
    "(2) 함수에서 return을 작성하지 않으면 None 값을 반환한다.<br>\n",
    "(3) 함수의 매개변수(parameter)는 함수를 선언할 때 설정한 값이며, 전달 인자(argument)는 함수를 호출할 때 넘겨주는 값이다.<br>\n",
    "(4) 가변 인자를 설정할 때는 함수 선언 시 매개변수 앞에 `*`을 붙이고, 이 때는 함수 내에서 tuple로 처리 된다.<br>"
   ]
  },
  {
   "cell_type": "markdown",
   "id": "2dad2a72",
   "metadata": {},
   "source": [
    "`(1) 2개 이상의 값을 반환하고 싶을 때 return a, b와 같이 쓸 수 있다.`"
   ]
  },
  {
   "cell_type": "markdown",
   "id": "3c995999",
   "metadata": {},
   "source": [
    "## 6. 재귀 함수\n",
    "재귀 함수를 사용했을 때 얻을 수 있는 장점과 단점을 반복문과 비교하여 작성하시오."
   ]
  },
  {
   "cell_type": "markdown",
   "id": "b6a8fad4",
   "metadata": {},
   "source": [
    "```\n",
    "알고리즘 중 재귀 함수로 로직을 표현하기 쉬운 경우가 있고,\n",
    "변수의 사용이 줄어들기 때문에 코드의 가독성이 높아진다.\n",
    "다만, 메모리 스택이 넘치면 프로그램이 동작하지 않게 되고,\n",
    "파이썬에서는 최대 재귀 깊이가 1000번으로,\n",
    "호출 횟수가 이를 넘어가게 되면 Recursion Error 발생\n",
    "또, 재귀 호출은 입력 값이 커질수록 연산 속도가 느려짐.\n",
    "```"
   ]
  }
 ],
 "metadata": {
  "kernelspec": {
   "display_name": "Python 3 (ipykernel)",
   "language": "python",
   "name": "python3"
  },
  "language_info": {
   "codemirror_mode": {
    "name": "ipython",
    "version": 3
   },
   "file_extension": ".py",
   "mimetype": "text/x-python",
   "name": "python",
   "nbconvert_exporter": "python",
   "pygments_lexer": "ipython3",
   "version": "3.9.13"
  }
 },
 "nbformat": 4,
 "nbformat_minor": 5
}
