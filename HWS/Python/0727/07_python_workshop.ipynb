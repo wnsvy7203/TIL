{
 "cells": [
  {
   "cell_type": "markdown",
   "metadata": {},
   "source": [
    "# Python 07. 객체 지향 프로그래밍"
   ]
  },
  {
   "cell_type": "markdown",
   "metadata": {},
   "source": [
    "## 1. pip\n",
    "아래 명령어는 (1) 무엇을 위한 명령인지 (2) 실행은 어디에서 해야하는지 작성 하시오."
   ]
  },
  {
   "cell_type": "code",
   "execution_count": 1,
   "metadata": {},
   "outputs": [],
   "source": [
    "# $ pip install faker\n",
    "# pip는 Package Instller for Python의 약자로 파이썬 패키지 관리자 중 하나.\n",
    "# PyPI(Python Package Index) 리포지터리에서 지정한 패키지를 다운받는다.\n",
    "# pip를 통해 faker 패키지를 다운 및 전역 설치\n",
    "# cmd나 git bash를 통해 설치"
   ]
  },
  {
   "cell_type": "markdown",
   "metadata": {},
   "source": [
    "## 2. Basic Usages\n",
    "Faker는 다양한 메서드를 통해 임의의 결과값을 반환해준다.<br>\n",
    "임의의 영문 이름을 반환하는 아래 코드에서 라인별 의미를 주석을 참고하여 작성하시오."
   ]
  },
  {
   "cell_type": "code",
   "execution_count": 6,
   "metadata": {},
   "outputs": [
    {
     "data": {
      "text/plain": [
       "'Timothy Moore'"
      ]
     },
     "execution_count": 6,
     "metadata": {},
     "output_type": "execute_result"
    }
   ],
   "source": [
    "from faker import Faker # 1. faker 모듈에서 Faker 메서드를 불러오는 기능\n",
    "fake = Faker() # 2. Faker는 클래스, fake는 인스턴스이다.\n",
    "fake.name() # 3. name()은 fake의 인스턴스 메서드이다."
   ]
  },
  {
   "cell_type": "markdown",
   "metadata": {},
   "source": [
    "## 3. Localization\n",
    "Faker는 다양한 언어의 Locale을 지원한다.\n",
    "1. 인자 없이 호출 시에는 영문이 기본 설정이다. (en_US)\n",
    "``` fake = Faker()\n",
    "fake.name() -> 'Shelly Wilcox'\n",
    "```\n",
    "2. locale 정보를 포함하여 호출 시에는 해당 언어 설정을 따른다.\n",
    "``` fake_ko = Faker('ko_KR')\n",
    "fake_ko.name() -> (랜덤이므로 결과 값이 다를 수 있음)\n",
    "```\n",
    "\n",
    "직접 해당하는 기능을 구현한다고 하였을 때, 빈칸 (a), (b), (c)에 들어갈 코드로 적절한 것을 작성하시오. (힌트: 생성자 메서드와 함수의 개념)"
   ]
  },
  {
   "cell_type": "code",
   "execution_count": 1,
   "metadata": {},
   "outputs": [],
   "source": [
    "class Faker():\n",
    "\n",
    "    def __init__(self, args1):\n",
    "        pass\n",
    "# a = init\n",
    "# b = self\n",
    "# c = lang(en_US), (ko_KR) 등 언어를 말하는 변수"
   ]
  },
  {
   "cell_type": "markdown",
   "metadata": {},
   "source": [
    "## 4. Seeding the Generator\n",
    "컴퓨터 프로그래밍에서 임의의 값을 반환하는 경우(난수 생성 등) 시드라는 개념이 있다. <br>\n",
    "시드를 설정하게 되면 동일한 순서로 난수를 발생시킬 수 있어 일반적으로 디버깅을 위하여 활용 된다."
   ]
  },
  {
   "cell_type": "code",
   "execution_count": 13,
   "metadata": {},
   "outputs": [
    {
     "name": "stdout",
     "output_type": "stream",
     "text": [
      "0.3276026268672184\n",
      "0.5024769476936837\n",
      "0.8170477907294282\n",
      "0.5765870569118247\n"
     ]
    }
   ],
   "source": [
    "import random\n",
    "\n",
    "print(random.random()) # 임의의 수\n",
    "print(random.random()) # 임의의 수\n",
    "\n",
    "random.seed(7777)\n",
    "print(random.random())\n",
    "\n",
    "random.seed(8888)\n",
    "print(random.random()) # 0.5765870569118247"
   ]
  },
  {
   "cell_type": "markdown",
   "metadata": {},
   "source": [
    "① 아래의 코드를 실행 했을 때, #1과 #2에서 출력되는 결과를 각각 작성하고,\n",
    "seed()는 어떤 종류의 메서드인지 작성하시오."
   ]
  },
  {
   "cell_type": "code",
   "execution_count": 15,
   "metadata": {},
   "outputs": [
    {
     "name": "stdout",
     "output_type": "stream",
     "text": [
      "이진호\n",
      "강은주\n"
     ]
    }
   ],
   "source": [
    "fake1 = Faker('ko_KR')\n",
    "Faker.seed(87654321) # 클래스 메서드\n",
    "\n",
    "print(fake1.name()) # 1 이진호\n",
    "\n",
    "fake2 = Faker('ko_KR')\n",
    "print(fake2.name()) # 2 강은주"
   ]
  },
  {
   "cell_type": "markdown",
   "metadata": {},
   "source": [
    "② 아래의 코드를 실행 했을 때, #1과 #2에서 출력되는 결과를 각각 작성하고,\n",
    "seed_instance()는 어떤 종류의 메서드인지 작성하시오."
   ]
  },
  {
   "cell_type": "code",
   "execution_count": 18,
   "metadata": {},
   "outputs": [
    {
     "name": "stdout",
     "output_type": "stream",
     "text": [
      "이진호\n",
      "김재호\n"
     ]
    }
   ],
   "source": [
    "fake1 = Faker('ko_KR')\n",
    "fake1.seed_instance(87654321) # 인스턴스 메서드\n",
    "\n",
    "print(fake1.name()) # 1 이진호\n",
    "\n",
    "fake2 = Faker('ko_KR')\n",
    "print(fake2.name()) # 2 윤아름, 김재호 (랜덤) !"
   ]
  }
 ],
 "metadata": {
  "kernelspec": {
   "display_name": "Python 3.9.13 64-bit",
   "language": "python",
   "name": "python3"
  },
  "language_info": {
   "codemirror_mode": {
    "name": "ipython",
    "version": 3
   },
   "file_extension": ".py",
   "mimetype": "text/x-python",
   "name": "python",
   "nbconvert_exporter": "python",
   "pygments_lexer": "ipython3",
   "version": "3.9.13"
  },
  "orig_nbformat": 4,
  "vscode": {
   "interpreter": {
    "hash": "c4b9ebf4ca459396e2ad1150752490c26670c1a037c08cad955a4425787bec2e"
   }
  }
 },
 "nbformat": 4,
 "nbformat_minor": 2
}
