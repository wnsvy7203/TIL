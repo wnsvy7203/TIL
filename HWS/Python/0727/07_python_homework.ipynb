{
 "cells": [
  {
   "cell_type": "markdown",
   "metadata": {},
   "source": [
    "# Python 07. 객체 지향 프로그래밍 "
   ]
  },
  {
   "cell_type": "markdown",
   "metadata": {},
   "source": [
    "## 1. Type Class\n",
    "Python은 객체 지향 프로그래밍 언어이다. Python에서 기본적으로 정의되어 있는 클래스를 최소 5가지 이상 작성하시오."
   ]
  },
  {
   "cell_type": "code",
   "execution_count": 4,
   "metadata": {},
   "outputs": [],
   "source": [
    "# int, float, str, map, zip, tuple, list, set, dict 등등"
   ]
  },
  {
   "cell_type": "markdown",
   "metadata": {},
   "source": [
    "## 2. Magic Method\n",
    "아래에 제시된 매직 메서드들이 각각 어떠한 역할을 하는지 간단하게 작성하시오."
   ]
  },
  {
   "cell_type": "code",
   "execution_count": 2,
   "metadata": {},
   "outputs": [],
   "source": [
    "# __init__, __del__, __str__, __repr__\n",
    "\n",
    "# (1) __init__ : 인스턴스가 생성될 때(메모리에 올라올 때)\n",
    "# (2) __del__ : 인스턴스가 소멸할 때(메모리에서 삭제될 때)\n",
    "# (3) __str__ : 인스턴스가 print()할 때 보여지는 값(인스턴스의 문자열화(化))\n",
    "# (4) __repr__ : 인스턴스 자체가 반환할 값"
   ]
  },
  {
   "cell_type": "markdown",
   "metadata": {},
   "source": [
    "## 3. Instance Method\n",
    "`.sort()`와 같이 문자열, 리스트, 딕셔너리 등을 조작할 때 사용하였던 것들은 클래스에 정의된 메서드들이었다. 이처럼 문자열, 리스트, 딕셔너리 등을 조작하는 메서드를 최소 3가지 이상 그 역할과 함께 작성하시오."
   ]
  },
  {
   "cell_type": "code",
   "execution_count": null,
   "metadata": {},
   "outputs": [],
   "source": [
    "# list.method\n",
    "# (1) set.add(x): 셋에 항목 x 추가\n",
    "# (2) list.reverse(): 리스트를 거꾸로 정렬\n",
    "# (3) list.append(x): 리스트 마지막에 항목 x 추가\n",
    "# (4) set.discrda(x): 셋에 항목 x가 있는 경우, 항목 x를 셋에서 삭제"
   ]
  },
  {
   "cell_type": "markdown",
   "metadata": {},
   "source": [
    "## 4. 오류의 종류\n",
    "아래에 제시된 오류들이 각각 어떠한 경우에 발생하는지 간단하게 작성하시오."
   ]
  },
  {
   "cell_type": "code",
   "execution_count": null,
   "metadata": {},
   "outputs": [],
   "source": [
    "# ZeroDivisionError: 0으로 나눌 때 발생\n",
    "# NameError: namespace 상에 이름이 없는 경우\n",
    "# TypeError: 타입 불일치, argument 누락, argument 개수 초과, argument type 불일치\n",
    "# IndexError: 인덱스가 존재하지 않거나 범위를 벗어나는 경우\n",
    "# KeyError: 해당 키가 존재하지 않는 경우\n",
    "# ModuleNotFoundError: 모듈을 찾을 수 없을 때\n",
    "# ImportError: 모듈은 있으나 존재하지 않는 클래스/함수를 가져오는 경우"
   ]
  }
 ],
 "metadata": {
  "kernelspec": {
   "display_name": "Python 3.9.13 64-bit",
   "language": "python",
   "name": "python3"
  },
  "language_info": {
   "codemirror_mode": {
    "name": "ipython",
    "version": 3
   },
   "file_extension": ".py",
   "mimetype": "text/x-python",
   "name": "python",
   "nbconvert_exporter": "python",
   "pygments_lexer": "ipython3",
   "version": "3.9.13"
  },
  "orig_nbformat": 4,
  "vscode": {
   "interpreter": {
    "hash": "c4b9ebf4ca459396e2ad1150752490c26670c1a037c08cad955a4425787bec2e"
   }
  }
 },
 "nbformat": 4,
 "nbformat_minor": 2
}
