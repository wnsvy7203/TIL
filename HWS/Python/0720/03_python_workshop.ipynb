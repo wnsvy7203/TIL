{
 "cells": [
  {
   "cell_type": "markdown",
   "id": "58e9b005",
   "metadata": {},
   "source": [
    "# Python 03. 제어문"
   ]
  },
  {
   "cell_type": "markdown",
   "id": "94d75d08",
   "metadata": {},
   "source": [
    "## 1. 세로로 출력하기\n",
    "자연수 number를 입력 받아, 1부터 number까지의 수를 세로로 한줄씩 출력하시오."
   ]
  },
  {
   "cell_type": "markdown",
   "id": "54ec7304",
   "metadata": {},
   "source": [
    "```\n",
    "[입력 예시]\n",
    "10\n",
    "\n",
    "[출력 예시]\n",
    "1\n",
    "2\n",
    "3\n",
    "4\n",
    "5\n",
    "6\n",
    "7\n",
    "8\n",
    "9\n",
    "10\n",
    "```"
   ]
  },
  {
   "cell_type": "code",
   "execution_count": 1,
   "id": "46431190",
   "metadata": {},
   "outputs": [
    {
     "name": "stdout",
     "output_type": "stream",
     "text": [
      "10\n",
      "1\n",
      "2\n",
      "3\n",
      "4\n",
      "5\n",
      "6\n",
      "7\n",
      "8\n",
      "9\n",
      "10\n"
     ]
    }
   ],
   "source": [
    "number = int(input())\n",
    "\n",
    "for i in range(1, number + 1):\n",
    "    print(i)"
   ]
  },
  {
   "cell_type": "markdown",
   "id": "76a2a2c1",
   "metadata": {},
   "source": [
    "# 2. 가로로 출력하기\n",
    "자연수 number를 입력 받아, 1부터 number까지의 수를 가로로 한칸씩 띄어 출력하시오.<br><br>\n",
    "\n",
    "```\n",
    "[입력 예시]\n",
    "10\n",
    "\n",
    "[출력 예시]\n",
    "1 2 3 4 5 6 7 8 9 10\n",
    "```"
   ]
  },
  {
   "cell_type": "code",
   "execution_count": 2,
   "id": "569a147f",
   "metadata": {},
   "outputs": [
    {
     "name": "stdout",
     "output_type": "stream",
     "text": [
      "5\n",
      "1 2 3 4 5 "
     ]
    }
   ],
   "source": [
    "num = int(input())\n",
    "\n",
    "for i in range(1, num + 1):\n",
    "    print(i, end = ' ')"
   ]
  },
  {
   "cell_type": "markdown",
   "id": "79b24cc5",
   "metadata": {},
   "source": [
    "## 3. 거꾸로 세로로 출력하기\n",
    "자연수 number를 입력 받아, number부터 0까지의 수를 세로로 한줄씩 출력하시오."
   ]
  },
  {
   "cell_type": "code",
   "execution_count": 3,
   "id": "0a9b13b6",
   "metadata": {},
   "outputs": [
    {
     "name": "stdout",
     "output_type": "stream",
     "text": [
      "5\n",
      "5\n",
      "4\n",
      "3\n",
      "2\n",
      "1\n",
      "0\n"
     ]
    }
   ],
   "source": [
    "num = int(input())\n",
    "\n",
    "for i in range(num, -1, -1):\n",
    "    print(i)"
   ]
  },
  {
   "cell_type": "markdown",
   "id": "0e75ff7f",
   "metadata": {},
   "source": [
    "## 4. 거꾸로 출력해 보아요 (SWEA #1545)\n",
    "자연수 number를 입력 받아, number부터 0까지의 수를 가로로 한칸씩 띄어 출력하시오."
   ]
  },
  {
   "cell_type": "code",
   "execution_count": 4,
   "id": "bd3bf328",
   "metadata": {
    "scrolled": true
   },
   "outputs": [
    {
     "name": "stdout",
     "output_type": "stream",
     "text": [
      "5\n",
      "5 4 3 2 1 0 "
     ]
    }
   ],
   "source": [
    "num = int(input())\n",
    "\n",
    "for i in range(num, -1, -1):\n",
    "    print(i, end = ' ')"
   ]
  },
  {
   "cell_type": "markdown",
   "id": "5fe769a4",
   "metadata": {},
   "source": [
    "## 5. N 줄 덧셈 (SWEA #2025)\n",
    "입력으로 자연수 number 가 주어질 때 , 1 부터 주어진 자연수 number 까지를 모두 더한 값을 출력하시오. 단, 주어지는 숫자는 10000을 넘지 않는다. 예를 들어, 주어진 숫자가 10 일 경우 1 + 2 + 3 + 4 + 5 + 6 + 7 + 8 + 9 + 10 = 55 이므로, 출력해야 할 값은 55이다."
   ]
  },
  {
   "cell_type": "code",
   "execution_count": 1,
   "id": "fcb3569c",
   "metadata": {},
   "outputs": [
    {
     "name": "stdout",
     "output_type": "stream",
     "text": [
      "7626\n"
     ]
    }
   ],
   "source": [
    "num = int(input())\n",
    "sum = 0\n",
    "\n",
    "for i in range(1, num + 1):\n",
    "    sum += i\n",
    "\n",
    "print(sum)"
   ]
  },
  {
   "cell_type": "markdown",
   "id": "5b8ae60e",
   "metadata": {},
   "source": [
    "## 6. 삼각형 출력하기\n",
    "자연수 number를 입력 받아, 아래와 같이 높이가 number 인 삼각형을 출력하시오."
   ]
  },
  {
   "cell_type": "code",
   "execution_count": 6,
   "id": "0d7605d6",
   "metadata": {},
   "outputs": [
    {
     "name": "stdout",
     "output_type": "stream",
     "text": [
      "7\n",
      "       \n",
      "      *\n",
      "     **\n",
      "    ***\n",
      "   ****\n",
      "  *****\n",
      " ******\n",
      "*******\n"
     ]
    }
   ],
   "source": [
    "num = int(input())\n",
    "\n",
    "for i in range(num + 1):\n",
    "    print(' '*(num - i) + '*' * i)"
   ]
  },
  {
   "cell_type": "markdown",
   "id": "3ae6651f",
   "metadata": {},
   "source": [
    "## 7. 중간값 찾기 (SWEA #2063 변형)\n",
    "중간값은 통계 집단의 수치를 크기 순으로 배열 했을 때 전체의 중앙에 위치하는 수치를 뜻한다. 리스트 numbers 에 입력된 숫자에서 중간값을 출력하라."
   ]
  },
  {
   "cell_type": "code",
   "execution_count": 3,
   "id": "c9ff0fce",
   "metadata": {},
   "outputs": [
    {
     "name": "stdout",
     "output_type": "stream",
     "text": [
      "64\n"
     ]
    }
   ],
   "source": [
    "numbers = [85, 72, 38, 80, 69, 65, 68, 96, 22, 49, 67,\n",
    "            51, 61, 63, 87, 66, 24, 80, 83, 71, 60, 64,\n",
    "            52, 90, 60, 49, 31, 23, 99, 94, 11, 25, 24]\n",
    "\n",
    "print(sorted(numbers)[len(numbers)//2])"
   ]
  },
  {
   "cell_type": "code",
   "execution_count": 4,
   "id": "a1b76753",
   "metadata": {},
   "outputs": [
    {
     "name": "stdout",
     "output_type": "stream",
     "text": [
      "[1, 5, 6, 8, 15, 20, 31, 39, 40, 49]\n",
      "[39, 49, 20, 1, 40, 5, 6, 8, 31, 15]\n"
     ]
    }
   ],
   "source": [
    "numbers = [39, 49, 20, 1, 40, 5, 6, 8, 31, 15]\n",
    "\n",
    "# sorted 함수 : 기존 리스트는 건드리지 않고, 정렬된 새로운 리스트를 리턴\n",
    "new = sorted(numbers)\n",
    "print(new)\n",
    "\n",
    "new = sorted(numbers, reverse = True)\n",
    "\n",
    "print(numbers)\n",
    "numbers = [39, 49, 20, 1, 40, 5, 6, 8, 31, 15]\n",
    "\n",
    "# sorted는 numbers는 건드리지 않는다."
   ]
  },
  {
   "cell_type": "code",
   "execution_count": 8,
   "id": "075ad56f",
   "metadata": {},
   "outputs": [
    {
     "name": "stdout",
     "output_type": "stream",
     "text": [
      "None\n",
      "[1, 5, 6, 8, 15, 20, 31, 39, 40, 49]\n",
      "[49, 40, 39, 31, 20, 15, 8, 6, 5, 1]\n"
     ]
    }
   ],
   "source": [
    "numbers = [39, 49, 20, 1, 40, 5, 6, 8, 31, 15]\n",
    "\n",
    "# sort 함수 : 기존 리스트를 정렬\n",
    "print(numbers.sort()) # None\n",
    "\n",
    "numbers.sort()\n",
    "print(numbers) # [1, 5, 6, 8, 15, 20, 31, 39, 40, 49]\n",
    "\n",
    "numbers.sort(reverse = True)\n",
    "print(numbers) # [49, 40, 39, 31, 20, 15, 8, 6, 5, 1]"
   ]
  }
 ],
 "metadata": {
  "kernelspec": {
   "display_name": "Python 3.9.13 64-bit",
   "language": "python",
   "name": "python3"
  },
  "language_info": {
   "codemirror_mode": {
    "name": "ipython",
    "version": 3
   },
   "file_extension": ".py",
   "mimetype": "text/x-python",
   "name": "python",
   "nbconvert_exporter": "python",
   "pygments_lexer": "ipython3",
   "version": "3.9.13"
  },
  "vscode": {
   "interpreter": {
    "hash": "d0f63c8ac4ae55f0599ce1f2b79c462941338767091400e19b50672fdac5e4d3"
   }
  }
 },
 "nbformat": 4,
 "nbformat_minor": 5
}
