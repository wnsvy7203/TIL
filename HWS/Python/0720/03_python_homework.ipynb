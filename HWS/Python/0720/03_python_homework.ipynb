{
 "cells": [
  {
   "cell_type": "markdown",
   "id": "01f9c45c",
   "metadata": {},
   "source": [
    "# Python 03. 제어문과 함수"
   ]
  },
  {
   "cell_type": "markdown",
   "id": "f1f0e807",
   "metadata": {},
   "source": [
    "## 1. Built-in 함수\n",
    "Python에서 기본으로 사용할 수 있는 built-in 함수를 최소 5가지 이상 작성하시오."
   ]
  },
  {
   "cell_type": "markdown",
   "id": "21bbe667",
   "metadata": {},
   "source": [
    "int 함수\n",
    "float 함수\n",
    "print 함수\n",
    "input 함수\n",
    "type 함수\n",
    "sum 함수"
   ]
  },
  {
   "cell_type": "markdown",
   "id": "bf3342da",
   "metadata": {},
   "source": [
    "## 2. 홀수만 담기\n",
    "range와 slicing을 활용하여 1부터 50까지의 숫자 중, 홀수로만 이루어진 리스트를 만드시오."
   ]
  },
  {
   "cell_type": "code",
   "execution_count": 1,
   "id": "daaf1efa",
   "metadata": {},
   "outputs": [
    {
     "name": "stdout",
     "output_type": "stream",
     "text": [
      "[1, 3, 5, 7, 9, 11, 13, 15, 17, 19, 21, 23, 25, 27, 29, 31, 33, 35, 37, 39, 41, 43, 45, 47, 49]\n"
     ]
    }
   ],
   "source": [
    "N = list(range(1, 51)[::2])\n",
    "\n",
    "print(N)"
   ]
  },
  {
   "cell_type": "markdown",
   "id": "505eaf72",
   "metadata": {},
   "source": [
    "## 3. 반복문으로 네모 출력\n",
    "두 개의 정수 n과 m이 주어졌을 때, 가로의 길이가 n, 세로의 길이가 m인 직사각형 형태를 별 문자를 이용하여 출력하시오. 단, 반복문을 사용하여 작성하시오."
   ]
  },
  {
   "cell_type": "code",
   "execution_count": 10,
   "id": "d32c2cc2",
   "metadata": {},
   "outputs": [
    {
     "name": "stdout",
     "output_type": "stream",
     "text": [
      "*****\n",
      "*****\n",
      "*****\n",
      "*****\n",
      "*****\n",
      "*****\n",
      "*****\n",
      "*****\n",
      "*****\n"
     ]
    }
   ],
   "source": [
    "n = 5\n",
    "m = 9\n",
    "\n",
    "for i in range(m):\n",
    "    for j in range(n):\n",
    "        print('*', end = '')\n",
    "    print()"
   ]
  },
  {
   "cell_type": "markdown",
   "id": "244559a0",
   "metadata": {},
   "source": [
    "## 4. 조건 표현식\n",
    "주어진 코드의 조건문을 조건 표현식으로 바꾸어 작성하시오."
   ]
  },
  {
   "cell_type": "code",
   "execution_count": 12,
   "id": "c4ccb317",
   "metadata": {},
   "outputs": [
    {
     "name": "stdout",
     "output_type": "stream",
     "text": [
      "입실 가능\n"
     ]
    }
   ],
   "source": [
    "temp = 36.5\n",
    "T = print('입실 불가') if temp>=37.5 else print('입실 가능')"
   ]
  },
  {
   "cell_type": "markdown",
   "id": "0c8953ca",
   "metadata": {},
   "source": [
    "## 5. 정중앙 문자\n",
    "문자열을 전달 받아 해당 문자열의 정중앙 문자를 반환하는 get_middle_char 함수를 작성하시오. 단, 문자열의 길이가 짝수일 경우에는 정중앙 문자 2개를 반환한다."
   ]
  },
  {
   "cell_type": "code",
   "execution_count": 3,
   "id": "faa283a0",
   "metadata": {},
   "outputs": [
    {
     "name": "stdout",
     "output_type": "stream",
     "text": [
      "di\n"
     ]
    }
   ],
   "source": [
    "N = input()\n",
    "\n",
    "def get_middle_char(N):\n",
    "    if len(N) % 2 == 0:\n",
    "        return N[(len(N)//2)-1]+N[len(N)//2]\n",
    "    else:\n",
    "        return N[len(N)//2]\n",
    "\n",
    "\n",
    "print(get_middle_char(N))"
   ]
  },
  {
   "cell_type": "code",
   "execution_count": null,
   "id": "b1f25855",
   "metadata": {},
   "outputs": [],
   "source": []
  }
 ],
 "metadata": {
  "kernelspec": {
   "display_name": "Python 3.9.13 64-bit",
   "language": "python",
   "name": "python3"
  },
  "language_info": {
   "codemirror_mode": {
    "name": "ipython",
    "version": 3
   },
   "file_extension": ".py",
   "mimetype": "text/x-python",
   "name": "python",
   "nbconvert_exporter": "python",
   "pygments_lexer": "ipython3",
   "version": "3.9.13"
  },
  "vscode": {
   "interpreter": {
    "hash": "d0f63c8ac4ae55f0599ce1f2b79c462941338767091400e19b50672fdac5e4d3"
   }
  }
 },
 "nbformat": 4,
 "nbformat_minor": 5
}
