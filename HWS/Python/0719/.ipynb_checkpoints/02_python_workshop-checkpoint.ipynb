{
 "cells": [
  {
   "cell_type": "markdown",
   "id": "c1f9216e",
   "metadata": {},
   "source": [
    "# Python 02. 데이터 타입 및 형 변환"
   ]
  },
  {
   "cell_type": "markdown",
   "id": "7b8eb2a7",
   "metadata": {},
   "source": [
    "## 1. 숫자의 입력과 출력\n",
    "입력 받은 데이터를 숫자로 변환하고 덧셈해서 출력하는 프로그램을 작성하시오.<br>\n",
    "(힌트 : `input()` 함수를 활용하여 데이터를 입력받을 수 있다.)"
   ]
  },
  {
   "cell_type": "markdown",
   "id": "f61cb5e8",
   "metadata": {},
   "source": [
    "[입력]<br>\n",
    "숫자를 2번 입력받는다.<br><br>\n",
    "[출력]<br>\n",
    "입력 숫자를 계산하여 값을 출력한다.<br><br>\n",
    "[입력 예시]<br>\n",
    "6374<br>\n",
    "8729<br><br>\n",
    "[출력 예시]<br>\n",
    "15103"
   ]
  },
  {
   "cell_type": "code",
   "execution_count": 2,
   "id": "260589fa",
   "metadata": {},
   "outputs": [
    {
     "name": "stdout",
     "output_type": "stream",
     "text": [
      "6374 8729\n",
      "15103\n"
     ]
    }
   ],
   "source": [
    "a, b = map(int, input().split())\n",
    "print(a + b)"
   ]
  },
  {
   "cell_type": "markdown",
   "id": "b310ad7b",
   "metadata": {},
   "source": [
    "## 2. Dictionary를 활용하여 평균 구하기\n",
    "좋아하는 점심메뉴를 이용하여 key는 메뉴, value는 가격인 dictionary를 만들고,<br>\n",
    "점심메뉴의 평균 값을 출력하시오."
   ]
  },
  {
   "cell_type": "code",
   "execution_count": 4,
   "id": "7f80d314",
   "metadata": {},
   "outputs": [
    {
     "name": "stdout",
     "output_type": "stream",
     "text": [
      "2875.0\n"
     ]
    }
   ],
   "source": [
    "lunch_menu = {'달인김밥': 2200, '계란지단김밥': 2800, '돈까스김밥': 3500, '치즈김밥': 3000}\n",
    "print(sum(lunch_menu.values())/len(lunch_menu))"
   ]
  }
 ],
 "metadata": {
  "kernelspec": {
   "display_name": "Python 3 (ipykernel)",
   "language": "python",
   "name": "python3"
  },
  "language_info": {
   "codemirror_mode": {
    "name": "ipython",
    "version": 3
   },
   "file_extension": ".py",
   "mimetype": "text/x-python",
   "name": "python",
   "nbconvert_exporter": "python",
   "pygments_lexer": "ipython3",
   "version": "3.9.13"
  }
 },
 "nbformat": 4,
 "nbformat_minor": 5
}
