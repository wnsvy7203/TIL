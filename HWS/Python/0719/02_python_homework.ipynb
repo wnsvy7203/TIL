{
 "cells": [
  {
   "cell_type": "markdown",
   "id": "1d651e05",
   "metadata": {},
   "source": [
    "# Python 02. 기초문법과 데이터 타입 및 형 변환"
   ]
  },
  {
   "cell_type": "markdown",
   "id": "c10c48f7",
   "metadata": {},
   "source": [
    "## 1. Mutable & Immutable\n",
    "주어진 컨테이너들을 각각 변경 가능한 것(mutable)과<br>변경 불가능한 것(immtuable)으로 분류하시오.<br><br>String, List, Tuple, Range, Set, Dictionary"
   ]
  },
  {
   "cell_type": "markdown",
   "id": "76603282",
   "metadata": {},
   "source": [
    "String, List, Set, Dictionary = 가변형<br>\n",
    "Tuple, Range = 불가변형"
   ]
  },
  {
   "cell_type": "markdown",
   "id": "f3c3e1cb",
   "metadata": {},
   "source": [
    "## 2. Dictionary 만들기\n",
    "반 학생들의 정보를 이용하여 key는 이름, value는 나이인 dictionary를 만드시오.<br>\n",
    "내 자리를 기준으로 앞, 뒤, 좌, 우에 앉아 있는 학생의 정보를 참고하시오."
   ]
  },
  {
   "cell_type": "code",
   "execution_count": 2,
   "id": "1765dc01",
   "metadata": {},
   "outputs": [
    {
     "name": "stdout",
     "output_type": "stream",
     "text": [
      "{'김희제': 27, '박준영': 31, '이상찬': 31}\n"
     ]
    }
   ],
   "source": [
    "info = {'김희제': 27, '박준영': 31, '이상찬': 31}\n",
    "print(info)"
   ]
  },
  {
   "cell_type": "markdown",
   "id": "1f995a87",
   "metadata": {},
   "source": [
    "## 3. 평균 구하기\n",
    "주어진 list 에 담긴 숫자들의 평균값을 출력하시오.<br>\n",
    "scores = [80, 89, 99, 83]"
   ]
  },
  {
   "cell_type": "code",
   "execution_count": 7,
   "id": "b1efd403",
   "metadata": {},
   "outputs": [
    {
     "name": "stdout",
     "output_type": "stream",
     "text": [
      "87.75\n"
     ]
    }
   ],
   "source": [
    "scores = [80, 89, 99, 83]\n",
    "print(sum(scores)/len(scores))"
   ]
  }
 ],
 "metadata": {
  "kernelspec": {
   "display_name": "Python 3.9.13 64-bit",
   "language": "python",
   "name": "python3"
  },
  "language_info": {
   "codemirror_mode": {
    "name": "ipython",
    "version": 3
   },
   "file_extension": ".py",
   "mimetype": "text/x-python",
   "name": "python",
   "nbconvert_exporter": "python",
   "pygments_lexer": "ipython3",
   "version": "3.9.13"
  },
  "vscode": {
   "interpreter": {
    "hash": "d0f63c8ac4ae55f0599ce1f2b79c462941338767091400e19b50672fdac5e4d3"
   }
  }
 },
 "nbformat": 4,
 "nbformat_minor": 5
}
