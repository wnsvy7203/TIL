{
 "cells": [
  {
   "cell_type": "markdown",
   "metadata": {},
   "source": [
    "# Python 06. 데이터 구조 및 활용"
   ]
  },
  {
   "cell_type": "markdown",
   "metadata": {},
   "source": [
    "## 1. 무엇이 중복일까\n",
    "문자열을 전달 받아 해당 문자열에서 중복해서 나타난 문자들을 담은 list를 반환하는 duplicatd_letters 함수를 작성하시오."
   ]
  },
  {
   "cell_type": "code",
   "execution_count": 3,
   "metadata": {},
   "outputs": [
    {
     "name": "stdout",
     "output_type": "stream",
     "text": [
      "['p']\n",
      "['a', 'n']\n"
     ]
    }
   ],
   "source": [
    "# 어떤 문자가 2회 이상 나오면 그 문자를 반환하고,\n",
    "# 이미 반환된 문자들은 다음에 또 나와도 넘어가게끔\n",
    "def duplicated_letters(words):\n",
    "    duplicated_list = set()\n",
    "    for i in range(len(words)):\n",
    "        if words.count(words[i]) > 1:\n",
    "            duplicated_list.update(words[i])\n",
    "    return list(duplicated_list)\n",
    "\n",
    "print(duplicated_letters('apple')) # => ['p']\n",
    "print(duplicated_letters('banana')) # => ['a', 'n']"
   ]
  },
  {
   "cell_type": "code",
   "execution_count": 13,
   "metadata": {},
   "outputs": [
    {
     "name": "stdout",
     "output_type": "stream",
     "text": [
      "['p']\n",
      "['a', 'n']\n"
     ]
    }
   ],
   "source": [
    "# 어떤 문자가 2회 이상 나오면 그 문자를 반환하고,\n",
    "# 이미 반환된 문자들은 다음에 또 나와도 넘어가게끔\n",
    "def duplicated_letters(words):\n",
    "    duplicated_list = []\n",
    "    for char in words:\n",
    "        if words.count(char) > 1 and (char not in duplicated_list):\n",
    "            duplicated_list.append(char)\n",
    "    return (duplicated_list)\n",
    "\n",
    "print(duplicated_letters('apple')) # => ['p']\n",
    "print(duplicated_letters('banana')) # => ['a', 'n']"
   ]
  },
  {
   "cell_type": "code",
   "execution_count": 15,
   "metadata": {},
   "outputs": [
    {
     "name": "stdout",
     "output_type": "stream",
     "text": [
      "['p']\n",
      "['a', 'n']\n"
     ]
    }
   ],
   "source": [
    "# list_comprehension\n",
    "\n",
    "def duplicate_letters(words):\n",
    "    return list({ char for char in words if words.count(char) > 1 })\n",
    "\n",
    "print(duplicated_letters('apple'))\n",
    "print(duplicated_letters('banana'))"
   ]
  },
  {
   "cell_type": "markdown",
   "metadata": {},
   "source": [
    "## 2. 소대소대\n",
    "문자열을 전달 받아 해당 문자열을 소문자와 대문자가 번갈아 나타나도록 변환하여 반환하는 low_and_up 함수를 작성하시오.<br>\n",
    "이때, 전달 받는 문자열은 알파벳으로만 구성된다."
   ]
  },
  {
   "cell_type": "code",
   "execution_count": 22,
   "metadata": {},
   "outputs": [
    {
     "name": "stdout",
     "output_type": "stream",
     "text": [
      "aPpLe\n",
      "bAnAnA\n"
     ]
    }
   ],
   "source": [
    "# 인덱스가 홀수면 대문자, 짝수면 소문자로 출력하도록\n",
    "def low_and_up(word):\n",
    "    new_word = ''\n",
    "    for idx, char in enumerate(word):\n",
    "        if idx % 2:\n",
    "            new_word = new_word + char.upper()\n",
    "            # upper와 lower에는 argument가 있으면 안 돼\n",
    "        else:\n",
    "            new_word = new_word + char.lower()\n",
    "    return new_word\n",
    "\n",
    "print(low_and_up('apple')) # => aPpLe\n",
    "print(low_and_up('banana')) # => bAnAnA"
   ]
  },
  {
   "cell_type": "code",
   "execution_count": 26,
   "metadata": {},
   "outputs": [
    {
     "name": "stdout",
     "output_type": "stream",
     "text": [
      "aPpLe\n",
      "bAnAnA\n"
     ]
    }
   ],
   "source": [
    "# list_comprehension\n",
    "def low_and_up(word):\n",
    "    new_word = [char.upper() if idx % 2 else char.lower() for idx, char in enumerate(word)]\n",
    "    return ''.join(new_word)\n",
    "\n",
    "print(low_and_up('apple'))\n",
    "print(low_and_up('banana'))"
   ]
  },
  {
   "cell_type": "markdown",
   "metadata": {},
   "source": [
    "## 3. 솔로 천국 만들기\n",
    "정수 0부터 9까지로 이루어진 list를 전달 받아, 연속적으로 나타나는 숫자는 하나만 남기고 제거한 list를 반환하는 lonely 함수를 작성하시오.<br>\n",
    "이때, 제거된 후 남은 수들이 담긴 list의 요소들은 기존의 순서를 유지해야 한다."
   ]
  },
  {
   "cell_type": "code",
   "execution_count": 16,
   "metadata": {},
   "outputs": [
    {
     "name": "stdout",
     "output_type": "stream",
     "text": [
      "[1, 3, 0, 1]\n",
      "[4, 3]\n"
     ]
    }
   ],
   "source": [
    "# 새로운 리스트를 정의하고,\n",
    "# 앞의 요소와 비교했을 때 같지 않은 경우에만\n",
    "# 새로운 리스트에 추가\n",
    "def lonely(solo):\n",
    "    solo_list = []\n",
    "    for i in range(len(solo)):\n",
    "        if i == 0:\n",
    "            solo_list.append(solo[i])\n",
    "        elif solo[i] != solo[i-1]:\n",
    "            solo_list.append(solo[i])\n",
    "    return solo_list\n",
    "\n",
    "print(lonely([1, 1, 3, 3, 0, 1, 1])) # => [1, 3, 0, 1]\n",
    "print(lonely([4, 4, 4, 3, 3])) # => [4, 3]"
   ]
  },
  {
   "cell_type": "code",
   "execution_count": 28,
   "metadata": {},
   "outputs": [
    {
     "name": "stdout",
     "output_type": "stream",
     "text": [
      "[1, 3, 0, 1]\n",
      "[4, 3]\n"
     ]
    }
   ],
   "source": [
    "def lonely(solo):\n",
    "    solo_list = []\n",
    "\n",
    "    for idx, num in enumerate(solo):\n",
    "        if idx == 0:\n",
    "            solo_list.append(solo[idx])\n",
    "        elif solo_list[-1] != num:\n",
    "            solo_list.append(num)\n",
    "    return solo_list    \n",
    "\n",
    "print(lonely([1, 1, 3, 3, 0, 1, 1])) # => [1, 3, 0, 1]\n",
    "print(lonely([4, 4, 4, 3, 3])) # => [4, 3]"
   ]
  },
  {
   "cell_type": "code",
   "execution_count": 32,
   "metadata": {},
   "outputs": [
    {
     "name": "stdout",
     "output_type": "stream",
     "text": [
      "[1, 3, 1]\n",
      "[4, 3]\n"
     ]
    }
   ],
   "source": [
    "def lonely(solo):\n",
    "    solo_list = [solo[0]]\n",
    "    for n in solo:\n",
    "        if solo_list[-1] != n:\n",
    "            solo_list.append(solo[n])\n",
    "    return solo_list\n",
    "\n",
    "print(lonely([1, 1, 3, 3, 0, 1, 1])) # => [1, 3, 0, 1]\n",
    "print(lonely([4, 4, 4, 3, 3])) # => [4, 3]"
   ]
  }
 ],
 "metadata": {
  "kernelspec": {
   "display_name": "Python 3.9.13 64-bit",
   "language": "python",
   "name": "python3"
  },
  "language_info": {
   "codemirror_mode": {
    "name": "ipython",
    "version": 3
   },
   "file_extension": ".py",
   "mimetype": "text/x-python",
   "name": "python",
   "nbconvert_exporter": "python",
   "pygments_lexer": "ipython3",
   "version": "3.9.13"
  },
  "orig_nbformat": 4,
  "vscode": {
   "interpreter": {
    "hash": "c4b9ebf4ca459396e2ad1150752490c26670c1a037c08cad955a4425787bec2e"
   }
  }
 },
 "nbformat": 4,
 "nbformat_minor": 2
}
