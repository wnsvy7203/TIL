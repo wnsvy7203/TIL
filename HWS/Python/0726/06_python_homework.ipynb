{
 "cells": [
  {
   "cell_type": "markdown",
   "metadata": {},
   "source": [
    "# Python 06. 데이터 구조 및 활용"
   ]
  },
  {
   "cell_type": "markdown",
   "metadata": {},
   "source": [
    "## 1. Built-in 함수와 메서드\n",
    "`sorted()`와 `.sort()`의 차이점을 코드의 실행 결과를 활용하여 설명하시오."
   ]
  },
  {
   "cell_type": "code",
   "execution_count": 3,
   "metadata": {},
   "outputs": [
    {
     "name": "stdout",
     "output_type": "stream",
     "text": [
      "[1, 2, 3, 5, 6, 7, 8, 9]\n",
      "[3, 5, 6, 9, 2, 1, 8, 7] [1, 2, 3, 5, 6, 7, 8, 9]\n"
     ]
    }
   ],
   "source": [
    "a = [3, 5, 6, 9, 2, 1, 8, 7]\n",
    "a.sort()\n",
    "print(a)\n",
    "# .sort()는 원본 그 자체를 정렬한다.\n",
    "\n",
    "b = [3, 5, 6, 9, 2, 1, 8, 7]\n",
    "c = sorted(b)\n",
    "print(b, c)\n",
    "# sorted()는 새로 변수를 지정해야 정렬된 리스트를 출력한다."
   ]
  },
  {
   "cell_type": "markdown",
   "metadata": {},
   "source": [
    "## 2. extend()와 .append()\n",
    "`.extend()`와 `.append()`의 차이점을 코드의 실행 결과를 활용하여 설명하시오."
   ]
  },
  {
   "cell_type": "code",
   "execution_count": 11,
   "metadata": {},
   "outputs": [
    {
     "name": "stdout",
     "output_type": "stream",
     "text": [
      "[1, 4, 6, 8, 9, 3, 2, 7]\n",
      "[1, 4, 6, 8, 9, 3, 2, 'm']\n"
     ]
    }
   ],
   "source": [
    "a = [1, 4, 6, 8, 9, 3, 2]\n",
    "a.append(7)\n",
    "print(a)\n",
    "# .append()는 해당 요소를 맨 마지막에 추가시킨다.\n",
    "\n",
    "b = [1, 4, 6, 8, 9, 3, 2]\n",
    "b.extend(7) # TypeError: 'int' object is not iterable\n",
    "b.extend('m')\n",
    "print(b)\n",
    "# .extend()는 not iterable한 요소는 추가하지 못한다."
   ]
  },
  {
   "cell_type": "markdown",
   "metadata": {},
   "source": [
    "## 3. 복사가 잘 된 건가?\n",
    "아래의 코드를 실행 하였을 때, 변수 a와 b에 담긴 list의 요소가 같은지 혹은 다른지 여부를 판단하고 그 이유를 작성하시오."
   ]
  },
  {
   "cell_type": "code",
   "execution_count": 12,
   "metadata": {},
   "outputs": [
    {
     "name": "stdout",
     "output_type": "stream",
     "text": [
      "[1, 2, 5, 4, 5]\n",
      "[1, 2, 5, 4, 5]\n"
     ]
    }
   ],
   "source": [
    "a = [1, 2, 3, 4, 5]\n",
    "b = a\n",
    "a[2] = 5\n",
    "print(a)\n",
    "print(b)\n",
    "\n",
    "# 얕은 복사를 했기 때문에 a와 b는 참조 값이 같다.\n",
    "# 따라서 둘 중 하나만 바꿔도 둘 다 바뀌게 되어 같은 결과를 출력한다."
   ]
  }
 ],
 "metadata": {
  "kernelspec": {
   "display_name": "Python 3.9.13 64-bit",
   "language": "python",
   "name": "python3"
  },
  "language_info": {
   "codemirror_mode": {
    "name": "ipython",
    "version": 3
   },
   "file_extension": ".py",
   "mimetype": "text/x-python",
   "name": "python",
   "nbconvert_exporter": "python",
   "pygments_lexer": "ipython3",
   "version": "3.9.13"
  },
  "orig_nbformat": 4,
  "vscode": {
   "interpreter": {
    "hash": "c4b9ebf4ca459396e2ad1150752490c26670c1a037c08cad955a4425787bec2e"
   }
  }
 },
 "nbformat": 4,
 "nbformat_minor": 2
}
