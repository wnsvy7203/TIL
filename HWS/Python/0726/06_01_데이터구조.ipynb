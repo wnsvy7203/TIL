{
 "cells": [
  {
   "cell_type": "markdown",
   "id": "47ce9281",
   "metadata": {},
   "source": [
    "<p style=\"font-size: 33px; font-weight: 700; margin-bottom: 3rem\">데이터 구조(Data Structure)</p>\n",
    "\n",
    "데이터 구조(Data Structure) 혹은 자료구조란 데이터에 효율적인 접근 및 수정을 가능케 하는 데이터의 구성, 관리 및 저장형식을 의미합니다.\n",
    "\n",
    "보다 정확하게는 데이터 값들, 해당 값들의 관계, 그리고 해당 데이터들에게 적용할 수 있는 함수와 명령어들의 모음을 총칭하는 단어입니다.\n",
    "\n",
    "\n",
    "**<데이터의 분류>**\n",
    "- 순서가 있는 데이터 구조(Orderd)\n",
    "    - 문자열\n",
    "    - 리스트\n",
    "    - 튜플\n",
    "- 순서가 없는 데이터 구조(Unorderd)\n",
    "    - 셋(Set)\n",
    "    - 딕셔너리(Dictionary)"
   ]
  },
  {
   "cell_type": "markdown",
   "id": "18dd9234",
   "metadata": {},
   "source": [
    "\n",
    "<img src=\"https://user-images.githubusercontent.com/90173310/148184923-9b2910aa-a08c-4027-9315-b8d866819a6c.png\" alt=\"drawing\" width=\"700\"/>\n",
    "\n",
    "---"
   ]
  },
  {
   "cell_type": "markdown",
   "id": "7f42d763",
   "metadata": {},
   "source": [
    "<p style=\"font-size: 30px; font-weight: 700; margin-bottom: 3rem; color:#2889CC\">순서가 있는 데이터 구조</p>"
   ]
  },
  {
   "cell_type": "markdown",
   "id": "4d8c90e7",
   "metadata": {},
   "source": [
    "# 문자열(String)\n",
    "\n",
    "> 변경할 수 없고(immutable), 순서가 있고(ordered), 순회 가능한(iterable)\n",
    "\n",
    "참고 : [문자열의 다양한 조작법(method)](https://docs.python.org/ko/3/library/stdtypes.html#string-methods)"
   ]
  },
  {
   "cell_type": "markdown",
   "id": "b42f3459",
   "metadata": {},
   "source": [
    "## 조회/탐색\n",
    "\n",
    "### `.find(x)` \n",
    "\n",
    "x의 **첫 번째 위치**를 반환합니다. 만일 리스트 내에 x가 없으면, `-1`을 반환합니다."
   ]
  },
  {
   "cell_type": "code",
   "execution_count": 1,
   "id": "90053941",
   "metadata": {},
   "outputs": [],
   "source": [
    "a = 'apple'"
   ]
  },
  {
   "cell_type": "code",
   "execution_count": 2,
   "id": "7dceabed",
   "metadata": {},
   "outputs": [
    {
     "data": {
      "text/plain": [
       "1"
      ]
     },
     "execution_count": 2,
     "metadata": {},
     "output_type": "execute_result"
    }
   ],
   "source": [
    "# find 메서드로 a 문자열에 'p'가 있는지 찾아봅시다.\n",
    "a.find('p')"
   ]
  },
  {
   "cell_type": "code",
   "execution_count": 3,
   "id": "3c4f520b",
   "metadata": {},
   "outputs": [
    {
     "data": {
      "text/plain": [
       "-1"
      ]
     },
     "execution_count": 3,
     "metadata": {},
     "output_type": "execute_result"
    }
   ],
   "source": [
    "# find 메서드로 a 문자열에 'z'가 있는지 찾아봅시다.\n",
    "a.find('z')"
   ]
  },
  {
   "cell_type": "markdown",
   "id": "c44f825f",
   "metadata": {},
   "source": [
    "### `.index(x)`\n",
    "\n",
    "x의 **첫 번째 위치**를 반환합니다. 만일 x가 리스트 내에 없으면, 오류가 발생합니다."
   ]
  },
  {
   "cell_type": "code",
   "execution_count": 4,
   "id": "ae301115",
   "metadata": {},
   "outputs": [],
   "source": [
    "a = 'apple'"
   ]
  },
  {
   "cell_type": "code",
   "execution_count": 5,
   "id": "ccedd90b",
   "metadata": {},
   "outputs": [
    {
     "data": {
      "text/plain": [
       "1"
      ]
     },
     "execution_count": 5,
     "metadata": {},
     "output_type": "execute_result"
    }
   ],
   "source": [
    "# index 메서드는 찾고자 하는 문자가 문자열 내에 있을 경우, 첫 번째 위치를 반환합니다.\n",
    "# index 메서드로 a 문자열에서 'p'의 위치를 확인해봅시다.\n",
    "a.index('p')"
   ]
  },
  {
   "cell_type": "code",
   "execution_count": 6,
   "id": "6e138ab0",
   "metadata": {
    "scrolled": true
   },
   "outputs": [
    {
     "ename": "ValueError",
     "evalue": "substring not found",
     "output_type": "error",
     "traceback": [
      "\u001b[1;31m---------------------------------------------------------------------------\u001b[0m",
      "\u001b[1;31mValueError\u001b[0m                                Traceback (most recent call last)",
      "\u001b[1;32mc:\\Users\\SSAFY\\Desktop\\HWS\\0726\\06_01_데이터구조.ipynb 셀 12\u001b[0m in \u001b[0;36m<cell line: 3>\u001b[1;34m()\u001b[0m\n\u001b[0;32m      <a href='vscode-notebook-cell:/c%3A/Users/SSAFY/Desktop/HWS/0726/06_01_%EB%8D%B0%EC%9D%B4%ED%84%B0%EA%B5%AC%EC%A1%B0.ipynb#ch0000011?line=0'>1</a>\u001b[0m \u001b[39m# 찾고자 하는 문자가 문자열 내에 없을 경우, 오류가 발생합니다.\u001b[39;00m\n\u001b[0;32m      <a href='vscode-notebook-cell:/c%3A/Users/SSAFY/Desktop/HWS/0726/06_01_%EB%8D%B0%EC%9D%B4%ED%84%B0%EA%B5%AC%EC%A1%B0.ipynb#ch0000011?line=1'>2</a>\u001b[0m \u001b[39m# index 메서드로 a문자열에서 'z'의 위치를 찾고, 오류를 확인해봅시다.\u001b[39;00m\n\u001b[1;32m----> <a href='vscode-notebook-cell:/c%3A/Users/SSAFY/Desktop/HWS/0726/06_01_%EB%8D%B0%EC%9D%B4%ED%84%B0%EA%B5%AC%EC%A1%B0.ipynb#ch0000011?line=2'>3</a>\u001b[0m a\u001b[39m.\u001b[39;49mindex(\u001b[39m'\u001b[39;49m\u001b[39mz\u001b[39;49m\u001b[39m'\u001b[39;49m)\n",
      "\u001b[1;31mValueError\u001b[0m: substring not found"
     ]
    }
   ],
   "source": [
    "# 찾고자 하는 문자가 문자열 내에 없을 경우, 오류가 발생합니다.\n",
    "# index 메서드로 a문자열에서 'z'의 위치를 찾고, 오류를 확인해봅시다.\n",
    "a.index('z')"
   ]
  },
  {
   "cell_type": "markdown",
   "id": "206fdb81",
   "metadata": {},
   "source": [
    "### `.startswith(x)`, `/.endswith(x)`\n",
    "\n",
    "- `.startswith(x)` : 문자열이 x로 시작하면 True를 반환하고 아니면 False를 반환합니다.\n",
    "- `.endswith(x)` : 문자열이 x로 끝나면 True를 반환하고 아니면 False를 반환합니다.\n",
    "\n",
    "[PEP8 파이썬 스타일 가이드](https://www.python.org/dev/peps/pep-0008/)에서는 접두/접미 문자를 검색 시,\n",
    "화이트 스페이스나 인코딩 문제를 피하기 위해 문자열 분할보다 **startswith, endswith**를 권장합니다.\n",
    "\n",
    "```\n",
    "Use ''.startswith() and ''.endswith() instead of string slicing to check for prefixes or suffixes.\n",
    "\n",
    "startswith() and endswith() are cleaner and less error prone:\n",
    "\n",
    "# Correct:\n",
    "if foo.startswith('bar'):\n",
    "# Wrong:\n",
    "if foo[:3] == 'bar':\n",
    "```"
   ]
  },
  {
   "cell_type": "code",
   "execution_count": 11,
   "id": "0c9076a9",
   "metadata": {},
   "outputs": [],
   "source": [
    "a = 'hello python!'"
   ]
  },
  {
   "cell_type": "code",
   "execution_count": 12,
   "id": "a369fcc4",
   "metadata": {},
   "outputs": [
    {
     "data": {
      "text/plain": [
       "True"
      ]
     },
     "execution_count": 12,
     "metadata": {},
     "output_type": "execute_result"
    }
   ],
   "source": [
    "# startwith 메서드를 통해 접두문자가 'hello'인지 확인해봅시다.\n",
    "a.startswith('hello')"
   ]
  },
  {
   "cell_type": "markdown",
   "id": "775d504b",
   "metadata": {},
   "source": [
    "### 기타 문자열 관련 검증 메서드\n",
    "\n",
    "`is~` 로 시작하는 많은 메서드들은 문자열이 어떠한 조건에 해당하는지 검증하는 역할을 합니다.\n",
    "\n",
    "- `.isalpha()` : 문자열이 (숫자가 아닌)글자로 이루어져 있는가?\n",
    "-  `.isspace()` : 문자열이 공백으로 이루어져 있는가?\n",
    "-  `.isupper()` : 문자열이 대문자로 이루어져 있는가?\n",
    "-  `.istitle()` : 문자열이 타이틀 형식으로 이루어져 있는가?\n",
    "-  `.islower()` : 문자열이 소문자로 이루어져 있는가?\n",
    "\n",
    "등"
   ]
  },
  {
   "cell_type": "markdown",
   "id": "8a712328",
   "metadata": {},
   "source": [
    "**숫자 판별 메서드**\n",
    "- `.isdecimal()`: 문자열이 0~9까지의 수로 이루어져 있는가?\n",
    "- `.isdigit()`: 문자열이 숫자로 이루어져 있는가?\n",
    "- `.isnumeric()`: 문자열을 수로 볼 수 있는가?\n",
    "\n",
    "\n",
    "| isdecimal() | isdigit() | isnumeric() |          Example               |\n",
    "|:-----------:|:-----------:|:-----------:|:----------------------------------:|\n",
    "|    True     |    True   |    True     | \"038\", \"੦੩੮\", \"０３８\"             |\n",
    "|  False      |    True   |    True     | \"⁰³⁸\", \"🄀⒊⒏\", \"⓪③⑧\"          |\n",
    "|  False      |  False    |    True     | \"↉⅛⅘\", \"ⅠⅢⅧ\", \"⑩⑬㊿\", \"壹貳參\"   |\n",
    "|  False      |  False    |  False      | \"abc\", \"38.0\", \"-38\"             |\n"
   ]
  },
  {
   "cell_type": "code",
   "execution_count": 13,
   "id": "439e1f57",
   "metadata": {},
   "outputs": [],
   "source": [
    "a = '    n'\n",
    "b = '\\n \\t '"
   ]
  },
  {
   "cell_type": "code",
   "execution_count": 16,
   "id": "5bd0503f",
   "metadata": {},
   "outputs": [
    {
     "name": "stdout",
     "output_type": "stream",
     "text": [
      "False\n",
      "True\n"
     ]
    }
   ],
   "source": [
    "# isspace 메서드를 통해 a, b가 공백으로 이루어져 있는지 확인해봅시다.\n",
    "\n",
    "print(a.isspace())\n",
    "print(b.isspace())"
   ]
  },
  {
   "cell_type": "code",
   "execution_count": 17,
   "id": "dc076823",
   "metadata": {},
   "outputs": [],
   "source": [
    "a = '파이썬'\n",
    "b = 'python'\n",
    "c = 'python 3.9.9'"
   ]
  },
  {
   "cell_type": "code",
   "execution_count": 18,
   "id": "62fe996e",
   "metadata": {},
   "outputs": [
    {
     "name": "stdout",
     "output_type": "stream",
     "text": [
      "True\n",
      "True\n",
      "False\n"
     ]
    }
   ],
   "source": [
    "# isalpha 메서드를 통해 문자열 a, b, c에 대한 알파벳 여부를 확인해봅시다.\n",
    "print(a.isalpha())\n",
    "print(b.isalpha())\n",
    "print(c.isalpha())"
   ]
  },
  {
   "cell_type": "markdown",
   "id": "88c1cbf6",
   "metadata": {},
   "source": [
    "## 문자열 변경"
   ]
  },
  {
   "cell_type": "markdown",
   "id": "b0c8ce38",
   "metadata": {},
   "source": [
    "### `.replace(old, new[, count])`\n",
    "\n",
    "바꿀 대상 글자를 새로운 글자로 바꿔서 반환합니다.\n",
    "\n",
    "count를 지정하면 해당 갯수만큼만 시행합니다.\n",
    "\n",
    "> **(참고)** 메서드 설명에서 `[]` 표기는 해당 parameter가 선택적임을 나타냅니다."
   ]
  },
  {
   "cell_type": "code",
   "execution_count": 19,
   "id": "45a4c64b",
   "metadata": {},
   "outputs": [],
   "source": [
    "a = 'yaya!'\n",
    "b = 'wooooowoo'"
   ]
  },
  {
   "cell_type": "code",
   "execution_count": 21,
   "id": "044713f8",
   "metadata": {},
   "outputs": [
    {
     "data": {
      "text/plain": [
       "'haha!'"
      ]
     },
     "execution_count": 21,
     "metadata": {},
     "output_type": "execute_result"
    }
   ],
   "source": [
    "# replace 메서드를 통해 a의 글자 y를 h로 변경해봅시다.\n",
    "\n",
    "a.replace('y', 'h')"
   ]
  },
  {
   "cell_type": "code",
   "execution_count": 22,
   "id": "6f3f27d9",
   "metadata": {},
   "outputs": [
    {
     "data": {
      "text/plain": [
       "'w__ooowoo'"
      ]
     },
     "execution_count": 22,
     "metadata": {},
     "output_type": "execute_result"
    }
   ],
   "source": [
    "# replace 메서드를 통해 b의 글자 o 2개를 _로 변경해봅시다.\n",
    "\n",
    "b.replace('o','_',2)"
   ]
  },
  {
   "cell_type": "markdown",
   "id": "8db06afa",
   "metadata": {},
   "source": [
    "### `.strip([chars])`\n",
    "\n",
    "`.strip([chars])`은 특정한 문자들을 지정하면 문자열의 모든 조합을 제거합니다. 인자가 없을 경우 공백을 제거합니다.\n",
    "\n",
    "`.lstrip([chars])`은 특정한 문자들을 지정하면 문자열의 왼쪽으로 모든 조합을 제거합니다. 인자가 없을 경우 왼쪽 공백을 제거합니다.\n",
    "\n",
    "`.rstrip([chars])`은 특정한 문자들을 지정하면 문자열의 오른쪽으로 모든 조합을 제거합니다. 인자가 없을 경우 오른쪽 공백을 제거합니다.\n",
    "\n",
    "\n",
    "`chars` 파라미터를 지정하지 않으면 공백을 제거합니다."
   ]
  },
  {
   "cell_type": "code",
   "execution_count": 23,
   "id": "6ca5935f",
   "metadata": {},
   "outputs": [],
   "source": [
    "a = '   hello!  \\n'\n",
    "b = 'hihihihahahahihi'\n",
    "c = 'monty python'"
   ]
  },
  {
   "cell_type": "code",
   "execution_count": 24,
   "id": "ad26c8a9",
   "metadata": {},
   "outputs": [
    {
     "data": {
      "text/plain": [
       "'hello!'"
      ]
     },
     "execution_count": 24,
     "metadata": {},
     "output_type": "execute_result"
    }
   ],
   "source": [
    "# strip 메서드로 a의 양쪽 공백을 제거해봅시다.\n",
    "a.strip()"
   ]
  },
  {
   "cell_type": "code",
   "execution_count": 26,
   "id": "322059f3",
   "metadata": {},
   "outputs": [
    {
     "data": {
      "text/plain": [
       "'hello!  \\n'"
      ]
     },
     "execution_count": 26,
     "metadata": {},
     "output_type": "execute_result"
    }
   ],
   "source": [
    "# lstrip 메서드로 a의 왼쪽 공백을 제거해봅시다.\n",
    "\n",
    "a.lstrip()"
   ]
  },
  {
   "cell_type": "code",
   "execution_count": 27,
   "id": "505437e9",
   "metadata": {},
   "outputs": [
    {
     "data": {
      "text/plain": [
       "'hihihihahaha'"
      ]
     },
     "execution_count": 27,
     "metadata": {},
     "output_type": "execute_result"
    }
   ],
   "source": [
    "# rstrip 메서드로 b의 오른쪽에서부터 글자 hi를 제거해봅시다.\n",
    "\n",
    "b.rstrip('hi')"
   ]
  },
  {
   "cell_type": "code",
   "execution_count": 33,
   "id": "c36c0146",
   "metadata": {},
   "outputs": [
    {
     "data": {
      "text/plain": [
       "'monty '"
      ]
     },
     "execution_count": 33,
     "metadata": {},
     "output_type": "execute_result"
    }
   ],
   "source": [
    "# `chars` 파라미터를 지정한 경우, 모든 조합을 이용하여 제거합니다.\n",
    "# rstrip 메서드로 c의 오른쪽에서부터 글자 ' python'을 제거해봅시다.\n",
    "\n",
    "c.rstrip('python')"
   ]
  },
  {
   "cell_type": "markdown",
   "id": "af7d9fcf",
   "metadata": {},
   "source": [
    "### `.split([chars])`\n",
    "\n",
    "문자열을 특정한 단위로 나누어 리스트로 반환합니다."
   ]
  },
  {
   "cell_type": "code",
   "execution_count": 34,
   "id": "cad69112",
   "metadata": {},
   "outputs": [],
   "source": [
    "a = 'a_b_c'"
   ]
  },
  {
   "cell_type": "code",
   "execution_count": 35,
   "id": "c90dd79e",
   "metadata": {},
   "outputs": [
    {
     "data": {
      "text/plain": [
       "['a', 'b', 'c']"
      ]
     },
     "execution_count": 35,
     "metadata": {},
     "output_type": "execute_result"
    }
   ],
   "source": [
    "# split 메서드로 _를 기준으로 문자열을 나누어 리스트로 반환해봅시다.\n",
    "\n",
    "a.split('_')"
   ]
  },
  {
   "cell_type": "code",
   "execution_count": 37,
   "id": "3e34ad11",
   "metadata": {},
   "outputs": [
    {
     "data": {
      "text/plain": [
       "['가', '나', '다', '라', '마', '바', '사']"
      ]
     },
     "execution_count": 37,
     "metadata": {},
     "output_type": "execute_result"
    }
   ],
   "source": [
    "# 사용자의 입력값을 받아 i에 저장합니다.\n",
    "# 입력받은 문자열을 split 메서드로 공백을 기준으로 나누어 리스트로 반환해봅시다.\n",
    "\n",
    "i = input()\n",
    "i.split(' ')"
   ]
  },
  {
   "cell_type": "markdown",
   "id": "2b5b0276",
   "metadata": {},
   "source": [
    "### `'separator'.join(iterable)`\n",
    "iterable 의 문자열들을 separator(구분자)로 이어 붙인(`join()`) 문자열을 반환합니다.\n",
    "\n",
    "다른 메서드들과 달리, <u>**구분자**</u>가 join 메서드를 제공하는 문자열입니다."
   ]
  },
  {
   "cell_type": "code",
   "execution_count": 39,
   "id": "0a766893",
   "metadata": {},
   "outputs": [],
   "source": [
    "word = '배고파'\n",
    "words = ['안녕', 'hello']"
   ]
  },
  {
   "cell_type": "code",
   "execution_count": 40,
   "id": "aec3eacc",
   "metadata": {},
   "outputs": [
    {
     "data": {
      "text/plain": [
       "'배!고!파'"
      ]
     },
     "execution_count": 40,
     "metadata": {},
     "output_type": "execute_result"
    }
   ],
   "source": [
    "# join 메서드로 word의 문자열 사이에 !를 넣은 결과를 반환해봅시다.\n",
    "\n",
    "'!'.join(word)"
   ]
  },
  {
   "cell_type": "code",
   "execution_count": 42,
   "id": "707e7183",
   "metadata": {},
   "outputs": [
    {
     "data": {
      "text/plain": [
       "'안녕hello'"
      ]
     },
     "execution_count": 42,
     "metadata": {},
     "output_type": "execute_result"
    }
   ],
   "source": [
    "# join 메서드로 words의 문자들을 하나로 합친 결과를 반환해봅시다.\n",
    "\n",
    "''.join(words)"
   ]
  },
  {
   "cell_type": "markdown",
   "id": "543679cd",
   "metadata": {},
   "source": [
    "### `.capitalize()`, `.title()`, `.upper()`\n",
    "\n",
    "* `.capitalize()` : 앞글자를 대문자로 만들어 반환합니다.\n",
    "\n",
    "* `.title()` : 어포스트로피(*'*)나 공백 이후를 대문자로 만들어 반환합니다.\n",
    "\n",
    "* `.upper()` : 모두 대문자로 만들어 반환합니다."
   ]
  },
  {
   "cell_type": "code",
   "execution_count": 43,
   "id": "e2c9d58a",
   "metadata": {},
   "outputs": [],
   "source": [
    "a = 'hI! Everyone, I\\'m kim'"
   ]
  },
  {
   "cell_type": "code",
   "execution_count": 44,
   "id": "03ded99f",
   "metadata": {},
   "outputs": [
    {
     "data": {
      "text/plain": [
       "\"Hi! everyone, i'm kim\""
      ]
     },
     "execution_count": 44,
     "metadata": {},
     "output_type": "execute_result"
    }
   ],
   "source": [
    "# capitalize 메서드로 a의 앞글자를 대문자로 만들어 반환해봅시다.\n",
    "\n",
    "a.capitalize()"
   ]
  },
  {
   "cell_type": "code",
   "execution_count": 45,
   "id": "49a706f9",
   "metadata": {},
   "outputs": [
    {
     "data": {
      "text/plain": [
       "\"Hi! Everyone, I'M Kim\""
      ]
     },
     "execution_count": 45,
     "metadata": {},
     "output_type": "execute_result"
    }
   ],
   "source": [
    "# title 메서드로 a의 각각의 단어 앞글자를 대문자로 만들어 반환해봅시다.\n",
    "\n",
    "a.title()"
   ]
  },
  {
   "cell_type": "code",
   "execution_count": 46,
   "id": "0c56c1f8",
   "metadata": {},
   "outputs": [
    {
     "data": {
      "text/plain": [
       "\"HI! EVERYONE, I'M KIM\""
      ]
     },
     "execution_count": 46,
     "metadata": {},
     "output_type": "execute_result"
    }
   ],
   "source": [
    "# upper 메서드로 a를 모두 대문자로 만들어 반환해봅시다.\n",
    "\n",
    "a.upper()"
   ]
  },
  {
   "cell_type": "code",
   "execution_count": 47,
   "id": "4fbdc2a7",
   "metadata": {},
   "outputs": [
    {
     "name": "stdout",
     "output_type": "stream",
     "text": [
      "hI! Everyone, I'm kim\n"
     ]
    }
   ],
   "source": [
    "# print 함수로 a를 출력하여 원본 데이터를 확인해봅시다.\n",
    "\n",
    "print(a)"
   ]
  },
  {
   "cell_type": "markdown",
   "id": "b32cf528",
   "metadata": {},
   "source": [
    "### `.lower()`, `.swapcase()`\n",
    "\n",
    "* `lower()` : 모두 소문자로 만들어 반환합니다.\n",
    "\n",
    "* `swapcase()` : 대 <-> 소문자로 변경하여 반환합니다."
   ]
  },
  {
   "cell_type": "code",
   "execution_count": 48,
   "id": "a8ff039c",
   "metadata": {},
   "outputs": [],
   "source": [
    "a = 'hI! Everyone, I\\'m kim'"
   ]
  },
  {
   "cell_type": "code",
   "execution_count": 49,
   "id": "1501edae",
   "metadata": {},
   "outputs": [
    {
     "data": {
      "text/plain": [
       "\"hi! everyone, i'm kim\""
      ]
     },
     "execution_count": 49,
     "metadata": {},
     "output_type": "execute_result"
    }
   ],
   "source": [
    "# lower 메서드로 a을 모두 소문자로 만들어 반환해봅시다.\n",
    "\n",
    "a.lower()"
   ]
  },
  {
   "cell_type": "code",
   "execution_count": 50,
   "id": "00aec388",
   "metadata": {},
   "outputs": [
    {
     "data": {
      "text/plain": [
       "\"Hi! eVERYONE, i'M KIM\""
      ]
     },
     "execution_count": 50,
     "metadata": {},
     "output_type": "execute_result"
    }
   ],
   "source": [
    "# swapcase 메서드로 a의 대소문자를 서로 변경하여 반환해봅시다.\n",
    "\n",
    "a.swapcase()"
   ]
  },
  {
   "cell_type": "code",
   "execution_count": 51,
   "id": "6e72bf87",
   "metadata": {},
   "outputs": [
    {
     "name": "stdout",
     "output_type": "stream",
     "text": [
      "hI! Everyone, I'm kim\n"
     ]
    }
   ],
   "source": [
    "# print 함수로 a를 출력하여 원본데이터를 확인해봅시다.\n",
    "\n",
    "print(a)"
   ]
  },
  {
   "cell_type": "markdown",
   "id": "4be09c26",
   "metadata": {},
   "source": [
    "## 문자열 메서드 모두 확인하기\n",
    "파이썬 내장함수 dir을 통해 컨테이너가 가지고 있는 메서드를 확인할 수 있습니다."
   ]
  },
  {
   "cell_type": "code",
   "execution_count": 52,
   "id": "fe09c3fd",
   "metadata": {
    "scrolled": true
   },
   "outputs": [
    {
     "data": {
      "text/plain": [
       "['__add__',\n",
       " '__class__',\n",
       " '__contains__',\n",
       " '__delattr__',\n",
       " '__dir__',\n",
       " '__doc__',\n",
       " '__eq__',\n",
       " '__format__',\n",
       " '__ge__',\n",
       " '__getattribute__',\n",
       " '__getitem__',\n",
       " '__getnewargs__',\n",
       " '__gt__',\n",
       " '__hash__',\n",
       " '__init__',\n",
       " '__init_subclass__',\n",
       " '__iter__',\n",
       " '__le__',\n",
       " '__len__',\n",
       " '__lt__',\n",
       " '__mod__',\n",
       " '__mul__',\n",
       " '__ne__',\n",
       " '__new__',\n",
       " '__reduce__',\n",
       " '__reduce_ex__',\n",
       " '__repr__',\n",
       " '__rmod__',\n",
       " '__rmul__',\n",
       " '__setattr__',\n",
       " '__sizeof__',\n",
       " '__str__',\n",
       " '__subclasshook__',\n",
       " 'capitalize',\n",
       " 'casefold',\n",
       " 'center',\n",
       " 'count',\n",
       " 'encode',\n",
       " 'endswith',\n",
       " 'expandtabs',\n",
       " 'find',\n",
       " 'format',\n",
       " 'format_map',\n",
       " 'index',\n",
       " 'isalnum',\n",
       " 'isalpha',\n",
       " 'isascii',\n",
       " 'isdecimal',\n",
       " 'isdigit',\n",
       " 'isidentifier',\n",
       " 'islower',\n",
       " 'isnumeric',\n",
       " 'isprintable',\n",
       " 'isspace',\n",
       " 'istitle',\n",
       " 'isupper',\n",
       " 'join',\n",
       " 'ljust',\n",
       " 'lower',\n",
       " 'lstrip',\n",
       " 'maketrans',\n",
       " 'partition',\n",
       " 'removeprefix',\n",
       " 'removesuffix',\n",
       " 'replace',\n",
       " 'rfind',\n",
       " 'rindex',\n",
       " 'rjust',\n",
       " 'rpartition',\n",
       " 'rsplit',\n",
       " 'rstrip',\n",
       " 'split',\n",
       " 'splitlines',\n",
       " 'startswith',\n",
       " 'strip',\n",
       " 'swapcase',\n",
       " 'title',\n",
       " 'translate',\n",
       " 'upper',\n",
       " 'zfill']"
      ]
     },
     "execution_count": 52,
     "metadata": {},
     "output_type": "execute_result"
    }
   ],
   "source": [
    "# dir 함수로 문자열이 가지고 있는 메서드를 확인할 수 있습니다.\n",
    "dir('string') # dir(str)"
   ]
  },
  {
   "cell_type": "markdown",
   "id": "4214e9b1",
   "metadata": {},
   "source": [
    "---"
   ]
  },
  {
   "cell_type": "markdown",
   "id": "4c163aac",
   "metadata": {},
   "source": [
    "# 리스트(List)\n",
    "\n",
    "> 변경 가능하고(mutable), 순서가 있고(ordered), 순회 가능한(iterable)\n",
    "\n",
    "![image](https://user-images.githubusercontent.com/90173310/148152798-e42f9525-2eef-4bf7-bf0b-6031a0913693.png)"
   ]
  },
  {
   "cell_type": "markdown",
   "id": "8644ebe6",
   "metadata": {},
   "source": [
    "## 값 추가 및 삭제\n",
    "\n",
    "### `.append(x)`\n",
    "\n",
    "리스트에 값을 추가할 수 있습니다.\n",
    "\n",
    "`a[len(a):] = [x]` 와 동일합니다."
   ]
  },
  {
   "cell_type": "code",
   "execution_count": 85,
   "id": "20025945",
   "metadata": {},
   "outputs": [
    {
     "name": "stdout",
     "output_type": "stream",
     "text": [
      "['starbucks', 'tomntoms', 'hollys']\n"
     ]
    }
   ],
   "source": [
    "cafe = ['starbucks', 'tomntoms', 'hollys']\n",
    "print(cafe)"
   ]
  },
  {
   "cell_type": "code",
   "execution_count": 86,
   "id": "c61e9aa1",
   "metadata": {},
   "outputs": [
    {
     "name": "stdout",
     "output_type": "stream",
     "text": [
      "['starbucks', 'tomntoms', 'hollys', 'banapresso']\n"
     ]
    }
   ],
   "source": [
    "# append 메서드로 cafe에 banapresso를 추가해봅시다.\n",
    "\n",
    "cafe.append('banapresso')\n",
    "print(cafe)"
   ]
  },
  {
   "cell_type": "markdown",
   "id": "4bcda50d",
   "metadata": {},
   "source": [
    "### `.extend(iterable)`\n",
    "\n",
    "리스트에 iterable(list, range, tuple, string) 값을 붙일 수가 있습니다.\n",
    "\n",
    "`a[len(a):] = iterable` 와 동일합니다."
   ]
  },
  {
   "cell_type": "code",
   "execution_count": 87,
   "id": "7ba6ba8d",
   "metadata": {},
   "outputs": [
    {
     "name": "stdout",
     "output_type": "stream",
     "text": [
      "['starbucks', 'tomntoms', 'hollys', 'banapresso', 'wcafe', '빽다방']\n"
     ]
    }
   ],
   "source": [
    "# extend 메서드로 cafe에 ['wcafe', '빽다방']를 추가해봅시다.\n",
    "\n",
    "cafe.extend(['wcafe', '빽다방'])\n",
    "print(cafe)"
   ]
  },
  {
   "cell_type": "code",
   "execution_count": 88,
   "id": "43a70e0f",
   "metadata": {},
   "outputs": [
    {
     "name": "stdout",
     "output_type": "stream",
     "text": [
      "['starbucks', 'tomntoms', 'hollys', 'banapresso', 'wcafe', '빽다방', 'mc_cafe', 'droptop']\n"
     ]
    }
   ],
   "source": [
    "# += 연산자로 cafe에 ['mc_cafe', 'droptop']를 추가해봅시다.\n",
    "# 앞서 배운 list concatenate와 동일합니다.\n",
    "\n",
    "cafe += ['mc_cafe', 'droptop']\n",
    "print(cafe)"
   ]
  },
  {
   "cell_type": "code",
   "execution_count": 89,
   "id": "446efe2f",
   "metadata": {},
   "outputs": [
    {
     "name": "stdout",
     "output_type": "stream",
     "text": [
      "['starbucks', 'tomntoms', 'hollys', 'banapresso', 'wcafe', '빽다방', 'mc_cafe', 'droptop', 'coffeenie']\n"
     ]
    }
   ],
   "source": [
    "# append vs extend\n",
    "\n",
    "# append 메서드로 cafe에 ['coffeenie']를 추가해봅시다.\n",
    "\n",
    "cafe.append('coffeenie')\n",
    "print(cafe)"
   ]
  },
  {
   "cell_type": "code",
   "execution_count": 90,
   "id": "b699dca9",
   "metadata": {},
   "outputs": [
    {
     "name": "stdout",
     "output_type": "stream",
     "text": [
      "['starbucks', 'tomntoms', 'hollys', 'banapresso', 'wcafe', '빽다방', 'mc_cafe', 'droptop', 'coffeenie', 'twosome_place']\n"
     ]
    }
   ],
   "source": [
    "# append vs extend\n",
    "\n",
    "# extend 메서드로 cafe에 ['twosome_place']를 추가해봅시다.\n",
    "\n",
    "cafe.extend(['twosome_place'])\n",
    "print(cafe)"
   ]
  },
  {
   "cell_type": "code",
   "execution_count": 91,
   "id": "f577f73f",
   "metadata": {},
   "outputs": [
    {
     "name": "stdout",
     "output_type": "stream",
     "text": [
      "['starbucks', 'tomntoms', 'hollys', 'banapresso', 'wcafe', '빽다방', 'mc_cafe', 'droptop', 'coffeenie', 'twosome_place', 'e', 'd', 'i', 'y', 'a']\n"
     ]
    }
   ],
   "source": [
    "# extend 메서드로 cafe에 문자열 ediya를 추가해봅시다.\n",
    "\n",
    "cafe.extend('ediya')\n",
    "print(cafe)"
   ]
  },
  {
   "cell_type": "markdown",
   "id": "e31ad7f6",
   "metadata": {},
   "source": [
    "### `.insert(i, x)`\n",
    "\n",
    "정해진 위치 `i`에 값을 추가합니다."
   ]
  },
  {
   "cell_type": "code",
   "execution_count": 92,
   "id": "3ae56bdd",
   "metadata": {},
   "outputs": [
    {
     "name": "stdout",
     "output_type": "stream",
     "text": [
      "['start', 'starbucks', 'tomntoms', 'hollys', 'banapresso', 'wcafe', '빽다방', 'mc_cafe', 'droptop', 'coffeenie', 'twosome_place', 'e', 'd', 'i', 'y', 'a']\n"
     ]
    }
   ],
   "source": [
    "# insert 메서드로 cafe 첫번째에 문자열 start를 넣어봅시다.\n",
    "\n",
    "cafe.insert(0, 'start')\n",
    "print(cafe)"
   ]
  },
  {
   "cell_type": "code",
   "execution_count": 93,
   "id": "3ee6d1d5",
   "metadata": {},
   "outputs": [
    {
     "name": "stdout",
     "output_type": "stream",
     "text": [
      "['start', 'starbucks', 'tomntoms', 'hollys', 'banapresso', 'wcafe', '빽다방', 'mc_cafe', 'droptop', 'coffeenie', 'twosome_place', 'e', 'd', 'i', 'y', 'a', 'end']\n"
     ]
    }
   ],
   "source": [
    "# insert 메서드로 cafe 마지막에 문자열 end를 넣어봅시다.\n",
    "# 마지막 위치는 len함수를 이용합니다.\n",
    "\n",
    "cafe.insert(len(cafe),'end')\n",
    "print(cafe)"
   ]
  },
  {
   "cell_type": "code",
   "execution_count": 94,
   "id": "8e6cb4c4",
   "metadata": {},
   "outputs": [
    {
     "name": "stdout",
     "output_type": "stream",
     "text": [
      "['start', 'starbucks', 'tomntoms', 'hollys', 'banapresso', 'wcafe', '빽다방', 'mc_cafe', 'droptop', 'coffeenie', 'twosome_place', 'e', 'd', 'i', 'y', 'a', 'end', '!']\n"
     ]
    }
   ],
   "source": [
    "# insert 메서드로 cafe 길이보다 큰 인덱스에 문자열 !를 넣어봅시다.\n",
    "# 리스트의 길이를 넘어서는 인덱스는 마지막에 아이템이 추가됩니다.\n",
    "\n",
    "cafe.insert(100000, '!')\n",
    "print(cafe)"
   ]
  },
  {
   "cell_type": "code",
   "execution_count": null,
   "id": "42e8841e",
   "metadata": {},
   "outputs": [],
   "source": [
    "# a.insert(0, x)는 리스트의 처음에 x를 삽입하고,\n",
    "# a.insert(len(a), x) 는 a.append(x) 와 같습니다."
   ]
  },
  {
   "cell_type": "markdown",
   "id": "fca5372e",
   "metadata": {},
   "source": [
    "### `.remove(x)`\n",
    "\n",
    "리스트에서 값이 x인 첫번째 항목을 삭제합니다.\n",
    "\n",
    "만일 그런 항목이 없으면 `ValueError`가 발생합니다."
   ]
  },
  {
   "cell_type": "code",
   "execution_count": 98,
   "id": "15b593fb",
   "metadata": {},
   "outputs": [],
   "source": [
    "numbers = [1, 2, 3, 1, 2]"
   ]
  },
  {
   "cell_type": "markdown",
   "id": "3cb9b790",
   "metadata": {},
   "source": []
  },
  {
   "cell_type": "code",
   "execution_count": 99,
   "id": "255826c6",
   "metadata": {},
   "outputs": [
    {
     "name": "stdout",
     "output_type": "stream",
     "text": [
      "[2, 3, 1, 2]\n"
     ]
    }
   ],
   "source": [
    "# remove 메서드로 1을 삭제 해봅시다.\n",
    "\n",
    "numbers.remove(1)\n",
    "print(numbers)"
   ]
  },
  {
   "cell_type": "code",
   "execution_count": 100,
   "id": "36189253",
   "metadata": {},
   "outputs": [
    {
     "name": "stdout",
     "output_type": "stream",
     "text": [
      "[2, 3, 2]\n"
     ]
    }
   ],
   "source": [
    "# remove 메서드로 1을 한 번 더 삭제 해봅시다.\n",
    "\n",
    "numbers.remove(1)\n",
    "print(numbers)"
   ]
  },
  {
   "cell_type": "code",
   "execution_count": 101,
   "id": "14da985a",
   "metadata": {},
   "outputs": [
    {
     "ename": "ValueError",
     "evalue": "list.remove(x): x not in list",
     "output_type": "error",
     "traceback": [
      "\u001b[1;31m---------------------------------------------------------------------------\u001b[0m",
      "\u001b[1;31mValueError\u001b[0m                                Traceback (most recent call last)",
      "\u001b[1;32mc:\\Users\\SSAFY\\Desktop\\HWS\\0726\\06_01_데이터구조.ipynb 셀 75\u001b[0m in \u001b[0;36m<cell line: 4>\u001b[1;34m()\u001b[0m\n\u001b[0;32m      <a href='vscode-notebook-cell:/c%3A/Users/SSAFY/Desktop/HWS/0726/06_01_%EB%8D%B0%EC%9D%B4%ED%84%B0%EA%B5%AC%EC%A1%B0.ipynb#ch0000073?line=0'>1</a>\u001b[0m \u001b[39m# remove는 값이 없으면 오류가 발생합니다.\u001b[39;00m\n\u001b[0;32m      <a href='vscode-notebook-cell:/c%3A/Users/SSAFY/Desktop/HWS/0726/06_01_%EB%8D%B0%EC%9D%B4%ED%84%B0%EA%B5%AC%EC%A1%B0.ipynb#ch0000073?line=1'>2</a>\u001b[0m \u001b[39m# remove 메서드로 1을 한 번 더 삭제하여, 확인해봅시다.\u001b[39;00m\n\u001b[1;32m----> <a href='vscode-notebook-cell:/c%3A/Users/SSAFY/Desktop/HWS/0726/06_01_%EB%8D%B0%EC%9D%B4%ED%84%B0%EA%B5%AC%EC%A1%B0.ipynb#ch0000073?line=3'>4</a>\u001b[0m numbers\u001b[39m.\u001b[39;49mremove(\u001b[39m1\u001b[39;49m)\n\u001b[0;32m      <a href='vscode-notebook-cell:/c%3A/Users/SSAFY/Desktop/HWS/0726/06_01_%EB%8D%B0%EC%9D%B4%ED%84%B0%EA%B5%AC%EC%A1%B0.ipynb#ch0000073?line=4'>5</a>\u001b[0m \u001b[39mprint\u001b[39m(numbers)\n",
      "\u001b[1;31mValueError\u001b[0m: list.remove(x): x not in list"
     ]
    }
   ],
   "source": [
    "# remove는 값이 없으면 오류가 발생합니다.\n",
    "# remove 메서드로 1을 한 번 더 삭제하여, 확인해봅시다.\n",
    "\n",
    "numbers.remove(1)\n",
    "print(numbers)"
   ]
  },
  {
   "cell_type": "markdown",
   "id": "eb4e7305",
   "metadata": {},
   "source": [
    "### `.pop([i])`\n",
    "\n",
    "정해진 위치 `i`에 있는 값을 삭제하며, 그 항목을 반환합니다.\n",
    "\n",
    "`i`가 지정되지 않으면 마지막 항목을 삭제하고 되돌려줍니다."
   ]
  },
  {
   "cell_type": "code",
   "execution_count": 106,
   "id": "1ad82215",
   "metadata": {},
   "outputs": [],
   "source": [
    "numbers = [1, 2, 3, 4, 5, 6]"
   ]
  },
  {
   "cell_type": "code",
   "execution_count": 107,
   "id": "aabd997e",
   "metadata": {},
   "outputs": [
    {
     "name": "stdout",
     "output_type": "stream",
     "text": [
      "[2, 3, 4, 5, 6]\n"
     ]
    }
   ],
   "source": [
    "# pop 메서드로 가장 앞에 있는 숫자를 삭제해봅시다.\n",
    "# 삭제후 numbers를 출력해봅시다.\n",
    "\n",
    "numbers.pop(0)\n",
    "print(numbers)"
   ]
  },
  {
   "cell_type": "code",
   "execution_count": 108,
   "id": "e804ab2b",
   "metadata": {},
   "outputs": [
    {
     "name": "stdout",
     "output_type": "stream",
     "text": [
      "6\n",
      "[2, 3, 4, 5]\n"
     ]
    }
   ],
   "source": [
    "# pop 메서드로 가장 마지막에 있는 숫자를 삭제하고 결과를 a에 저장합니다.\n",
    "# 삭제된 숫자와 결과를 모두 출력해봅시다.\n",
    "\n",
    "a = numbers.pop()\n",
    "print(a)\n",
    "print(numbers)"
   ]
  },
  {
   "cell_type": "markdown",
   "id": "5c79f0e2",
   "metadata": {},
   "source": [
    "### `.clear()`\n",
    "\n",
    "리스트의 모든 항목을 삭제합니다."
   ]
  },
  {
   "cell_type": "code",
   "execution_count": null,
   "id": "59cfce7d",
   "metadata": {},
   "outputs": [],
   "source": [
    "numbers = [1, 2, 3, 4, 5, 6]"
   ]
  },
  {
   "cell_type": "code",
   "execution_count": 109,
   "id": "ca04d663",
   "metadata": {},
   "outputs": [
    {
     "name": "stdout",
     "output_type": "stream",
     "text": [
      "[]\n"
     ]
    }
   ],
   "source": [
    "# clear 메서드로 리스트의 모든 항목을 삭제합니다.\n",
    "\n",
    "numbers.clear()\n",
    "print(numbers)"
   ]
  },
  {
   "cell_type": "markdown",
   "id": "0f01d700",
   "metadata": {},
   "source": [
    "## 탐색 및 정렬"
   ]
  },
  {
   "cell_type": "markdown",
   "id": "a1c42e0a",
   "metadata": {},
   "source": [
    "### `.index(x)`\n",
    "\n",
    "x 값을 찾아 해당 index 값을 반환합니다."
   ]
  },
  {
   "cell_type": "code",
   "execution_count": 110,
   "id": "e70f1cec",
   "metadata": {},
   "outputs": [],
   "source": [
    "a = [1, 2, 3, 4, 5]"
   ]
  },
  {
   "cell_type": "code",
   "execution_count": 111,
   "id": "79e0b810",
   "metadata": {},
   "outputs": [
    {
     "data": {
      "text/plain": [
       "2"
      ]
     },
     "execution_count": 111,
     "metadata": {},
     "output_type": "execute_result"
    }
   ],
   "source": [
    "# index 메서드로 숫자 3이 있는 위치를 반환합니다.\n",
    "\n",
    "a.index(3)"
   ]
  },
  {
   "cell_type": "code",
   "execution_count": null,
   "id": "05bcab7b",
   "metadata": {},
   "outputs": [],
   "source": [
    "# index는 찾는 값이 없으면 오류가 발생합니다.\n",
    "# index 메서드로 숫자 100이 있는 위치를 확인해봅시다.\n",
    "\n"
   ]
  },
  {
   "cell_type": "markdown",
   "id": "f8129cf3",
   "metadata": {},
   "source": [
    "### `.count(x)`\n",
    "\n",
    "원하는 값의 개수를 반환합니다."
   ]
  },
  {
   "cell_type": "code",
   "execution_count": 112,
   "id": "ed13702a",
   "metadata": {},
   "outputs": [],
   "source": [
    "a = [1, 2, 5, 1, 5, 1]"
   ]
  },
  {
   "cell_type": "code",
   "execution_count": 113,
   "id": "f7323051",
   "metadata": {},
   "outputs": [
    {
     "data": {
      "text/plain": [
       "3"
      ]
     },
     "execution_count": 113,
     "metadata": {},
     "output_type": "execute_result"
    }
   ],
   "source": [
    "# count 메서드로 1의 개수를 확인해봅시다.\n",
    "\n",
    "a.count(1)"
   ]
  },
  {
   "cell_type": "code",
   "execution_count": 114,
   "id": "4261e536",
   "metadata": {},
   "outputs": [
    {
     "name": "stdout",
     "output_type": "stream",
     "text": [
      "[2, 3, 4]\n"
     ]
    }
   ],
   "source": [
    "# 원하는 값을 모두 삭제하려면 다음과 같이 할 수 있습니다.\n",
    "a = [1, 2, 1, 3, 4]\n",
    "target_value = 1\n",
    "for i in range(a.count(target_value)):\n",
    "    a.remove(target_value)\n",
    "print(a)"
   ]
  },
  {
   "cell_type": "markdown",
   "id": "87ef7b6f",
   "metadata": {},
   "source": [
    "### `.sort()`\n",
    "\n",
    "리스트를 정렬합니다.\n",
    "\n",
    "내장함수 `sorted()` 와는 다르게 **원본 list를 변형**시키고, **`None`**을 리턴합니다.\n",
    "\n",
    "파라미터로는 `key`와 `reverse`가 있습니다."
   ]
  },
  {
   "cell_type": "code",
   "execution_count": 115,
   "id": "1bacfd92",
   "metadata": {},
   "outputs": [
    {
     "name": "stdout",
     "output_type": "stream",
     "text": [
      "[40, 30, 16, 17, 8, 38]\n"
     ]
    }
   ],
   "source": [
    "# lotto에 1부터 45 까지의 숫자가 들어있는 리스트를 저장합니다.\n",
    "# 6개의 숫자를 랜덤으로 저장합니다.\n",
    "import random\n",
    "lotto = random.sample(range(1, 46), 6)\n",
    "print(lotto)"
   ]
  },
  {
   "cell_type": "code",
   "execution_count": 116,
   "id": "fffadbf3",
   "metadata": {},
   "outputs": [
    {
     "name": "stdout",
     "output_type": "stream",
     "text": [
      "[8, 16, 17, 30, 38, 40]\n"
     ]
    }
   ],
   "source": [
    "# sort 메서드로 리스트를 정렬합니다.\n",
    "# sort 메서드를 실행한 결과와 원본을 각각 출력해봅니다.\n",
    "\n",
    "lotto.sort()\n",
    "print(lotto)"
   ]
  },
  {
   "cell_type": "code",
   "execution_count": 118,
   "id": "bbe4ea4b",
   "metadata": {},
   "outputs": [
    {
     "name": "stdout",
     "output_type": "stream",
     "text": [
      "[40, 38, 30, 17, 16, 8]\n"
     ]
    }
   ],
   "source": [
    "# sort 메서드의 reverse옵션을 이용하여 역순 정렬합니다.\n",
    "\n",
    "lotto.sort(reverse=True)\n",
    "print(lotto)"
   ]
  },
  {
   "cell_type": "code",
   "execution_count": 119,
   "id": "769d1cc4",
   "metadata": {},
   "outputs": [
    {
     "name": "stdout",
     "output_type": "stream",
     "text": [
      "[36, 32, 6, 23, 41, 27] [6, 23, 27, 32, 36, 41]\n"
     ]
    }
   ],
   "source": [
    "# sorted 함수를 사용한 결과와 비교해봅시다.\n",
    "import random\n",
    "lotto = random.sample(range(1, 46), 6)\n",
    "print(lotto, sorted(lotto))"
   ]
  },
  {
   "cell_type": "markdown",
   "id": "937609ec",
   "metadata": {},
   "source": [
    "### `.reverse()`\n",
    "\n",
    "리스트의 element들을 제자리에서 반대로 뒤집습니다.\n",
    "정렬하는 것이 아닌 원본 순서를 뒤집고 수정합니다.\n",
    "\n",
    "내장함수 `reversed()` 와는 다르게 **원본 list를 변형**시키고, **`None`**을 리턴합니다.\n",
    "\n",
    "sort와 마찬가지로, 파라미터 `key`와 `reverse`가 있습니다."
   ]
  },
  {
   "cell_type": "code",
   "execution_count": 120,
   "id": "762ef4fb",
   "metadata": {},
   "outputs": [
    {
     "name": "stdout",
     "output_type": "stream",
     "text": [
      "['Tom', 'David', 'Justin']\n"
     ]
    }
   ],
   "source": [
    "classroom = ['Tom', 'David', 'Justin']\n",
    "print(classroom)"
   ]
  },
  {
   "cell_type": "code",
   "execution_count": 123,
   "id": "93fd5c24",
   "metadata": {},
   "outputs": [
    {
     "name": "stdout",
     "output_type": "stream",
     "text": [
      "['Justin', 'David', 'Tom']\n"
     ]
    }
   ],
   "source": [
    "# reverse 메서드로 리스트를 역순으로 만들어줍니다.\n",
    "\n",
    "classroom.reverse()\n",
    "print(classroom)"
   ]
  },
  {
   "cell_type": "markdown",
   "id": "e88c6b7d",
   "metadata": {},
   "source": [
    "## 리스트 메서드 모두 확인하기\n",
    "파이썬 내장함수 dir을 통해 컨테이너가 가지고 있는 메서드를 확인할 수 있습니다."
   ]
  },
  {
   "cell_type": "code",
   "execution_count": 124,
   "id": "dafdc8d6",
   "metadata": {
    "scrolled": true
   },
   "outputs": [
    {
     "data": {
      "text/plain": [
       "['__add__',\n",
       " '__class__',\n",
       " '__class_getitem__',\n",
       " '__contains__',\n",
       " '__delattr__',\n",
       " '__delitem__',\n",
       " '__dir__',\n",
       " '__doc__',\n",
       " '__eq__',\n",
       " '__format__',\n",
       " '__ge__',\n",
       " '__getattribute__',\n",
       " '__getitem__',\n",
       " '__gt__',\n",
       " '__hash__',\n",
       " '__iadd__',\n",
       " '__imul__',\n",
       " '__init__',\n",
       " '__init_subclass__',\n",
       " '__iter__',\n",
       " '__le__',\n",
       " '__len__',\n",
       " '__lt__',\n",
       " '__mul__',\n",
       " '__ne__',\n",
       " '__new__',\n",
       " '__reduce__',\n",
       " '__reduce_ex__',\n",
       " '__repr__',\n",
       " '__reversed__',\n",
       " '__rmul__',\n",
       " '__setattr__',\n",
       " '__setitem__',\n",
       " '__sizeof__',\n",
       " '__str__',\n",
       " '__subclasshook__',\n",
       " 'append',\n",
       " 'clear',\n",
       " 'copy',\n",
       " 'count',\n",
       " 'extend',\n",
       " 'index',\n",
       " 'insert',\n",
       " 'pop',\n",
       " 'remove',\n",
       " 'reverse',\n",
       " 'sort']"
      ]
     },
     "execution_count": 124,
     "metadata": {},
     "output_type": "execute_result"
    }
   ],
   "source": [
    "# dir 함수로 리스트가 가지고 있는 메서드를 확인할 수 있습니다.\n",
    "dir(list) # dir([])"
   ]
  },
  {
   "cell_type": "markdown",
   "id": "ba66ecc6",
   "metadata": {},
   "source": [
    "---"
   ]
  },
  {
   "cell_type": "markdown",
   "id": "0d76905a",
   "metadata": {},
   "source": [
    "# 튜플(tuple)\n",
    "\n",
    "> 변경할 수 없는 불변(Immutable) 자료형\n",
    "\n",
    "![image](https://user-images.githubusercontent.com/90173310/148331867-25aba08c-d76b-4bf0-a7d3-106db29d2db2.png)\n",
    "\n",
    "- 값을 변경할 수 없기 때문에 값에 영향을 미치지 않는 메서드만을 지원합니다."
   ]
  },
  {
   "cell_type": "code",
   "execution_count": null,
   "id": "291158cd",
   "metadata": {
    "scrolled": true
   },
   "outputs": [],
   "source": [
    "# 튜플은 불변자료형이기 때문에 값을 변경하는 메서드는 사용할 수 없습니다.\n",
    "# append를 통해 'tuple'을 추가하여 어떤 오류가 나타나는지 확인해봅시다.\n",
    "\n"
   ]
  },
  {
   "cell_type": "markdown",
   "id": "2d4fe7be",
   "metadata": {},
   "source": [
    "## 탐색\n",
    "### `.index(x[, start[, end]])`\n",
    "\n",
    "튜플에 있는 항목 중 값이 x 와 같은 첫 번째 인덱스를 돌려줍니다.\n",
    "\n",
    "해당하는 값이 없으면, ValueError를 발생합니다."
   ]
  },
  {
   "cell_type": "code",
   "execution_count": 125,
   "id": "6a1041e4",
   "metadata": {},
   "outputs": [],
   "source": [
    "a = ('hello','python','python','django','web')"
   ]
  },
  {
   "cell_type": "code",
   "execution_count": 126,
   "id": "bdb0b8f2",
   "metadata": {},
   "outputs": [
    {
     "data": {
      "text/plain": [
       "1"
      ]
     },
     "execution_count": 126,
     "metadata": {},
     "output_type": "execute_result"
    }
   ],
   "source": [
    "# python이 가장 처음 나타난 위치를 확인하세요.\n",
    "\n",
    "a.index('python')"
   ]
  },
  {
   "cell_type": "code",
   "execution_count": 127,
   "id": "4d61fff6",
   "metadata": {},
   "outputs": [
    {
     "ename": "ValueError",
     "evalue": "tuple.index(x): x not in tuple",
     "output_type": "error",
     "traceback": [
      "\u001b[1;31m---------------------------------------------------------------------------\u001b[0m",
      "\u001b[1;31mValueError\u001b[0m                                Traceback (most recent call last)",
      "\u001b[1;32mc:\\Users\\SSAFY\\Desktop\\HWS\\0726\\06_01_데이터구조.ipynb 셀 108\u001b[0m in \u001b[0;36m<cell line: 4>\u001b[1;34m()\u001b[0m\n\u001b[0;32m      <a href='vscode-notebook-cell:/c%3A/Users/SSAFY/Desktop/HWS/0726/06_01_%EB%8D%B0%EC%9D%B4%ED%84%B0%EA%B5%AC%EC%A1%B0.ipynb#ch0000106?line=0'>1</a>\u001b[0m \u001b[39m# index는 찾는 값이 없으면 오류가 발생합니다.\u001b[39;00m\n\u001b[0;32m      <a href='vscode-notebook-cell:/c%3A/Users/SSAFY/Desktop/HWS/0726/06_01_%EB%8D%B0%EC%9D%B4%ED%84%B0%EA%B5%AC%EC%A1%B0.ipynb#ch0000106?line=1'>2</a>\u001b[0m \u001b[39m# index 메서드로 algorithm의 위치를 확인하세요.\u001b[39;00m\n\u001b[1;32m----> <a href='vscode-notebook-cell:/c%3A/Users/SSAFY/Desktop/HWS/0726/06_01_%EB%8D%B0%EC%9D%B4%ED%84%B0%EA%B5%AC%EC%A1%B0.ipynb#ch0000106?line=3'>4</a>\u001b[0m a\u001b[39m.\u001b[39;49mindex(\u001b[39m'\u001b[39;49m\u001b[39malgorithm\u001b[39;49m\u001b[39m'\u001b[39;49m)\n",
      "\u001b[1;31mValueError\u001b[0m: tuple.index(x): x not in tuple"
     ]
    }
   ],
   "source": [
    "# index는 찾는 값이 없으면 오류가 발생합니다.\n",
    "# index 메서드로 algorithm의 위치를 확인하세요.\n",
    "\n",
    "a.index('algorithm')"
   ]
  },
  {
   "cell_type": "markdown",
   "id": "6ccc8219",
   "metadata": {},
   "source": [
    "### `.count(x)`\n",
    "튜플에서 x 가 등장하는 횟수를 돌려줍니다."
   ]
  },
  {
   "cell_type": "code",
   "execution_count": 128,
   "id": "e444cb5d",
   "metadata": {
    "scrolled": false
   },
   "outputs": [
    {
     "data": {
      "text/plain": [
       "2"
      ]
     },
     "execution_count": 128,
     "metadata": {},
     "output_type": "execute_result"
    }
   ],
   "source": [
    "# count 메서드를 통해 a의 요소들 중 python의 갯수를 확인하세요.\n",
    "\n",
    "a.count('python')"
   ]
  },
  {
   "cell_type": "markdown",
   "id": "7cc6a835",
   "metadata": {},
   "source": [
    "---"
   ]
  },
  {
   "cell_type": "markdown",
   "id": "8683de5c",
   "metadata": {},
   "source": [
    "<p style=\"font-size: 30px; font-weight: 700; margin-bottom: 3rem; color:#2889CC\">순서가 없는 데이터 구조</p>\n",
    "\n",
    "- 알고리즘에 빈번히 활용되는 순서가 없는(unordered) 데이터 구조\n",
    "    - 셋(Set)\n",
    "    - 딕셔너리(Dictionary)"
   ]
  },
  {
   "cell_type": "markdown",
   "id": "b4742bd5",
   "metadata": {},
   "source": [
    "# 셋(Set)\n",
    "\n",
    "> 변경 가능하고(mutable), 순서가 없고(unordered), 순회 가능한(iterable)\n",
    "\n",
    "![image](https://user-images.githubusercontent.com/90173310/148152940-d5feff4f-f950-4e58-87ab-fcdedba7e825.png)"
   ]
  },
  {
   "cell_type": "markdown",
   "id": "e01b0120",
   "metadata": {},
   "source": [
    "## 추가 및 삭제\n",
    "\n",
    "### `.add(elem)`\n",
    "elem을 셋(set)에 추가합니다."
   ]
  },
  {
   "cell_type": "code",
   "execution_count": 129,
   "id": "e89b7686",
   "metadata": {},
   "outputs": [],
   "source": [
    "a = {'사과', '바나나', '수박'}"
   ]
  },
  {
   "cell_type": "code",
   "execution_count": 132,
   "id": "e6b0163e",
   "metadata": {},
   "outputs": [
    {
     "name": "stdout",
     "output_type": "stream",
     "text": [
      "{'포도', '사과', '수박', '바나나'}\n"
     ]
    }
   ],
   "source": [
    "# add 메서드로 셋(set) a에 '포도'를 각각 2번 작성한 이후 셋(set) a를 출력해봅시다.\n",
    "\n",
    "a.add('포도')\n",
    "print(a)"
   ]
  },
  {
   "cell_type": "markdown",
   "id": "6de2a869",
   "metadata": {},
   "source": [
    "### `.update(*others)`\n",
    "\n",
    "여러 값을 추가합니다.\n",
    "\n",
    "반드시 iterable 데이터 구조를 전달해야합니다."
   ]
  },
  {
   "cell_type": "code",
   "execution_count": null,
   "id": "c82987e8",
   "metadata": {},
   "outputs": [],
   "source": [
    "a = {'사과', '바나나', '수박'}"
   ]
  },
  {
   "cell_type": "code",
   "execution_count": 134,
   "id": "7edc88ee",
   "metadata": {},
   "outputs": [
    {
     "name": "stdout",
     "output_type": "stream",
     "text": [
      "{'수박', '바나나', '레몬', '포도', '토마토', '딸기', '사과'}\n"
     ]
    }
   ],
   "source": [
    "# update 메서드로 셋(set) a에\n",
    "# {'토마토', '토마토', '딸기'}와 {'포도', '레몬'}을 동시에 update후, a를 출력해봅시다.\n",
    "\n",
    "a.update({'토마토', '토마토', '딸기'}, {'포도', '레몬'})\n",
    "print(a)"
   ]
  },
  {
   "cell_type": "markdown",
   "id": "02554c24",
   "metadata": {},
   "source": [
    "### `.remove(elem)`\n",
    "\n",
    "elem을 셋(set)에서 삭제하고, 셋(set) 내에 elem이 존재하지 않으면 KeyError가 발생합니다."
   ]
  },
  {
   "cell_type": "code",
   "execution_count": null,
   "id": "7d4fb638",
   "metadata": {},
   "outputs": [],
   "source": [
    "a = {'사과', '바나나', '수박'}"
   ]
  },
  {
   "cell_type": "code",
   "execution_count": 135,
   "id": "ba980000",
   "metadata": {},
   "outputs": [
    {
     "ename": "KeyError",
     "evalue": "'애플'",
     "output_type": "error",
     "traceback": [
      "\u001b[1;31m---------------------------------------------------------------------------\u001b[0m",
      "\u001b[1;31mKeyError\u001b[0m                                  Traceback (most recent call last)",
      "\u001b[1;32mc:\\Users\\SSAFY\\Desktop\\HWS\\0726\\06_01_데이터구조.ipynb 셀 122\u001b[0m in \u001b[0;36m<cell line: 4>\u001b[1;34m()\u001b[0m\n\u001b[0;32m      <a href='vscode-notebook-cell:/c%3A/Users/SSAFY/Desktop/HWS/0726/06_01_%EB%8D%B0%EC%9D%B4%ED%84%B0%EA%B5%AC%EC%A1%B0.ipynb#ch0000120?line=0'>1</a>\u001b[0m \u001b[39m# remove 메서드는 셋(set) 내에 elem 없는 경우, 오류를 발생시킵니다.\u001b[39;00m\n\u001b[0;32m      <a href='vscode-notebook-cell:/c%3A/Users/SSAFY/Desktop/HWS/0726/06_01_%EB%8D%B0%EC%9D%B4%ED%84%B0%EA%B5%AC%EC%A1%B0.ipynb#ch0000120?line=1'>2</a>\u001b[0m \u001b[39m# a에서 '애플'을 remove하여 오류를 확인해봅시다.\u001b[39;00m\n\u001b[1;32m----> <a href='vscode-notebook-cell:/c%3A/Users/SSAFY/Desktop/HWS/0726/06_01_%EB%8D%B0%EC%9D%B4%ED%84%B0%EA%B5%AC%EC%A1%B0.ipynb#ch0000120?line=3'>4</a>\u001b[0m a\u001b[39m.\u001b[39;49mremove(\u001b[39m'\u001b[39;49m\u001b[39m애플\u001b[39;49m\u001b[39m'\u001b[39;49m)\n",
      "\u001b[1;31mKeyError\u001b[0m: '애플'"
     ]
    }
   ],
   "source": [
    "# remove 메서드는 셋(set) 내에 elem 없는 경우, 오류를 발생시킵니다.\n",
    "# a에서 '애플'을 remove하여 오류를 확인해봅시다.\n",
    "\n",
    "a.remove('애플')"
   ]
  },
  {
   "cell_type": "markdown",
   "id": "c286589b",
   "metadata": {},
   "source": [
    "### `.discard(elem)`\n",
    "`elem`을 셋(set)에서 삭제합니다.\n",
    "\n",
    "remove와 다른 점은 elem이 셋(set) 내에 존재하지 않아도, 에러가 발생하지 않는다는 점입니다."
   ]
  },
  {
   "cell_type": "code",
   "execution_count": 137,
   "id": "88ed4bff",
   "metadata": {},
   "outputs": [],
   "source": [
    "a = {'사과', '바나나', '수박'}"
   ]
  },
  {
   "cell_type": "code",
   "execution_count": 138,
   "id": "8737250b",
   "metadata": {},
   "outputs": [
    {
     "name": "stdout",
     "output_type": "stream",
     "text": [
      "{'사과', '바나나'}\n"
     ]
    }
   ],
   "source": [
    "# a에 '포도'와 '수박'을 각각 discard한 이후 셋(set) a를 출력해봅시다.\n",
    "\n",
    "a.discard('포도')\n",
    "a.discard('수박')\n",
    "print(a)"
   ]
  },
  {
   "cell_type": "markdown",
   "id": "e6a83e4d",
   "metadata": {},
   "source": [
    "## 셋(set) 메서드 모두 확인하기\n",
    "파이썬 내장함수 dir을 통해 컨테이너가 가지고 있는 메서드를 확인할 수 있습니다."
   ]
  },
  {
   "cell_type": "code",
   "execution_count": 139,
   "id": "c12268c8",
   "metadata": {
    "scrolled": true
   },
   "outputs": [
    {
     "data": {
      "text/plain": [
       "['__and__',\n",
       " '__class__',\n",
       " '__class_getitem__',\n",
       " '__contains__',\n",
       " '__delattr__',\n",
       " '__dir__',\n",
       " '__doc__',\n",
       " '__eq__',\n",
       " '__format__',\n",
       " '__ge__',\n",
       " '__getattribute__',\n",
       " '__gt__',\n",
       " '__hash__',\n",
       " '__iand__',\n",
       " '__init__',\n",
       " '__init_subclass__',\n",
       " '__ior__',\n",
       " '__isub__',\n",
       " '__iter__',\n",
       " '__ixor__',\n",
       " '__le__',\n",
       " '__len__',\n",
       " '__lt__',\n",
       " '__ne__',\n",
       " '__new__',\n",
       " '__or__',\n",
       " '__rand__',\n",
       " '__reduce__',\n",
       " '__reduce_ex__',\n",
       " '__repr__',\n",
       " '__ror__',\n",
       " '__rsub__',\n",
       " '__rxor__',\n",
       " '__setattr__',\n",
       " '__sizeof__',\n",
       " '__str__',\n",
       " '__sub__',\n",
       " '__subclasshook__',\n",
       " '__xor__',\n",
       " 'add',\n",
       " 'clear',\n",
       " 'copy',\n",
       " 'difference',\n",
       " 'difference_update',\n",
       " 'discard',\n",
       " 'intersection',\n",
       " 'intersection_update',\n",
       " 'isdisjoint',\n",
       " 'issubset',\n",
       " 'issuperset',\n",
       " 'pop',\n",
       " 'remove',\n",
       " 'symmetric_difference',\n",
       " 'symmetric_difference_update',\n",
       " 'union',\n",
       " 'update']"
      ]
     },
     "execution_count": 139,
     "metadata": {},
     "output_type": "execute_result"
    }
   ],
   "source": [
    "# dir 함수로 셋(set)이 가지고 있는 메서드를 확인할 수 있습니다.\n",
    "dir(set)"
   ]
  },
  {
   "cell_type": "markdown",
   "id": "31b134b4",
   "metadata": {},
   "source": [
    "---"
   ]
  },
  {
   "cell_type": "markdown",
   "id": "8413850d",
   "metadata": {},
   "source": [
    "# 딕셔너리(Dictionary)\n",
    "\n",
    "> 변경 가능하고(mutable), 순서가 없고(unordered), 순회 가능한(iterable)\n",
    ">\n",
    "> `Key: Value` 페어(pair)의 자료구조\n",
    "\n",
    "![image](https://user-images.githubusercontent.com/90173310/148152976-8565e877-2343-4364-97b5-7ad4efd73992.png)"
   ]
  },
  {
   "cell_type": "markdown",
   "id": "e89281e7",
   "metadata": {},
   "source": [
    "## 조회"
   ]
  },
  {
   "cell_type": "markdown",
   "id": "9eaf66c9",
   "metadata": {},
   "source": [
    "### `.get(key[, default])`\n",
    "\n",
    "key를 통해 value를 가져옵니다.\n",
    "\n",
    "key가 존재하지 않을 경우 None을 반환합니다.\n",
    "<u>KeyError가 발생하지 않습니다.</u>"
   ]
  },
  {
   "cell_type": "code",
   "execution_count": 141,
   "id": "e82d6d07",
   "metadata": {},
   "outputs": [],
   "source": [
    "my_dict = {'apple': '사과', 'banana': '바나나', 'melon': '멜론'}"
   ]
  },
  {
   "cell_type": "code",
   "execution_count": 142,
   "id": "886d6ef8",
   "metadata": {},
   "outputs": [
    {
     "ename": "KeyError",
     "evalue": "'pineapple'",
     "output_type": "error",
     "traceback": [
      "\u001b[1;31m---------------------------------------------------------------------------\u001b[0m",
      "\u001b[1;31mKeyError\u001b[0m                                  Traceback (most recent call last)",
      "\u001b[1;32mc:\\Users\\SSAFY\\Desktop\\HWS\\0726\\06_01_데이터구조.ipynb 셀 133\u001b[0m in \u001b[0;36m<cell line: 3>\u001b[1;34m()\u001b[0m\n\u001b[0;32m      <a href='vscode-notebook-cell:/c%3A/Users/SSAFY/Desktop/HWS/0726/06_01_%EB%8D%B0%EC%9D%B4%ED%84%B0%EA%B5%AC%EC%A1%B0.ipynb#ch0000131?line=0'>1</a>\u001b[0m \u001b[39m# get 메서드 없이 딕셔너리 my_dict의 key 'pineapple'의 value를 출력하는 코드를 실행시켜 오류를 확인해봅시다.\u001b[39;00m\n\u001b[1;32m----> <a href='vscode-notebook-cell:/c%3A/Users/SSAFY/Desktop/HWS/0726/06_01_%EB%8D%B0%EC%9D%B4%ED%84%B0%EA%B5%AC%EC%A1%B0.ipynb#ch0000131?line=2'>3</a>\u001b[0m my_dict[\u001b[39m'\u001b[39;49m\u001b[39mpineapple\u001b[39;49m\u001b[39m'\u001b[39;49m]\n",
      "\u001b[1;31mKeyError\u001b[0m: 'pineapple'"
     ]
    }
   ],
   "source": [
    "# get 메서드 없이 딕셔너리 my_dict의 key 'pineapple'의 value를 출력하는 코드를 실행시켜 오류를 확인해봅시다.\n",
    "\n",
    "my_dict['pineapple']"
   ]
  },
  {
   "cell_type": "code",
   "execution_count": 146,
   "id": "b4b7c60e",
   "metadata": {},
   "outputs": [
    {
     "name": "stdout",
     "output_type": "stream",
     "text": [
      "None\n"
     ]
    }
   ],
   "source": [
    "# get 메서드로 딕셔너리 my_dict의 key 'pineapple'의 value를 출력해봅시다.\n",
    "\n",
    "print(my_dict.get('pineapple'))"
   ]
  },
  {
   "cell_type": "code",
   "execution_count": 147,
   "id": "1c934e76",
   "metadata": {},
   "outputs": [
    {
     "name": "stdout",
     "output_type": "stream",
     "text": [
      "사과\n"
     ]
    }
   ],
   "source": [
    "# get 메서드로 딕셔너리 my_dict의 key 'apple'의 value를 출력해봅시다.\n",
    "\n",
    "print(my_dict.get('apple'))"
   ]
  },
  {
   "cell_type": "code",
   "execution_count": 153,
   "id": "95ee7580",
   "metadata": {},
   "outputs": [
    {
     "name": "stdout",
     "output_type": "stream",
     "text": [
      "0\n"
     ]
    }
   ],
   "source": [
    "# get 메서드로 딕셔너리 my_dict의 key 'pineapple'의 value를 출력해봅시다.\n",
    "# 단, key가 없다면 0을 반환하도록 해봅시다.\n",
    "\n",
    "print(my_dict.get('pineapple', 0))"
   ]
  },
  {
   "cell_type": "markdown",
   "id": "5861ceaa",
   "metadata": {},
   "source": [
    "### `.setdefault(key[, default])`\n",
    "`dict.get()` 메서드와 비슷한 동작을 하는 메서드로, key가 딕셔너리에 있으면 value를 돌려줍니다.\n",
    "\n",
    "get과 다른 점은 key가 딕셔너리에 없을 경우, default 값을 갖는 key 를 삽입한 후 default 를 반환한다는 점입니다. 만일 default가 주어지지 않을 경우, None 을 돌려줍니다."
   ]
  },
  {
   "cell_type": "code",
   "execution_count": 154,
   "id": "c04bf309",
   "metadata": {},
   "outputs": [
    {
     "data": {
      "text/plain": [
       "'사과'"
      ]
     },
     "execution_count": 154,
     "metadata": {},
     "output_type": "execute_result"
    }
   ],
   "source": [
    "# setdefault 메서드로 딕셔너리 my_dict의 key 'apple'의 value를 가져와서 출력해봅시다.\n",
    "\n",
    "my_dict = {'apple': '사과', 'banana': '바나나', 'melon': '멜론'}\n",
    "my_dict.setdefault('apple')"
   ]
  },
  {
   "cell_type": "code",
   "execution_count": 156,
   "id": "b8b3e721",
   "metadata": {
    "scrolled": true
   },
   "outputs": [
    {
     "data": {
      "text/plain": [
       "'파인애플'"
      ]
     },
     "execution_count": 156,
     "metadata": {},
     "output_type": "execute_result"
    }
   ],
   "source": [
    "# setdefault 메서드를 통해 딕셔너리 my_dict의 key 'pineapple'의 value를 가져와서 출력해봅시다.\n",
    "# 만일 pineapple이 없을 경우, '파인애플'을 출력하도록 합니다.\n",
    "\n",
    "my_dict.setdefault('pineapple', '파인애플')"
   ]
  },
  {
   "cell_type": "code",
   "execution_count": 157,
   "id": "5a67554f",
   "metadata": {},
   "outputs": [
    {
     "name": "stdout",
     "output_type": "stream",
     "text": [
      "{'apple': '사과', 'banana': '바나나', 'melon': '멜론', 'pineapple': '파인애플'}\n"
     ]
    }
   ],
   "source": [
    "# my_dict를 출력해봅시다.\n",
    "print(my_dict)"
   ]
  },
  {
   "cell_type": "markdown",
   "id": "d5876a00",
   "metadata": {},
   "source": [
    "## 추가 및 삭제\n",
    "\n",
    "### `.pop(key[, default])`\n",
    "\n",
    "key가 딕셔너리에 있으면 제거하고 그 값을 돌려줍니다. 그렇지 않으면 default를 반환합니다.\n",
    "\n",
    "default가 없는 상태에서 해당 key가 딕셔너리에 없는 경우, KeyError가 발생합니다."
   ]
  },
  {
   "cell_type": "code",
   "execution_count": 160,
   "id": "4aa8eb21",
   "metadata": {},
   "outputs": [],
   "source": [
    "my_dict = {'apple': '사과', 'banana': '바나나'}"
   ]
  },
  {
   "cell_type": "code",
   "execution_count": 161,
   "id": "5115f511",
   "metadata": {},
   "outputs": [
    {
     "name": "stdout",
     "output_type": "stream",
     "text": [
      "{'banana': '바나나'}\n"
     ]
    }
   ],
   "source": [
    "# pop 메서드로 딕셔너리 my_dict의 key 'apple'을 제거해봅시다.\n",
    "# 제거 후, 딕셔너리 my_dict를 출력해봅시다.\n",
    "\n",
    "my_dict.pop('apple')\n",
    "print(my_dict)"
   ]
  },
  {
   "cell_type": "code",
   "execution_count": 162,
   "id": "13b84231",
   "metadata": {},
   "outputs": [
    {
     "ename": "KeyError",
     "evalue": "'melon'",
     "output_type": "error",
     "traceback": [
      "\u001b[1;31m---------------------------------------------------------------------------\u001b[0m",
      "\u001b[1;31mKeyError\u001b[0m                                  Traceback (most recent call last)",
      "\u001b[1;32mc:\\Users\\SSAFY\\Desktop\\HWS\\0726\\06_01_데이터구조.ipynb 셀 144\u001b[0m in \u001b[0;36m<cell line: 3>\u001b[1;34m()\u001b[0m\n\u001b[0;32m      <a href='vscode-notebook-cell:/c%3A/Users/SSAFY/Desktop/HWS/0726/06_01_%EB%8D%B0%EC%9D%B4%ED%84%B0%EA%B5%AC%EC%A1%B0.ipynb#ch0000142?line=0'>1</a>\u001b[0m \u001b[39m# 제거하고자 하는 key가 딕셔너리에 없으면 KeyError가 발생합니다.\u001b[39;00m\n\u001b[0;32m      <a href='vscode-notebook-cell:/c%3A/Users/SSAFY/Desktop/HWS/0726/06_01_%EB%8D%B0%EC%9D%B4%ED%84%B0%EA%B5%AC%EC%A1%B0.ipynb#ch0000142?line=1'>2</a>\u001b[0m \u001b[39m# 실행시켜 오류를 확인해봅시다.\u001b[39;00m\n\u001b[1;32m----> <a href='vscode-notebook-cell:/c%3A/Users/SSAFY/Desktop/HWS/0726/06_01_%EB%8D%B0%EC%9D%B4%ED%84%B0%EA%B5%AC%EC%A1%B0.ipynb#ch0000142?line=2'>3</a>\u001b[0m my_dict\u001b[39m.\u001b[39;49mpop(\u001b[39m'\u001b[39;49m\u001b[39mmelon\u001b[39;49m\u001b[39m'\u001b[39;49m)\n",
      "\u001b[1;31mKeyError\u001b[0m: 'melon'"
     ]
    }
   ],
   "source": [
    "# 제거하고자 하는 key가 딕셔너리에 없으면 KeyError가 발생합니다.\n",
    "# 실행시켜 오류를 확인해봅시다.\n",
    "my_dict.pop('melon')"
   ]
  },
  {
   "cell_type": "code",
   "execution_count": 163,
   "id": "08c9151e",
   "metadata": {},
   "outputs": [
    {
     "data": {
      "text/plain": [
       "0"
      ]
     },
     "execution_count": 163,
     "metadata": {},
     "output_type": "execute_result"
    }
   ],
   "source": [
    "# pop 메서드의 두번째 인자로 default 값을 설정 해 KeyError가 발생하지 않도록 할 수 있습니다.\n",
    "# pop 메서드로 딕셔너리 my_dict의 key 'melon'을 제거하고 해당 key가 없다면 0을 반환하도록 해봅시다.\n",
    "\n",
    "my_dict.pop('melon', 0)"
   ]
  },
  {
   "cell_type": "markdown",
   "id": "d25704ef",
   "metadata": {},
   "source": [
    "### `.update([other])`\n",
    "other 가 제공하는 key,value 쌍으로 딕셔너리를 덮어씁니다.\n",
    "`other` 는 다른 딕셔너리나 key/value 쌍으로 되어있는 모든 iterable을 사용 가능합니다.\n",
    "\n",
    "- `keyword argument`로 업데이트 하는 방법\n",
    "    - 키워드 인자가 지정되면, 딕셔너리는 그 key/value 쌍으로 갱신됩니다."
   ]
  },
  {
   "cell_type": "code",
   "execution_count": 164,
   "id": "acb6cf47",
   "metadata": {},
   "outputs": [],
   "source": [
    "my_dict = {'apple': '사과', 'banana': '바나나', 'melon': '멜론'}"
   ]
  },
  {
   "cell_type": "code",
   "execution_count": 169,
   "id": "24862ab6",
   "metadata": {},
   "outputs": [],
   "source": [
    "# 딕셔너리 my_dict의 key가 'apple'일 때, value를 '사과아'로 업데이트해봅시다.\n",
    "# update 메서드와 keyword argument를 이용하여 작성하세요.\n",
    "\n",
    "my_dict.update(apple = '사과아')"
   ]
  },
  {
   "cell_type": "code",
   "execution_count": 170,
   "id": "e0cdc90d",
   "metadata": {
    "scrolled": true
   },
   "outputs": [
    {
     "name": "stdout",
     "output_type": "stream",
     "text": [
      "{'apple': '사과아', 'banana': '바나나', 'melon': '멜론'}\n"
     ]
    }
   ],
   "source": [
    "# 딕셔너리 my_dict를 출력해봅시다.\n",
    "\n",
    "print(my_dict)"
   ]
  },
  {
   "cell_type": "code",
   "execution_count": 171,
   "id": "b0d54099",
   "metadata": {},
   "outputs": [],
   "source": [
    "# 딕셔너리를 사용하여 여러 key/value를 my_dict를 업데이트할 수 있습니다.\n",
    "# key 'mango'와 value '망고'의 쌍과 key 'watermelon'과 '수박'의 쌍을 가지는 딕셔너리 d를 만들고,\n",
    "# update 메서드를 사용하여 my_dict에 d 값을 업데이트해봅시다.\n",
    "d = {'mango': '망고', 'watermelon': '수박'}\n",
    "\n",
    "my_dict.update(d)\n"
   ]
  },
  {
   "cell_type": "code",
   "execution_count": 172,
   "id": "5332528d",
   "metadata": {},
   "outputs": [
    {
     "name": "stdout",
     "output_type": "stream",
     "text": [
      "{'apple': '사과아', 'banana': '바나나', 'melon': '멜론', 'mango': '망고', 'watermelon': '수박'}\n"
     ]
    }
   ],
   "source": [
    "# 딕셔너리 my_dict를 출력해봅시다.\n",
    "\n",
    "print(my_dict)"
   ]
  },
  {
   "cell_type": "markdown",
   "id": "0338ce03",
   "metadata": {},
   "source": [
    "## 딕셔너리 메서드 모두 확인하기\n",
    "파이썬 내장함수 dir을 통해 컨테이너가 가지고 있는 메서드를 확인할 수 있습니다."
   ]
  },
  {
   "cell_type": "code",
   "execution_count": 173,
   "id": "a757deb8",
   "metadata": {
    "scrolled": true
   },
   "outputs": [
    {
     "data": {
      "text/plain": [
       "['__class__',\n",
       " '__class_getitem__',\n",
       " '__contains__',\n",
       " '__delattr__',\n",
       " '__delitem__',\n",
       " '__dir__',\n",
       " '__doc__',\n",
       " '__eq__',\n",
       " '__format__',\n",
       " '__ge__',\n",
       " '__getattribute__',\n",
       " '__getitem__',\n",
       " '__gt__',\n",
       " '__hash__',\n",
       " '__init__',\n",
       " '__init_subclass__',\n",
       " '__ior__',\n",
       " '__iter__',\n",
       " '__le__',\n",
       " '__len__',\n",
       " '__lt__',\n",
       " '__ne__',\n",
       " '__new__',\n",
       " '__or__',\n",
       " '__reduce__',\n",
       " '__reduce_ex__',\n",
       " '__repr__',\n",
       " '__reversed__',\n",
       " '__ror__',\n",
       " '__setattr__',\n",
       " '__setitem__',\n",
       " '__sizeof__',\n",
       " '__str__',\n",
       " '__subclasshook__',\n",
       " 'clear',\n",
       " 'copy',\n",
       " 'fromkeys',\n",
       " 'get',\n",
       " 'items',\n",
       " 'keys',\n",
       " 'pop',\n",
       " 'popitem',\n",
       " 'setdefault',\n",
       " 'update',\n",
       " 'values']"
      ]
     },
     "execution_count": 173,
     "metadata": {},
     "output_type": "execute_result"
    }
   ],
   "source": [
    "# dir 함수로 딕셔너리가 가지고 있는 메서드를 확인할 수 있습니다.\n",
    "dir(dict)"
   ]
  },
  {
   "cell_type": "markdown",
   "id": "639ac315",
   "metadata": {},
   "source": [
    "---"
   ]
  },
  {
   "cell_type": "markdown",
   "id": "c146c1f8",
   "metadata": {},
   "source": [
    "# 얕은 복사와 깊은 복사\n"
   ]
  },
  {
   "cell_type": "markdown",
   "id": "c1db0b20",
   "metadata": {},
   "source": [
    "## 데이터 분류\n",
    "**데이터의 분류**에 따라 복사가 달라집니다.\n",
    "데이터는 크게 변경 가능한 것(`mutable`)들과 변경 불가능한 것(`immutable`)으로 나뉘며, python은 각각을 다르게 다룹니다. 먼저 변경 불가능한 데이터를 살펴보겠습니다."
   ]
  },
  {
   "cell_type": "markdown",
   "id": "1d8ce575",
   "metadata": {},
   "source": [
    "### 변경 불가능한(`immutable`) 데이터\n",
    "* 리터럴(literal)\n",
    "\n",
    "    - 숫자(Number)\n",
    "    - 글자(String)\n",
    "    - 참/거짓(Bool)\n",
    "\n",
    "* `range()`\n",
    "\n",
    "* `tuple()`\n",
    "\n",
    "* `frozenset()`"
   ]
  },
  {
   "cell_type": "code",
   "execution_count": 174,
   "id": "f292539d",
   "metadata": {},
   "outputs": [
    {
     "name": "stdout",
     "output_type": "stream",
     "text": [
      "20\n",
      "10\n"
     ]
    }
   ],
   "source": [
    "# immutable 데이터의 복사는 어떻게 이루어지는지 확인해봅시다.\n",
    "a = 20\n",
    "b = a\n",
    "b = 10\n",
    "\n",
    "print(a)\n",
    "print(b)"
   ]
  },
  {
   "cell_type": "code",
   "execution_count": 175,
   "id": "b10ac5a2",
   "metadata": {
    "scrolled": true
   },
   "outputs": [
    {
     "data": {
      "text/html": [
       "<iframe width=\"800\" height=\"500\" frameborder=\"0\" src=\"http://pythontutor.com/iframe-embed.html#code=a%20%3D%2020%0Ab%20%3D%20a%0Ab%20%3D%2010%0A%0Aprint%28a%29%0Aprint%28b%29&codeDivHeight=400&codeDivWidth=350&cumulative=false&curInstr=0&heapPrimitives=nevernest&origin=opt-frontend.js&py=3&rawInputLstJSON=%5B%5D&textReferences=false\"> </iframe>\n"
      ],
      "text/plain": [
       "<IPython.core.display.HTML object>"
      ]
     },
     "metadata": {},
     "output_type": "display_data"
    }
   ],
   "source": [
    "%%html\n",
    "<iframe width=\"800\" height=\"500\" frameborder=\"0\" src=\"http://pythontutor.com/iframe-embed.html#code=a%20%3D%2020%0Ab%20%3D%20a%0Ab%20%3D%2010%0A%0Aprint%28a%29%0Aprint%28b%29&codeDivHeight=400&codeDivWidth=350&cumulative=false&curInstr=0&heapPrimitives=nevernest&origin=opt-frontend.js&py=3&rawInputLstJSON=%5B%5D&textReferences=false\"> </iframe>"
   ]
  },
  {
   "cell_type": "markdown",
   "id": "f7a28b7b",
   "metadata": {},
   "source": [
    "### 변경 가능한(`mutable`) 데이터\n",
    "\n",
    "- `list`\n",
    "- `dict`\n",
    "- `set`"
   ]
  },
  {
   "cell_type": "code",
   "execution_count": 176,
   "id": "26992f40",
   "metadata": {
    "scrolled": true
   },
   "outputs": [
    {
     "name": "stdout",
     "output_type": "stream",
     "text": [
      "[100, 2, 3, 4]\n",
      "[100, 2, 3, 4]\n"
     ]
    }
   ],
   "source": [
    "# mutable 데이터의 복사는 어떻게 이루어지는지 확인해봅시다.\n",
    "a = [1, 2, 3, 4]\n",
    "b = a\n",
    "b[0] = 100\n",
    "\n",
    "print(a)\n",
    "print(b)"
   ]
  },
  {
   "cell_type": "code",
   "execution_count": 177,
   "id": "f5d0b12e",
   "metadata": {
    "scrolled": true
   },
   "outputs": [
    {
     "data": {
      "text/html": [
       "<iframe width=\"800\" height=\"500\" frameborder=\"0\" src=\"http://pythontutor.com/iframe-embed.html#code=a%20%3D%20%5B1,%202,%203,%204%5D%0Ab%20%3D%20a%0Ab%5B0%5D%20%3D%20100%0A%0Aprint%28a%29%0Aprint%28b%29&codeDivHeight=400&codeDivWidth=350&cumulative=false&curInstr=0&heapPrimitives=nevernest&origin=opt-frontend.js&py=3&rawInputLstJSON=%5B%5D&textReferences=false\"> </iframe>\n"
      ],
      "text/plain": [
       "<IPython.core.display.HTML object>"
      ]
     },
     "metadata": {},
     "output_type": "display_data"
    }
   ],
   "source": [
    "%%html\n",
    "<iframe width=\"800\" height=\"500\" frameborder=\"0\" src=\"http://pythontutor.com/iframe-embed.html#code=a%20%3D%20%5B1,%202,%203,%204%5D%0Ab%20%3D%20a%0Ab%5B0%5D%20%3D%20100%0A%0Aprint%28a%29%0Aprint%28b%29&codeDivHeight=400&codeDivWidth=350&cumulative=false&curInstr=0&heapPrimitives=nevernest&origin=opt-frontend.js&py=3&rawInputLstJSON=%5B%5D&textReferences=false\"> </iframe>"
   ]
  },
  {
   "cell_type": "markdown",
   "id": "7258514a",
   "metadata": {},
   "source": [
    "**복사 방법**\n",
    "\n",
    "파이썬에서 데이터를 복사하는 방법은 크게, 세 가지로 나뉩니다.\n",
    "> - 할당 (Assignment)\n",
    "> - 얕은 복사 (Shallow copy)\n",
    "> - 깊은 복사 (Deep copy)\n",
    "\n",
    "## 할당\n",
    "먼저 할당을 확인해 보겠습니다."
   ]
  },
  {
   "cell_type": "code",
   "execution_count": 178,
   "id": "72fe8cb7",
   "metadata": {},
   "outputs": [],
   "source": [
    "# original_list에 [1, 2, 3]을 저장합니다.\n",
    "original_list = [1, 2, 3]"
   ]
  },
  {
   "cell_type": "code",
   "execution_count": 179,
   "id": "070618e9",
   "metadata": {},
   "outputs": [
    {
     "name": "stdout",
     "output_type": "stream",
     "text": [
      "[1, 2, 3]\n"
     ]
    }
   ],
   "source": [
    "# 할당연산자(=)를 사용하여,\n",
    "# copy_list에 original_list를 저장하고 출력합니다.\n",
    "\n",
    "copy_list = original_list\n",
    "print(copy_list)"
   ]
  },
  {
   "cell_type": "code",
   "execution_count": 180,
   "id": "22d831e1",
   "metadata": {},
   "outputs": [
    {
     "name": "stdout",
     "output_type": "stream",
     "text": [
      "[5, 2, 3]\n"
     ]
    }
   ],
   "source": [
    "# copy_list의 첫 번째 값을 5로 바꾸고 original_list를 출력해봅시다.\n",
    "\n",
    "copy_list[0] = 5\n",
    "print(original_list)"
   ]
  },
  {
   "cell_type": "code",
   "execution_count": 182,
   "id": "7f33e600",
   "metadata": {},
   "outputs": [
    {
     "name": "stdout",
     "output_type": "stream",
     "text": [
      "1946141830528 1946141830528\n"
     ]
    }
   ],
   "source": [
    "# copy_list, original_list 각각의 id 값을\n",
    "# == 연산자로 비교해봅시다.\n",
    "\n",
    "print(id(copy_list), id(original_list))"
   ]
  },
  {
   "cell_type": "markdown",
   "id": "3c72a1c4",
   "metadata": {},
   "source": [
    "변수만 복사하다 보니 바라보는 객체는 당연히 동일합니다.\n",
    "<img src=\"https://user-images.githubusercontent.com/90173310/148327067-47a35f83-51a4-4c49-be1d-d5b40ece54df.png\n",
    "\" alt=\"drawing\" width=\"400\"/>\n",
    "\n",
    "즉, 두개의 중 하나만 변경되어도 나머지 하나도 동일하게 수정되는 현상이 발생하게 됩니다."
   ]
  },
  {
   "cell_type": "markdown",
   "id": "7df67993",
   "metadata": {},
   "source": [
    "## 얕은 복사(Shallow copy)"
   ]
  },
  {
   "cell_type": "markdown",
   "id": "75da9fbe",
   "metadata": {},
   "source": [
    "### slice 연산자 사용 `[:]`\n",
    "\n",
    "mutable 데이터 중 하나인 리스트를 예로 들어봅시다.\n",
    "리스트를 슬라이싱하여 할당 시, 새로운 id가 부여되며, 서로 영향을 받지 않습니다."
   ]
  },
  {
   "cell_type": "code",
   "execution_count": 184,
   "id": "5fe09622",
   "metadata": {},
   "outputs": [],
   "source": [
    "a = [1, 2, 3]"
   ]
  },
  {
   "cell_type": "code",
   "execution_count": 185,
   "id": "9962a003",
   "metadata": {},
   "outputs": [
    {
     "name": "stdout",
     "output_type": "stream",
     "text": [
      "[1, 2, 3]\n"
     ]
    }
   ],
   "source": [
    "# slice 연산자로 리스트 a의 모든 요소를 b에 저장합니다.\n",
    "# 리스트 b의 첫 번째 값을 5로 바꾸고 리스트 a를 출력합니다.\n",
    "# slice 연산자를 활용하면 새로운 리스트를 저장할 수 있습니다.\n",
    "\n",
    "b = a[:]\n",
    "b[0] = 5\n",
    "print(a)"
   ]
  },
  {
   "cell_type": "markdown",
   "id": "dcdc168e",
   "metadata": {},
   "source": [
    "### `list()` 활용"
   ]
  },
  {
   "cell_type": "code",
   "execution_count": null,
   "id": "47197247",
   "metadata": {},
   "outputs": [],
   "source": [
    "a = [1, 2, 3]"
   ]
  },
  {
   "cell_type": "code",
   "execution_count": 187,
   "id": "aec19a94",
   "metadata": {},
   "outputs": [
    {
     "name": "stdout",
     "output_type": "stream",
     "text": [
      "[1, 2, 3]\n"
     ]
    }
   ],
   "source": [
    "# list 함수로 리스트 a를 복사하여 b에 저장합니다.\n",
    "# 리스트 b의 첫 번째 값을 5로 바꾸고 리스트 a를 출력합니다.\n",
    "b = list(a)\n",
    "\n",
    "b[0] = 5\n",
    "print(a)"
   ]
  },
  {
   "cell_type": "markdown",
   "id": "d2938e56",
   "metadata": {},
   "source": [
    "* 하지만, 이렇게 하는 것도 일부 상황에만 서로 다른 `얕은 복사(shallow copy)`입니다.\n",
    "\n",
    "2차원 리스트와 같이 mutable 객체 안에 mutable 객체가 있는 경우 문제가 됩니다. 아래 예시를 통해 확인해봅시다."
   ]
  },
  {
   "cell_type": "code",
   "execution_count": 188,
   "id": "1e93ae7f",
   "metadata": {},
   "outputs": [],
   "source": [
    "a = [1, 2, [1, 2]]"
   ]
  },
  {
   "cell_type": "code",
   "execution_count": 189,
   "id": "0bc10a7b",
   "metadata": {
    "scrolled": true
   },
   "outputs": [
    {
     "name": "stdout",
     "output_type": "stream",
     "text": [
      "1946140523648 1946142433792\n"
     ]
    }
   ],
   "source": [
    "# slice 연산자로 리스트 a의 모든 요소를 b에 저장합니다.\n",
    "# 리스트 b의 index 2의 첫 번째 값을 5로 바꾸고 리스트 a와 b의 id와 그 값을 출력해봅시다.\n",
    "\n",
    "b = a[:]\n",
    "b[2][0] = 5\n",
    "print(id(a), id(b))"
   ]
  },
  {
   "cell_type": "markdown",
   "id": "5f7e97da",
   "metadata": {},
   "source": [
    "a와 b의 id는 다르다는 것을 확인하였지만, 내부 값은 영향을 받게 되었습니다.\n",
    "<img src=\"https://user-images.githubusercontent.com/90173310/148327165-e695ed56-d0c0-4916-94e5-a0564aebf0a6.png\" alt=\"drawing\" width=\"400\"/>\n",
    "\n",
    "내부의 객체 `id(a[2])`과 `id(b[2])`은 같은 주소를 바라보고 있기 때문입니다."
   ]
  },
  {
   "cell_type": "code",
   "execution_count": 190,
   "id": "97288d24",
   "metadata": {},
   "outputs": [
    {
     "name": "stdout",
     "output_type": "stream",
     "text": [
      "1946141906304 1946141906304\n"
     ]
    }
   ],
   "source": [
    "# id 함수를 통해 a[2]와 b[2]가 서로 같은 주소를 바라보고 있는지 확인하고 이를 출력해봅시다.\n",
    "\n",
    "print(id(a[2]), id(b[2]))"
   ]
  },
  {
   "cell_type": "markdown",
   "id": "d3afafed",
   "metadata": {},
   "source": [
    "## 깊은 복사(Deep copy)\n",
    "\n",
    "* 만일 중첩된 상황에서 복사를 하고 싶다면, `깊은 복사(deep copy)`를 해야 합니다. \n",
    "* 깊은 복사는 새로운 객체를 만들고 원본 객체 내에 있는 객체에 대한 복사를 재귀적으로 삽입합니다.\n",
    "* 즉, 내부에 있는 모든 객체까지 새롭게 값이 변경되게 됩니다."
   ]
  },
  {
   "cell_type": "code",
   "execution_count": 191,
   "id": "4e7a2d4d",
   "metadata": {},
   "outputs": [
    {
     "name": "stdout",
     "output_type": "stream",
     "text": [
      "[1, 2, [1, 2]]\n"
     ]
    }
   ],
   "source": [
    "# 내부에 있는 리스트까지 복사를 하기 위해서 copy 모듈을 활용합니다.\n",
    "import copy\n",
    "\n",
    "a = [1, 2, [1, 2]]\n",
    "b = copy.deepcopy(a)\n",
    "\n",
    "b[2][0] = 3\n",
    "print(a)"
   ]
  }
 ],
 "metadata": {
  "kernelspec": {
   "display_name": "Python 3.9.13 64-bit",
   "language": "python",
   "name": "python3"
  },
  "language_info": {
   "codemirror_mode": {
    "name": "ipython",
    "version": 3
   },
   "file_extension": ".py",
   "mimetype": "text/x-python",
   "name": "python",
   "nbconvert_exporter": "python",
   "pygments_lexer": "ipython3",
   "version": "3.9.13"
  },
  "toc": {
   "base_numbering": 1,
   "nav_menu": {},
   "number_sections": true,
   "sideBar": true,
   "skip_h1_title": false,
   "title_cell": "Table of Contents",
   "title_sidebar": "데이터 구조(Data Structure",
   "toc_cell": false,
   "toc_position": {
    "height": "calc(100% - 180px)",
    "left": "10px",
    "top": "150px",
    "width": "306.554px"
   },
   "toc_section_display": true,
   "toc_window_display": true
  },
  "vscode": {
   "interpreter": {
    "hash": "c4b9ebf4ca459396e2ad1150752490c26670c1a037c08cad955a4425787bec2e"
   }
  }
 },
 "nbformat": 4,
 "nbformat_minor": 5
}
