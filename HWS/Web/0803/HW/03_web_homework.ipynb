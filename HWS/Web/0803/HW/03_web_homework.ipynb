{
 "cells": [
  {
   "cell_type": "markdown",
   "metadata": {},
   "source": [
    "# Web 03. Grid System & Responsive Web"
   ]
  },
  {
   "cell_type": "markdown",
   "metadata": {},
   "source": [
    "## 1. Button 만들기\n",
    "아래 Button을 만들기 위해 (a), (b)에 들어갈 알맞은 Components를 작성하시오.\n",
    "\n",
    "`<button type=\"submit\" class=\"(a) (b)\">Submit</button>(a)(b)`\n",
    "\n",
    "**(a) = btn, (b) = btn-primary**"
   ]
  },
  {
   "cell_type": "markdown",
   "metadata": {},
   "source": [
    "## 2. Navbar 만들기\n",
    "아래 Navbar을 만들기 위해 (a), (b), (c)에 들어갈 알맞은 Components를 작성하시오.\n",
    "\n",
    "```\n",
    "<nav class=\"navbar navbar-expand-lg navbar-__(a)__ bg-__(a)__ \">\n",
    "<div class=\"container-fluid\">\n",
    "<a class=\"navbar-brand\" href=\"#\">\n",
    "<img src=“#\" alt=\"ssafy\" width=\"70\" height=\"30\" class=\"d-inline-block align-top\">\n",
    "</a>\n",
    "<button class=\"navbar-toggler\" type=\"button\" data-bs-toggle=\"collapse\" data-bs-target=\"#navbarNavDarkDropdown\"\n",
    "aria-controls=\"navbarNavDarkDropdown\" aria-expanded=\"false\" aria-label=\"Toggle navigation\">\n",
    "<span class=\"navbar-toggler-icon\"></span>\n",
    "</button>\n",
    "<div class=\"collapse navbar-collapse\" id=\"navbarNavDropdown\">\n",
    "<ul class=\"__(b)__\">\n",
    "<li class=\"nav-item dropdown\">\n",
    "<a class=\"nav-link dropdown-toggle\" href=\"#\" id=\"__(c)__\" role=\"button\" data-bs-toggle=\"dropdown\"\n",
    "aria-expanded=\"false\">아침\n",
    "</a>\n",
    "<ul class=\"dropdown-menu dropdown-menu-light\" aria-labelledby=\"navbarBreakfast\">\n",
    "<li><a class=\"dropdown-item\" href=\"#\">오믈렛</a></li>\n",
    "<li><a class=\"dropdown-item\" href=\"#\">샌드위치</a></li>\n",
    "<li><a class=\"dropdown-item\" href=\"#\">팬케이크</a></li>\n",
    "<li><a class=\"dropdown-item\" href=\"#\">김밥</a></li>\n",
    "<li><a class=\"dropdown-item\" href=\"#\">주먹밥</a></li>\n",
    "</ul>\n",
    "</li>\n",
    "<li class=\"nav-item dropdown\">\n",
    "<a class=\"nav-link dropdown-toggle\" href=\"#\" id=\"navbarLunch\" role=\"button\" data-bs-toggle=\"dropdown\"\n",
    "aria-expanded=\"false\">점심\n",
    "</a>\n",
    "<ul class=\"dropdown-menu dropdown-menu-light\" aria-labelledby=\"navbarLunch\">\n",
    "<li><a class=\"dropdown-item\" href=\"#\">샐러드</a></li>\n",
    "<li><a class=\"dropdown-item\" href=\"#\">떡볶이</a></li>\n",
    "<li><a class=\"dropdown-item\" href=\"#\">햄버거</a></li>\n",
    "</ul>\n",
    "</li> <li class=\"nav-item\">\n",
    "<a class=\"nav-link active\" href=\"#\">저녁</a>\n",
    "</li>\n",
    "<li class=\"nav-item\">\n",
    "<a class=\"nav-link disable\" href=\"#\">야식</a>\n",
    "</li>\n",
    "</ul>\n",
    "</div>\n",
    "</div>\n",
    "</nav>\n",
    "```\n",
    "\n",
    "**(a) = light, (b) = navbar-nav me-auto mb-2 mb-lg-0, (c) = navbarBreakfast**"
   ]
  },
  {
   "cell_type": "markdown",
   "metadata": {},
   "source": [
    "## 3. Pagination 만들기\n",
    "아래 Pagination을 만들기 위해 (a), (b), (c)에 들어갈 알맞은 Components를 작성하시오.\n",
    "```\n",
    "<nav aria-label=\"...\">\n",
    "  <ul class=\"__(a)__\">\n",
    "    <li class=\"page-item__(b)__\">\n",
    "      <a class=\"page-link\" href=\"#\" tabindex=\"-1\" aria-disabled=\"true\">Prev</a>\n",
    "    </li>\n",
    "    <li class=\"page-item__(c)__\" aria-current=\"page\">\n",
    "      <a class=\"page-link\" href=\"#\">1</a>\n",
    "    </li>\n",
    "    <li class=\"page-item\"><a class=\"page-link\" href=\"#\">2</a></li>\n",
    "    <li class=\"page-item\"><a class=\"page-link\" href=\"#\">3</a></li>\n",
    "    <li class=\"page-item\">\n",
    "      <a class=\"page-link\" href=\"#\">Next</a>\n",
    "    </li>\n",
    "  </ul>\n",
    "</nav>\n",
    "```\n",
    "\n",
    "**(a) = pagination, (b) = disabled, (c) = active**"
   ]
  }
 ],
 "metadata": {
  "kernelspec": {
   "display_name": "Python 3.9.13 64-bit",
   "language": "python",
   "name": "python3"
  },
  "language_info": {
   "name": "python",
   "version": "3.9.13"
  },
  "orig_nbformat": 4,
  "vscode": {
   "interpreter": {
    "hash": "d0f63c8ac4ae55f0599ce1f2b79c462941338767091400e19b50672fdac5e4d3"
   }
  }
 },
 "nbformat": 4,
 "nbformat_minor": 2
}
