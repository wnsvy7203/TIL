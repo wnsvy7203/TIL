{
 "cells": [
  {
   "cell_type": "markdown",
   "metadata": {},
   "source": [
    "# Web 03. Grid System & Responsive Web"
   ]
  },
  {
   "cell_type": "markdown",
   "metadata": {},
   "source": [
    "> **Problem**\n",
    "\n",
    "**Bootstrap Component**<br>\n",
    "아래의 페이지를 Bootstrap Class를 활용하여 작성하시오.\n",
    "- 각 요소(nav, header, section, footer)는 주어진 코드의 주석에 맞춰 작성합니다. \n",
    "- 모든 이미지 요소는 주어진 이미지 파일을 활용합니다.\n",
    "- 모든 구성 요소 배치는 flexbox를 활용 합니다.\n",
    "- 모든 텍스트 스타일은 공식 문서의 typography를 참고하여 작성합니다.\n",
    "\n",
    "1. Nav\n",
    "    - 로고 이미지와 네비게이션 리스트는 각각 네비게이션 바 양 끝에 배치합니다.\n",
    "    - 로고 이미지와 리스트의 항목이 수직 중앙 정렬되어있습니다.\n",
    "    - 네비게이션 바의 배경색은 공식 문서의 background color를 참고하여 작성합니다. \n",
    "    - 리스트의 각 항목들은 리스트 스타일이 아닙니다.\n",
    "    - 리스트의 항목 간 간격은 2rem입니다. 공식 문서의 spacing을 참고하여 작성합니다. \n",
    "    - 리스트의 각 항목들은 텍스트 색상이 흰색입니다.\n",
    "    - 리스트의 각 항목들에 마우스를 올렸을 때, 밑줄이 나오지 않도록 설정합니다.\n",
    "    - 네비게이션 바는 항상 브라우저 화면 최상단에 고정되어 있습니다.\n",
    "    - 위에 명시된 내용 이외에는 자유롭게 작성합니다.\n",
    "\n",
    "2. Header\n",
    "    - Header 내부의 요소(글, 버튼)는 수직, 수평 중앙에 배치 합니다.\n",
    "    - Header 내부의 글씨 크기는 공식 문서의 display heading을 활용합니다. \n",
    "    - Header 내부의 글씨 색상은 흰색이며, 굵기는 bold 입니다.\n",
    "    - Header 내부의 버튼의 색상은 파란색이며 크기는 크게 설정합니다.\n",
    "    - 위에 명시된 내용 이외에는 자유롭게 작성합니다.\n",
    "\n",
    "3. Section\n",
    "    - Section 내부의 요소(글, 이미지)는 수평 중앙에 배치 합니다.\n",
    "    - Section 내부의 3개의 이미지는 수평으로 나열되어 있습니다.\n",
    "    - Section 내부의 이미지간 간격은 동일합니다.\n",
    "    - 위에 명시된 내용 이외에는 자유롭게 작성합니다.\n",
    "\n",
    "4. Footer\n",
    "    - Footer에 작성된 내용은 수직, 수평 중앙에 배치 합니다.\n",
    "    - Footer의 배경색은 파란색입니다.\n",
    "    - Footer의 텍스트 색상은 흰색입니다.\n",
    "    - Footer에 작성된 내용의 빈 부분( _____ )은 본인의 이름을 작성해 주세요.\n",
    "    - Footer는 항상 브라우저 화면 최하단에 고정되어 있습니다. \n",
    "    - 위에 명시된 내용 이외에는 자유롭게 작성합니다."
   ]
  },
  {
   "cell_type": "markdown",
   "metadata": {},
   "source": [
    "1. Nav\n",
    "    - 로고 이미지와 네비게이션 리스트는 각각 네비게이션 바 양 끝에 배치합니다.\n",
    "    <!-- d-flex justify-content-between -->\n",
    "    - 로고 이미지와 리스트의 항목이 수직 중앙 정렬되어있습니다.\n",
    "    - 네비게이션 바의 배경색은 공식 문서의 background color를 참고하여 작성합니다. \n",
    "    - 리스트의 각 항목들은 리스트 스타일이 아닙니다.\n",
    "    - 리스트의 항목 간 간격은 2rem입니다. 공식 문서의 spacing을 참고하여 작성합니다. \n",
    "    - 리스트의 각 항목들은 텍스트 색상이 흰색입니다.\n",
    "    - 리스트의 각 항목들에 마우스를 올렸을 때, 밑줄이 나오지 않도록 설정합니다.\n",
    "    - 네비게이션 바는 항상 브라우저 화면 최상단에 고정되어 있습니다.\n",
    "    - 위에 명시된 내용 이외에는 자유롭게 작성합니다."
   ]
  }
 ],
 "metadata": {
  "kernelspec": {
   "display_name": "Python 3.9.13 64-bit",
   "language": "python",
   "name": "python3"
  },
  "language_info": {
   "name": "python",
   "version": "3.9.13"
  },
  "orig_nbformat": 4,
  "vscode": {
   "interpreter": {
    "hash": "c4b9ebf4ca459396e2ad1150752490c26670c1a037c08cad955a4425787bec2e"
   }
  }
 },
 "nbformat": 4,
 "nbformat_minor": 2
}
