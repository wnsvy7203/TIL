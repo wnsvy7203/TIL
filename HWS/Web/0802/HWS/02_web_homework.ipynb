{
 "cells": [
  {
   "cell_type": "markdown",
   "metadata": {},
   "source": [
    "# Web 02. HTML & CSS"
   ]
  },
  {
   "cell_type": "markdown",
   "metadata": {},
   "source": [
    "# 1. Semantic Tag\n",
    "보기 중 콘텐츠의 의미를 명확히 하기 위해 HTML5에서 새롭게 추가된\n",
    "시맨틱(semantic) 태그를 모두 고르시오.\n",
    "\n",
    "`div,  header,  h1,  section,  footer,  a,  form,  span`\n",
    "\n",
    "**header, section, footer**"
   ]
  },
  {
   "cell_type": "markdown",
   "metadata": {},
   "source": [
    "## 2. input Tag\n",
    "아래 이미지와 같이 로그인 Form을 생성하는 HTML코드를 작성하시오.<br>\n",
    "단, USERNAME 글자를 클릭하면 아이디를 입력하는 input에,<br>\n",
    "PWD 글자를 클릭하면 비밀번호를 입력하는 input에 focusing 되도록 하시오.\n",
    "\n",
    "`02_web_homeword_2.html 파일 참조`"
   ]
  },
  {
   "cell_type": "markdown",
   "metadata": {},
   "source": [
    "## 3. 크기 단위\n",
    "크기 단위 em은 요소에 지정된 상속된 사이즈나 기본 사이즈에 대해 상대적인 사이즈를 설정한다. 즉, 상속의 영향으로 사이즈가 의도치 않게 변경될 수 있는데 이를 예방하기 위해 HTML 최상위 요소의 사이즈를 기준으로 삼는 크기 단위는 무엇인가?\n",
    "\n",
    "`rem`"
   ]
  },
  {
   "cell_type": "markdown",
   "metadata": {},
   "source": [
    "## 4. 선택자\n",
    "다음 예제를 통해 ‘자손 결합자’와 ‘자식 결합자’의 차이를 설명하시오.\n",
    "\n",
    "```\n",
    "/* 자손결합자 */\n",
    "div p {\n",
    "color: crimson;\n",
    "}\n",
    "/* 자식결합자*/\n",
    "div > p {\n",
    "color: crimson;\n",
    "}\n",
    "```\n",
    "\n",
    "**자손 결합자는 길이 무관, 그 이후의 모든 태그를 따라간다.**<br>\n",
    "**자식 결합자는 div가 1번 태그라면 2번 태그를, 3번 태그라면 4번 태그를 따라가게 되어 있다.**"
   ]
  }
 ],
 "metadata": {
  "kernelspec": {
   "display_name": "Python 3.9.13 64-bit",
   "language": "python",
   "name": "python3"
  },
  "language_info": {
   "name": "python",
   "version": "3.9.13"
  },
  "orig_nbformat": 4,
  "vscode": {
   "interpreter": {
    "hash": "c4b9ebf4ca459396e2ad1150752490c26670c1a037c08cad955a4425787bec2e"
   }
  }
 },
 "nbformat": 4,
 "nbformat_minor": 2
}
