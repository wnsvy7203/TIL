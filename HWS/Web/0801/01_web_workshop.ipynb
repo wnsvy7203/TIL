{
 "cells": [
  {
   "cell_type": "markdown",
   "metadata": {},
   "source": [
    "# Web 01. HTML & CSS"
   ]
  },
  {
   "cell_type": "markdown",
   "metadata": {},
   "source": [
    "## 1. `<img>` tag\n",
    "<그림1>과 같은 폴더 구조가 있다. resume.html에서 코드를 작성 중일 때,\n",
    "image 폴더 안의 my_ssafy.png를 보여주는 `<img>` tag를 작성하시오.\n",
    "단, 이미지가 제대로 출력되지 않을 때는 ssafy 문자열이 출력 되도록 작성하시오.\n",
    "\n",
    "**body에**\n",
    "```\n",
    "<img src=\"..\\image\\my_ssafy.png\">\n",
    "```\n",
    "**삽입**"
   ]
  },
  {
   "cell_type": "markdown",
   "metadata": {},
   "source": [
    "## 2. 파일 경로\n",
    "위와 같이 경로를 (a)로 작성 할 시, github에 업로드 하거나 전체 폴더의 위치가\n",
    "변경 되었을 때 이미지를 불러 올 수 없게 된다.\n",
    "이를 해결 하려면 이미지 경로를 (b)로 바꾸어 작성하면 된다.\n",
    "(a)와 (b)에 들어갈 경로를 작성하시오.<br>\n",
    "**(a) - 절대 경로**<br>\n",
    "**(b) - 상대 경로**<br>"
   ]
  },
  {
   "cell_type": "markdown",
   "metadata": {},
   "source": [
    "## 3. Hyper Link (1, 2번 문제 연계)\n",
    "출력된 my_ssafy.png 이미지를 클릭하면 ssafy.com으로 이동하도록 코드를 수정하시오.\n",
    "\n",
    "**body에**\n",
    "```\n",
    "<a href=\"https://www.ssafy.com\">\n",
    "  <img src=\"C:\\Users\\wnsvy7203\\OneDrive\\바탕 화면\\HWS\\0801\\01_web_workshop\\ssafy\\image\\my_ssafy.png\">\n",
    "</a>\n",
    "```\n",
    "**삽입**"
   ]
  },
  {
   "cell_type": "markdown",
   "metadata": {},
   "source": [
    "## 4. 선택자\n",
    "1. 아래의 코드를 작성하고 결과를 확인 하시오.<br>\n",
    "```\n",
    "<div id=\"ssafy\">\n",
    "<h2>어떻게 선택 될까?</h2>\n",
    "<p>첫번째 단락</p>\n",
    "<p>두번째 단락</p>\n",
    "<p>세번째 단락</p>\n",
    "<p>네번째 단락</p>\n",
    "</div>\n",
    "\n",
    "#ssafy > p:nth-child(2){\n",
    "color: red;\n",
    "}\n",
    "```\n",
    "**첫번째 단락에 빨간색으로 변한다.**"
   ]
  },
  {
   "cell_type": "markdown",
   "metadata": {},
   "source": [
    "2. nth-child를 nth-of-type으로 변경하고 결과를 확인하시오.\n",
    "```\n",
    "#ssafy > p:nth-of-type (2){\n",
    "color: blue;\n",
    "}\n",
    "```\n",
    "**두번째 단락이 파란색으로 변한다.**"
   ]
  },
  {
   "cell_type": "markdown",
   "metadata": {},
   "source": [
    "3. 작성한 코드를 참고하여 nth-child()와 nth-of-type()의 차이점을 작성하시오."
   ]
  },
  {
   "cell_type": "markdown",
   "metadata": {},
   "source": [
    "nth-child()는 모든 타입 중에서 하나를, nth-of-type()은 **해당 타입** 중에서 골라 값을 변경한다.\n",
    "\n",
    "nth-child(2)에서 첫 번째 단락을 변경한 이유는 h2의 값 역시 포함해서 2번째의 요소를 변경했기 때문(?)\n",
    "\n",
    "nth-of-type(2)는 p 타입 중 2번째인 두번째 단락이 파란색으로 변하는 것."
   ]
  }
 ],
 "metadata": {
  "kernelspec": {
   "display_name": "Python 3.9.13 64-bit",
   "language": "python",
   "name": "python3"
  },
  "language_info": {
   "name": "python",
   "version": "3.9.13"
  },
  "orig_nbformat": 4,
  "vscode": {
   "interpreter": {
    "hash": "c4b9ebf4ca459396e2ad1150752490c26670c1a037c08cad955a4425787bec2e"
   }
  }
 },
 "nbformat": 4,
 "nbformat_minor": 2
}
