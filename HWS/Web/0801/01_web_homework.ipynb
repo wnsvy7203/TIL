{
 "cells": [
  {
   "cell_type": "markdown",
   "metadata": {},
   "source": [
    "# Web 01. HTML & CSS"
   ]
  },
  {
   "cell_type": "markdown",
   "metadata": {},
   "source": [
    "## 1. HTML 정의\n",
    "아래의 보기 (1) ~ (4) 중에서, HTML의 본딧말을 고르시오.\n",
    "```\n",
    "(1) Hyperlinks and Text Markup Language\n",
    "(2) Home Tool Markup Language\n",
    "(3) Hyper Text Markup Language\n",
    "(4) Hyper Tool Markup Language\n",
    "```\n",
    "**(3)**"
   ]
  },
  {
   "cell_type": "markdown",
   "metadata": {},
   "source": [
    "## 2. HTML 개념\n",
    "각 문항을 읽고 맞으면 T, 틀리면 F를 작성하시오.\n",
    "1) 웹 표준을 만드는 곳은 Mozilla 재단이다. **(F)**\n",
    "2) 표(table) 을 만들 때에는 반드시 `<th>` 태그를 사용해야 한다. **(F)**\n",
    "3) 제목(Heading) 태그는 제목 이외에는 사용하지 않는 것이 좋다. **(T)**\n",
    "4) 리스트를 나열하기 위해서는 `<ul>` 태그만 사용 할 수 있다. **(F)**\n",
    "5) HTML의 태그는 반드시 별도의 닫는 태그가 필요하다. **(F)**"
   ]
  },
  {
   "cell_type": "markdown",
   "metadata": {},
   "source": [
    "## 3. CSS 정의\n",
    "아래의 보기 (1) ~ (4) 중에서, CSS의 본딧말을 고르시오.\n",
    "```\n",
    "(1) Creative Style Sheets\n",
    "(2) Cascading Style Sheets\n",
    "(3) Computer Style Sheets\n",
    "(4) Colorful Style Sheets\n",
    "```\n",
    "**(2)**"
   ]
  },
  {
   "cell_type": "markdown",
   "metadata": {},
   "source": [
    "## 4. CSS 개념\n",
    "각 문항을 읽고 맞으면 T, 틀리면 F를 작성하시오.\n",
    "1) HTML과 CSS는 각자 문법을 갖는 별개의 언어이다. **(T)**\n",
    "2) 웹 브라우저는 내장 기본 스타일이 있어 CSS가 없어도 작동한다. **(T)**\n",
    "3) 자식 요소 프로퍼티는 부모의 프로퍼티를 모두 상속 받는다. **(F)**\n",
    "4) 디바이스마다 화면의 크기가 다른 것을 고려하여 상대 단위인 %를 사용한다. **(F)**\n",
    "5) id 값은 유일해야 하므로 중복되어서는 안된다. **(T)**"
   ]
  },
  {
   "cell_type": "markdown",
   "metadata": {},
   "source": [
    "## 5. CSS 우선순위\n",
    "CSS는 우선 적용되는 순서가 존재 한다. 우선순위가 높은 순으로 나열 하시오.\n",
    "```\n",
    "요소 선택자, Inline Style, 소스 순서,\n",
    "!important, id 선택자, class 선택자\n",
    "```\n",
    "\n",
    "**!important > Inline Style > id 선택자 > class 선택자 > 요소 선택자 > 소스 순서**\n",
    "\n"
   ]
  }
 ],
 "metadata": {
  "kernelspec": {
   "display_name": "Python 3.9.13 64-bit",
   "language": "python",
   "name": "python3"
  },
  "language_info": {
   "name": "python",
   "version": "3.9.13"
  },
  "orig_nbformat": 4,
  "vscode": {
   "interpreter": {
    "hash": "d0f63c8ac4ae55f0599ce1f2b79c462941338767091400e19b50672fdac5e4d3"
   }
  }
 },
 "nbformat": 4,
 "nbformat_minor": 2
}
