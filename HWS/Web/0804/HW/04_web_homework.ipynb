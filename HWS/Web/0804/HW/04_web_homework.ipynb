{
 "cells": [
  {
   "cell_type": "markdown",
   "metadata": {},
   "source": [
    "# Web 04. Grid System & Responsive Web"
   ]
  },
  {
   "cell_type": "markdown",
   "metadata": {},
   "source": [
    "## 1. CSS flex-direction\n",
    "Flex box의 주축을 변경하는 flex-direction의 4가지 값과 각각의 특징을 작성하시오.<br>\n",
    "\n",
    "**1. row: 기본값, 수평 나열**\n",
    "**2. row-reverse: 수평 역방향 나열**\n",
    "**3. column: 수직 나열**\n",
    "**4. column-reverse: 수직 역방향 나열**\n",
    "\n",
    "\n",
    "## 2. Bootstrap flex-direction\n",
    "flex-direction의 4가지 요소와 대응하는 bootstrap 클래스를 작성하시오.<br>\n",
    "\n",
    "**: .flex-row*, .flex-row-reverse, .flex-column, .flex-column-reverse**\n",
    "\n",
    "\n",
    "## 3. align-items\n",
    "align-items 속성의 4가지 값과 각각의 특징을 작성하시오.<br>\n",
    "**stretch: 기본값, 자식 요소의 컨텐츠에 상관 없이 컨테이너의 세로 크기 100%만큼 사용**\n",
    "**flex-start: 자식 요소를 컨테이너 최상단에 맞춤**\n",
    "**flex-end: 자식 요소를 컨테이너 최하단에 맞춤**\n",
    "**center: 자식 요소를 컨테이너 중앙에 맞춤**\n",
    "\n",
    "\n",
    "## 4. flex-flow\n",
    "flex-flow 속성은 두가지 속성의 축약형이다. 올바르게 짝지어진 것을 고르시오.\n",
    "```\n",
    "(1) flex-direction, flex-wrap\n",
    "(2) flex-direction, align-items\n",
    "(3) justify-content, flex-wrap\n",
    "(4) justify-content, align-items\n",
    "```\n",
    "**(1)**\n",
    "\n",
    "\n",
    "## 5. Bootstrap Grid System\n",
    "상단 코드에 Bootstrap Grid System을 적용시키고자한다.\n",
    "(a), (b) 각각에 입력해야 할 클래스 이름을 작성하시오.\n",
    "```\n",
    "<div class=\"__(a)__\">\n",
    "  <div class=\"__(b)__>\n",
    "    <div class=\"col-__(c)__-__(d)__></div>\n",
    "  </div>\n",
    "</div>\n",
    "```\n",
    "**(a): container text-center**\n",
    "**(b): row**\n",
    "\n",
    "## 6. Breakpoint prefix (5번 문제 연계)\n",
    "Bootstrap Grid System에서 요소의 크기를 지정하기 위해서는 상단 코드와 같은 형태로\n",
    "클래스 이름을 지정해야 한다. \n",
    "1. (c) 에 들어갈 수 있는 값들과 그 값들이 가지는 의미를 작성하시오.\n",
    "**blank: 항상 가로로 배치**<br>\n",
    "**sm: 768px 이하에서 세로로 표시 시작**<br>\n",
    "**md: 992px 이하에서 세로로 표시 시작**<br>\n",
    "**lg: 1200px 이하에서 세로로 표시 시작**<br>\n",
    "**xl: 1400px 이하에서 세로로 표시 시작**<br>\n",
    "**xxl: 1400px 이후에는 세로로 표시 시작**<br>\n",
    "2. (d) 에 들어갈 수 있는 값들과 그 값들이 가지는 의미를 작성하시오.\n",
    "**1: 12칸 중 1칸 차지**<br>\n",
    "**2: 12칸 중 2칸 차지**<br>\n",
    "**3: 12칸 중 3칸 차지**<br>\n",
    "**4: 12칸 중 4칸 차지**<br>\n",
    "**5: 12칸 중 5칸 차지**<br>\n",
    "**6: 12칸 중 6칸 차지**<br>"
   ]
  },
  {
   "cell_type": "markdown",
   "metadata": {},
   "source": []
  }
 ],
 "metadata": {
  "kernelspec": {
   "display_name": "Python 3.9.13 64-bit",
   "language": "python",
   "name": "python3"
  },
  "language_info": {
   "name": "python",
   "version": "3.9.13"
  },
  "orig_nbformat": 4,
  "vscode": {
   "interpreter": {
    "hash": "c4b9ebf4ca459396e2ad1150752490c26670c1a037c08cad955a4425787bec2e"
   }
  }
 },
 "nbformat": 4,
 "nbformat_minor": 2
}
