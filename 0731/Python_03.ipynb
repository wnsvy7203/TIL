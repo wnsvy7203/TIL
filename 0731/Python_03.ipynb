{
 "cells": [
  {
   "cell_type": "markdown",
   "metadata": {},
   "source": [
    "# Python_Rearrange_03"
   ]
  },
  {
   "cell_type": "markdown",
   "metadata": {},
   "source": [
    "## 데이터 구조(Data Structure)"
   ]
  },
  {
   "cell_type": "markdown",
   "metadata": {},
   "source": [
    "### 문자열(String)"
   ]
  },
  {
   "cell_type": "markdown",
   "metadata": {},
   "source": [
    "1. 조회/탐색\n",
    "    - `.find(x)`\n",
    "        - x의 첫 번째 위치를 반환\n",
    "        - 리스트에 x가 없으면 -1 반환\n",
    "    - `.index(x)`\n",
    "        - x의 첫 번째 위치 반환\n",
    "        - 리스트에 x가 없으면 ValueError 발생\n",
    "    - `.startswith(x), / .endswith(x)`\n",
    "        - .startswith(x): 문자열이 x로 시작하면 True, 아니면 False 반환\n",
    "        - .endswith(x): 문자열이 x로 끝나면 True, 아니면 False 반환\n",
    "        - `PEP-8`에서는 접두/접미 문자를 검색 시, startswith, endswith 권장\n",
    "    - `is`로 시작하는 많은 메소드들은 문자열이 어떤 조건에 해당하는지 검증하는 역할\n",
    "        - `.isalpha()`, `.isspace()`, `.isupper()`, `.istitle()`, `.islower()`\n",
    "        - `.isdecimal()`, `.isdigit()`, `isnumeric()`"
   ]
  },
  {
   "cell_type": "markdown",
   "metadata": {},
   "source": [
    "2. 문자열 변경\n",
    "    - `replace(old, new[, count])`: 바꿀 대상 글자를 새로운 글자로 바꿔서 반환, count를 지정하면 해당 개수만큼만 시행한다.\n",
    "        - 메소드 설명에서 [] 표기는 해당 parameter가 선택적임을 나타낸다.\n",
    "        - count를 입력할 수도, 안 할 수도 있다.\n",
    "    - `.strip([chars])`: 특정한 문자를 지정하면 문자열의 모든 조합을 제거한다. 지정된 인자`[chars]`가 없을 경우 공백을 제거한다.\n",
    "        - `.lstrip([chars])`, `rstrip([chars])`: 각각 왼쪽 오른쪽\n",
    "    - `.split([chars])`: 문자열을 특정한 단위로 나누어 리스트로 반환.\n",
    "    - `'spearator'.join(iterable)`: iterable의 문자열들을 separator(구분자)로 이어 붙인 `join()`문자열을 반환한다. 다른 메소드들과 달리, 구분자가 join 메서드를 제공하는 문자열\n",
    "    - `.capitalize()`: 앞글자를 대문자로 만들어 반환\n",
    "    - `.title()`: apostrophe(')나 공백 이후를 대문자로 만들어 반환\n",
    "    - `.upper()`: 모두 대문자로 만들어 반환\n",
    "    - `.lower()`: 모두 소문자로 만들어 반환\n",
    "    - `.swapcase()`: 대/소문자를 서로 변경하여 반환"
   ]
  },
  {
   "cell_type": "markdown",
   "metadata": {},
   "source": [
    "### 리스트(List)\n",
    "- `.append(x)`: 리스트에 값을 추가할 수 있다.\n",
    "- `.extend(iterable)`: 리스트에 iterable 값을 붙일 수 있다.\n",
    "- `.insert(i, x)`: 정해진 위치 i에 x를 추가한다.\n",
    "- `.remove(x)`: 리스트에서 값이 x인 첫 번째 항목을 삭제. 없으면 ValueError 발생\n",
    "- `.pop([i])`: 정해진 위치 i에 있는 값 삭제, i 미지정시 마지막 항목 삭제 및 반환\n",
    "- `.sort()`: 리스트 정렬\n",
    "- `.reverse()`: 리스트의 element들을 반대로 뒤집는다."
   ]
  },
  {
   "cell_type": "markdown",
   "metadata": {},
   "source": [
    "### 튜플(Tuple)\n",
    "- `.index(x[, start[, end]])`: 튜플에 있는 항목 중 값이 x와 같은 첫 번째 인덱스를 반환. 해당하는 값이 없으면, ValueError 발생"
   ]
  },
  {
   "cell_type": "markdown",
   "metadata": {},
   "source": [
    "### 세트(Set)\n",
    "- `.update(*others)`: 여러 값(iterable)을 추가한다.\n",
    "- `.discard(elem)`: element를 세트에서 삭제한다. element가 세트 내에 존재하지 않아도, 에러가 발생하지 않는다."
   ]
  },
  {
   "cell_type": "markdown",
   "metadata": {},
   "source": [
    "### 딕셔너리(Dictionary, 사전)\n",
    "- `.get(key[, default])`: key를 통해 value를 가져온다. key가 없을 경우 None 반환\n",
    "- `.setdefault(key[, default])`: key가 딕셔너리에 있으면 value 반환. key가 없을 경우, default 값을 갖는 key를 삽입하고 default를 반환한다. default가 주어지지 않을 경우 None을 반환\n",
    "- `.pop(key[, default])`: key가 딕셔너리에 있으면 제거하고 그 값을 돌려준다. 그렇지 않으면 default를 반환. default 없는 상태에서 key가 딕셔너리에 없는 경우, KeyError 발생\n",
    "- `.update([other])`: other가 제공하는 key, value 쌍으로 딕셔너리를 덮어쓴다. `other`는 다른 딕셔너리나 key/value 쌍으로 이루어진 모든 iterable을 사용 가능"
   ]
  },
  {
   "cell_type": "markdown",
   "metadata": {},
   "source": [
    "## 에러(Error)"
   ]
  },
  {
   "cell_type": "markdown",
   "metadata": {},
   "source": [
    "### Syntax Error(문법 에러)\n",
    "- 에러 발생 시 `SyntaxError` 키워드와 함께, 상세 내용을 보여준다.\n",
    "    - 파일이름, 줄번호, ^ 문자를 통해 파이썬이 코드를 읽어들일 때, 문제가 발생한 위치를 표현"
   ]
  },
  {
   "cell_type": "markdown",
   "metadata": {},
   "source": [
    "### Exception(예외)\n",
    "- 문법적으로는 옳지만, 실행 시 발생하는 에러\n",
    "1. `ZeroDivisionError`: 0으로 나누면 발생하는 에러\n",
    "2. `NameError`: 어느 곳에서도 정의되지 않은 변수를 호출한 경우 발생하는 에러\n",
    "3. `TypeError`\n",
    "    - 자료형이 올바르지 않은 경우\n",
    "    - 함수 호출 과정에서 필수 매개변수가 누락된 경우, 매개변수 개수가 초과해서 들어온 경우\n",
    "4. `ValueError`\n",
    "    - 자료형은 올바르지만, 값이 적젏라지 않은 경우\n",
    "    - 존재하지 않는 값을 찾을 경우\n",
    "5. `IndexError`:  존재하지 않는 Index를 조회하면 발생하는 에러\n",
    "6. `KeyError`: 존재하지 않는 Key로 접근한 경우\n",
    "7. `ModuleNotFoundError`: 존재하지 않는 Module을 import하는 경우\n",
    "8. `ImportError`: Module은 찾았지만, 존재하지 않는 메소드를 가져오는 경우\n",
    "9. `KeyboardInterrupt`: 사용자가 임의로 실행 중단한 경우\n",
    "10. `IndentationError`: 들여쓰기가 적절하지 않은 경우"
   ]
  },
  {
   "cell_type": "markdown",
   "metadata": {},
   "source": [
    "## OOP\n",
    "컴퓨터 프로그래밍의 패러다임 중 하나로, 컴퓨터 프로그램을 여러 개의 독립된 단위(객체)의 모임으로 파악하고자 하는 것을 의미.\n",
    "\n",
    "- 장점\n",
    "    - 프로그램을 유연하고 변경이 용이하게끔 만들기 때문에 대규모 소프트웨어 개발에 많이 사용된다.\n",
    "    - 프로그래밍을 더 배우기 쉽게 하고 소프트웨어 개발과 보수를 간편하게 하며, 보다 직관적인 코드 분석을 가능하게 한다."
   ]
  },
  {
   "cell_type": "markdown",
   "metadata": {},
   "source": [
    "### 기초\n",
    "#### 기본 문법"
   ]
  },
  {
   "cell_type": "code",
   "execution_count": null,
   "metadata": {},
   "outputs": [],
   "source": [
    "# 클래스 정의\n",
    "class MyClass:\n",
    "    pass\n",
    "\n",
    "my_instance = MyClass() # 인스턴스 생성\n",
    "my_instance.my_attribute # 속성 접근\n",
    "my_instance.my_method() # 메소드 호출"
   ]
  },
  {
   "cell_type": "markdown",
   "metadata": {},
   "source": [
    "### 클래스(class)\n",
    "- 공통된 속성(attribute)과 조작법(method)을 가진 객체의 분류\n",
    "\n",
    "> **생성**\n",
    "- 클래스 생성은 `class` 키워드와 정의하고자 하는 클래스의 이름으로 가능하다.\n",
    "\n",
    "> **클래스 변수**\n",
    "- 모든 인스턴스가 공유\n",
    "- 클래스 선언 내부에서 정의\n",
    "\n",
    "> **클래스 메소드**\n",
    "- `@classmethod` 데코레이터를 사용하여 정의\n",
    "- 메소드 호출 시, 첫 번째 인자로 클래스 cls가 전달\n",
    "\n",
    "> **스태틱 메소드(static method)**\n",
    "- 클래스가 사용할 메소드지만, 인스턴스와 클래스의 속성과 무관한 메소드\n",
    "- `@staticmethod` 데코레이터를 사용하여 정의\n",
    "- 호출 시, 어떤 인자도 전달되지 않는다.\n",
    "- 속성을 다루지 않고 단지 기능만을 하는 메소드를 정의할 때 사용\n",
    "\n",
    "### 인스턴스(instance)\n",
    "- 특정 클래스의 실제 데이터 예시\n",
    "- 파이썬 안에서 모든 것은 객체고, 모든 객체는 특정 클래스의 인스턴스\n",
    "\n",
    "> **인스턴스 변수**\n",
    "- 인스턴스의 속성\n",
    "- 각 인스턴스의 고유한 데이터\n",
    "- 생성자 메소드에서 self.변수명으로 정의\n",
    "- 인스턴스가 생성된 이후에는 인스턴스.변수명으로 접근 및 할당\n",
    "\n",
    "> **인스턴스 메소드**\n",
    "- 클래스 내부에 정의되는 메소드는 기본적으로 인스턴스 메소드로 생성된다.\n",
    "- 메소드 호출 시, 첫 번째 인자로 인스턴스 자기 자신에 해당하는 self가 전달된다.\n",
    "\n",
    "> **self**\n",
    "- 인스턴스 메소드는 호출 시 첫 번째 인자로 인스턴스 자신이 전달되도록 설계되어있다.\n",
    "\n",
    "> **속성 정의**\n",
    "- 특정 데이터 타입(클래스)의 객체들이 가지게 될 상태/데이터 의미\n",
    "    - `self.<속성명> = <값>` 혹은 `<인스턴스>.<속성명> = <값>`으로 설정\n",
    "\n",
    "### 매직(스페셜) 메소드\n",
    "- 더블언더스코어`__`가 있는 메소드는 특별한 일을 하기 위해 만들어진 메소드\n",
    "\n",
    "### 비교 정리\n",
    "1. 인스턴스와 메소드\n",
    "    - 인스턴스는 3가지 메소드(인스턴스, 클래스, 정적 메소드) 모두에 접근할 수 있다.\n",
    "        - 인스턴스에서 클래스 메소드와 스태틱 메소드는 호출하지 않는다.\n",
    "    - 인스턴스가 할 행동은 모두 인스턴스 메소드로 한정지어서 설계한다.\n",
    "\n",
    "2. 클래스와 메소드\n",
    "    - 클래스는 3가지 메소드 모두에 접근할 수 있다.\n",
    "        - 클래스에서 인스턴스 메소드는 호출하지 않는다.\n",
    "    - 클래스가 할 행동은\n",
    "        - 클래스 자체와 그 속성에 접근할 필요가 있다면 클래스 메소드로 정의\n",
    "        - 그렇지 않으면 정적 메소드로 정의(cls, self 등의 묵시적인 인자를 받지 않는다.)`"
   ]
  },
  {
   "cell_type": "markdown",
   "metadata": {},
   "source": [
    "### OOP의 핵심 개념\n",
    "#### 추상화\n",
    "- 세부적인 내용은 감추고 필수적인 부분만 표현하는 것을 뜻한다.\n",
    "- 현실 세계를 프로그램 설계에 반영하기 위해 사용\n",
    "- 여러 클래스가 공통적으로 사용할 속성 및 메소드를 추출하여 기본 클래스로 작성하여 활용\n",
    "#### 상속\n",
    "- 부모 클래스의 모든 속성이 자식 클래스에게 상속되므로 코드 재사용성이 높아진다.\n",
    "- `issubclass(class, classinfo)`: class가 classinfo의 subclass인 경우 `True` 반환\n",
    "- `isinstance(object, classinfo)`: object가 classinfo의 인스턴스거나 subclass인 경우 `True` 반환\n",
    "- `super()`: 자식 클래스에 메소드를 추가로 구현하고, 부모 클래스의 내용을 사용하고자 할 때 사용\n",
    "\n",
    "> **다중 상속**\n",
    "- 2개 이상의 클래슬르 상속받는 것도 가능\n",
    "    - 상속 받은 모든 클래스의 요소 활용 가능\n",
    "    - 중복된 속성이나 메소드가 있는 경우, 상속 순서에 의해 값이 달라진다.\n",
    "\n",
    "> **상속관계에서의 이름 공간과 MRO(Method Resolution Order)**\n",
    "- 기존의 인스턴스 -> 클래스 순으로 이름 공간을 탐색해 나가는 과정에서 상속관계에 있으면 인스턴스 -> 자식 클래스 -> 부모 클래스 순으로 확장된다.\n",
    "- MRO는 해당 인스턴스의 클래스가 어떤 부모 클래스를 가지는지 확인하는 속성 또는 메소드\n",
    "\n",
    "#### 다형성\n",
    "- 동일한 메소드가 클래스에 따라 다르게 행동할 수 있도록 구현하는 것.\n",
    "- 메소드 오버라이딩\n",
    "    - 자식 클래스에서 부모 클래스의 메소드를 재정의하는 것.\n",
    "    - 상속 받는 메소드를 재정의하고, 상속 받은 클래스에서 같은 이름의 메소드로 덮어쓰는 것.\n",
    "#### 캡슐화\n",
    "- 객체의 일부 구현 내용에 대해 외부로부터의 직접적인 액세스를 차단하는 것 의미.\n",
    "- 다른 언어와 달리 파이썬에서는 언어적으로 캡슐화가 존재하지 않는다(암묵적으로만 존재한다.).\n",
    "\n",
    "> **Public Member**\n",
    "- 언더스코어가 없이 시작하는 메소드\n",
    "    - 어디서나 호출 가능\n",
    "    - 하위 클래스에서 메소드 오버라이딩 허용\n",
    "    - 일반적으로 작성되는 메소드와 속성의 대다수 차지\n",
    "\n",
    "> **Protected Member**\n",
    "- 언더스코어 1개로 시작하는 메소드나 속성들이 이에 해당한다.\n",
    "- 암묵적 규칙에 의해 부모 클래스 내부와 자식 클래스에서만 호출 가능\n",
    "- 하위 클래스에서 메소드 오버라이딩 허용\n",
    "\n",
    "> **Private Member**\n",
    "- 언더스코어 2개로 시작하는 메소드나 속성들이 이에 해당한다.\n",
    "- 본 클래스 내부에서만 사용 가능\n",
    "- 하위 클래스 상속 및 호출 불가능\n",
    "- 외부 호출 불가능\n",
    "\n",
    "> **getter 메소드와 setter 메소드**\n",
    "- getter 메소드: 변수의 값을 읽는 메소드로 `@property` 데코레이터 사용\n",
    "- setter 메소드: 변수의 값을 설정하는 성격의 메소드로 `@변수.setter` 사용"
   ]
  }
 ],
 "metadata": {
  "kernelspec": {
   "display_name": "Python 3.9.13 64-bit",
   "language": "python",
   "name": "python3"
  },
  "language_info": {
   "codemirror_mode": {
    "name": "ipython",
    "version": 3
   },
   "file_extension": ".py",
   "mimetype": "text/x-python",
   "name": "python",
   "nbconvert_exporter": "python",
   "pygments_lexer": "ipython3",
   "version": "3.9.13"
  },
  "orig_nbformat": 4,
  "vscode": {
   "interpreter": {
    "hash": "d0f63c8ac4ae55f0599ce1f2b79c462941338767091400e19b50672fdac5e4d3"
   }
  }
 },
 "nbformat": 4,
 "nbformat_minor": 2
}
