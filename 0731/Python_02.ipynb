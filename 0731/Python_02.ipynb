{
 "cells": [
  {
   "cell_type": "markdown",
   "metadata": {},
   "source": [
    "# Python_Rearrange_02"
   ]
  },
  {
   "cell_type": "markdown",
   "metadata": {},
   "source": [
    "> **함수**\n",
    "- 특정 명령을 수행하는 함수 묶음\n",
    "\n",
    "> **모듈**\n",
    "- 함수/클래스의 모음 또는 하나의 프로그램을 구성하는 단위\n",
    "\n",
    "> **패키지(Package)**\n",
    "- 프로그램과 모듈의 묶음을 의미\n",
    "    - 프로그램: 실행\n",
    "    - 모듈: 다른 프로글매에서 불러와 사용하기 위한 것"
   ]
  },
  {
   "cell_type": "markdown",
   "metadata": {},
   "source": [
    "## 함수\n",
    "\n",
    "### 입력(Input)\n",
    "\n",
    "#### 매개변수(Parameter) & 전달인자(argument)\n",
    "- 매개변수: 입력을 받아 함수 내부에서 활용할 변수\n",
    "- 전달인자: 실제로 전달되는 값\n",
    "\n",
    "#### 함수의 인자\n",
    "1. 위치인자(Positional Arguments)\n",
    "    - 위치에 따라 함수 내에 전달된다.\n",
    "2. 기본인자 값(Default Argument Values)\n",
    "    - 함수를 정의할 때, 기본값을 지정하여 함수를 호출할 때 인자의 값을 설정하지 않도록 하여, 정의된 것보다 더 적은 개수의 인자들로 호출될 수 있다.\n",
    "    - 기본 인자 값을 가지는 인자 다음에 기본값이 없는 인자를 사용할 수 없다.\n",
    "    ```python\n",
    "    def greeting(name='peter', age):\n",
    "        return f'{name}은 {age}살입니다.'\n",
    "    \n",
    "    SyntaxError: non-default argument follows default argument\n",
    "    ```\n",
    "3. 키워드 인자(Keyword Arguments)\n",
    "    - 함수를 호출할 때 키워드 인자를 활용하여 직접 변수의 이름으로 특정 인자를 전달할 수 있다.\n",
    "    - 아래와 같이 키워드 인자를 활용한 다음에 위치 인자 활용 불가능\n",
    "    ```python\n",
    "    def greeting(age, name):\n",
    "        return f'{name}은 {age}살입니다.'\n",
    "    \n",
    "    greeing(age=24, '철수')\n",
    "\n",
    "    SyntaxError: positional argument follows keyword argument\n",
    "\n",
    "4. 가변(임의) 인자 리스트(Arbitrary Argument Lists)\n",
    "    - 개수가 정해지지 않은 임의의 인자를 받기 위해서는 함수를 정의할 때 가변 인자 리스트 `*args`를 활용한다.\n",
    "    - 가변 인자 리스트는 tuple 형태로 처리되며, 매개변수에 *로 표현한다.\n",
    "\n",
    "5. 가변(임의) 키워드 인자(Arbitrary Keyword Arguments)\n",
    "    - 정해지지 않은 키워드 인자들은 함수를 정의할 때 가변 키워드 인자 `**kwargs` 활용\n",
    "    - dict 형태로 처리되며, 매개변수에 **로 표현한다."
   ]
  },
  {
   "cell_type": "code",
   "execution_count": 1,
   "metadata": {},
   "outputs": [
    {
     "name": "stdout",
     "output_type": "stream",
     "text": [
      "-1\n"
     ]
    }
   ],
   "source": [
    "def my_max(*args):\n",
    "    result = args[0]\n",
    "    for value in args:\n",
    "        if value > result:\n",
    "            result = value\n",
    "    return result\n",
    "\n",
    "def my_max(*args):\n",
    "    result = args[0]\n",
    "    for i in range(1, len(args)):\n",
    "        if args[i] > result:\n",
    "            result = args[i]\n",
    "    return result\n",
    "\n",
    "print(my_max(-1, -2, -3, -4))"
   ]
  },
  {
   "cell_type": "markdown",
   "metadata": {},
   "source": [
    "### 함수와 스코프\n",
    "- 함수는 코드 내부에 스코프를 생성하는데, 생성된 공간은 지역 스코프, 그 외의 공간은 전역 스코프라고 불린다.\n",
    "    - 전역 스코프: 코드 어디에서든 참조할 수 있는 공간\n",
    "    - 지역 스코프: 함수가 만든 스코프로 함수 내부에서만 참조할 수 있는 공간\n",
    "    - 전역 변수: 전역 스코프에 정의된 변수\n",
    "    - 지역 변수: 로컬 스코프에 정의된 변수\n",
    "\n",
    "#### 변수의 수명주기(lifecycle)\n",
    "- Built-in scope\n",
    "- Global scope: 모듈이 호출된 시점 이후 혹은 이름이 선언된 이후부터 인터프리터가 끝날 때까지 유지\n",
    "- Local scope: 함수가 호출될 때 생성, 함수가 종료될 때까지 유지\n",
    "\n",
    "#### 이름 검색(ressolution) 규칙\n",
    "- Local scope: 함수\n",
    "- Enclosed scope: 특정 함수의 상위 함수\n",
    "- Global scope: 함수 밖의 변수 혹은 import된 모듈\n",
    "- Built-in scope: 파이선 안에 내장된 함수/속성"
   ]
  },
  {
   "cell_type": "markdown",
   "metadata": {},
   "source": [
    "### 함수 응용\n",
    "\n",
    "1. map(function, iterable)\n",
    "- 순회 가능한 데이터 구조(iterable)의 모든 요소에 function을 적용하여 결과값 반환\n",
    "- return은 map_object 형태\n",
    "\n",
    "2. filter(function, iterable)\n",
    "- iterable에서 function의 반환된 결과가 `True`인 것들만 구성하여 반환\n",
    "\n",
    "3. zip(*iterables)\n",
    "- 복수의 iterable 객체를 모아준다.\n",
    "- 튜플의 모음으로 구성된 zip object 반환"
   ]
  },
  {
   "cell_type": "markdown",
   "metadata": {},
   "source": [
    "## 모듈(Module)\n",
    "- 특정 기능을 하는 코드를 담고 있는 파일(또는 스크립트)\n",
    "- 특정 기능을 파이썬 파일(.py) 단위로 작성한 것\n",
    "\n",
    "### 활용\n",
    "- `import`\n",
    "    - 모듈을 활용하기 위해서는 import문을 통해 내장 모듈을 이름공간으로 가져와야 한다.\n",
    "    - import 문이 사용된 코드의 위치에 따라 namespace가 결정된다.\n",
    "    - 코드 최상단에 import문을 작성할 경우, Global namespace에 import된다.\n",
    "\n",
    "## 패키지\n",
    "- 하나의 디렉토리에 모듈이 모여있는 형태\n",
    "- `package.module`의 형태로 모듈을 구조화\n",
    "\n",
    "### 생성\n",
    "- `__init__.py`는 이 파일이 있는 디렉토리를 하나의 파이썬 패키지로 인식한다고 파이썬에게 알려주는 역할을 하는 파일이다. 현재는(python 3.3 버전 이후) 이 파일이 없어도 패키지로 인식하지만, 하위 버전 호환을 위해 생성 권장\n",
    "\n",
    "### 활용\n",
    "- `from 패키지 import 모듈`\n",
    "- `from 패키지.모듈 import 데이터`\n",
    "- `from 모듈 import*`\n"
   ]
  }
 ],
 "metadata": {
  "kernelspec": {
   "display_name": "Python 3.9.13 64-bit",
   "language": "python",
   "name": "python3"
  },
  "language_info": {
   "codemirror_mode": {
    "name": "ipython",
    "version": 3
   },
   "file_extension": ".py",
   "mimetype": "text/x-python",
   "name": "python",
   "nbconvert_exporter": "python",
   "pygments_lexer": "ipython3",
   "version": "3.9.13"
  },
  "orig_nbformat": 4,
  "vscode": {
   "interpreter": {
    "hash": "d0f63c8ac4ae55f0599ce1f2b79c462941338767091400e19b50672fdac5e4d3"
   }
  }
 },
 "nbformat": 4,
 "nbformat_minor": 2
}
