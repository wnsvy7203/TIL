{
 "cells": [
  {
   "cell_type": "markdown",
   "metadata": {},
   "source": [
    "# Python_나도코딩"
   ]
  },
  {
   "cell_type": "markdown",
   "metadata": {},
   "source": [
    "## 1. 자료형"
   ]
  },
  {
   "cell_type": "markdown",
   "metadata": {},
   "source": [
    "### boolean 자료형\n"
   ]
  },
  {
   "cell_type": "code",
   "execution_count": 11,
   "metadata": {},
   "outputs": [
    {
     "name": "stdout",
     "output_type": "stream",
     "text": [
      "False\n",
      "True\n",
      "True\n",
      "False\n"
     ]
    }
   ],
   "source": [
    "# 참 / 거짓\n",
    "print(5 > 10)\n",
    "print(5 < 10)\n",
    "print(True)\n",
    "print(False)"
   ]
  },
  {
   "cell_type": "markdown",
   "metadata": {},
   "source": [
    "### 변수"
   ]
  },
  {
   "cell_type": "code",
   "execution_count": 10,
   "metadata": {},
   "outputs": [
    {
     "name": "stdout",
     "output_type": "stream",
     "text": [
      "우리집 강아지의 이름은 연탄이이에요\n",
      "연탄이는 4살이며, 산책을 아주 좋아해요\n",
      "연탄이는 어른일까요? True\n",
      "연탄이 는 어른일까요? True\n"
     ]
    }
   ],
   "source": [
    "print(\"우리집 강아지의 이름은 연탄이에요\")\n",
    "print(\"연탄이는 4살이며, 산책을 아주 좋아해요\")\n",
    "print(\"연탄이는 어른일까요? True\")"
   ]
  },
  {
   "cell_type": "code",
   "execution_count": null,
   "metadata": {},
   "outputs": [],
   "source": [
    "animal = \"강아지\"\n",
    "name = \"연탄이\"\n",
    "age = 4\n",
    "hobby = \"산책\"\n",
    "is_adult = age >= 3\n",
    "\n",
    "print(\"우리집 \" + animal + \"의 이름은 \" + name + \"이에요\")\n",
    "print(name + \"는 \" + str(age) + \"살이며, \" + hobby + \"을 아주 좋아해요\")\n",
    "print(name + \"는 어른일까요? \" + str(is_adult))\n",
    "\n",
    "# boolean 도 str로 감싸주어야 한다.\n",
    "# 쉼표로도 문장을 합칠 수 있다.\n",
    "\n",
    "print(name,\"는 어른일까요?\",str(is_adult))"
   ]
  },
  {
   "cell_type": "markdown",
   "metadata": {},
   "source": [
    "### 주석"
   ]
  },
  {
   "cell_type": "markdown",
   "metadata": {},
   "source": [
    "- `Ctrl + /`를 하면 원하는 만큼 주석 처리, 주석 해제 할 수 있다."
   ]
  },
  {
   "cell_type": "code",
   "execution_count": 12,
   "metadata": {},
   "outputs": [],
   "source": [
    "# a = 5\n",
    "# b = 3\n",
    "# c = 4"
   ]
  },
  {
   "cell_type": "markdown",
   "metadata": {},
   "source": [
    "- 여러 문장을 한꺼번에 str으로 처리하고 싶으면 작은따옴표(큰따옴표)를 앞/뒤로 3개씩 추가하면 된다."
   ]
  },
  {
   "cell_type": "code",
   "execution_count": 13,
   "metadata": {},
   "outputs": [
    {
     "data": {
      "text/plain": [
       "'\\n안녕하세요\\n반갑습니다\\n'"
      ]
     },
     "execution_count": 13,
     "metadata": {},
     "output_type": "execute_result"
    }
   ],
   "source": [
    "'''\n",
    "안녕하세요\n",
    "반갑습니다\n",
    "'''"
   ]
  },
  {
   "cell_type": "markdown",
   "metadata": {},
   "source": [
    "## 3. 수식"
   ]
  },
  {
   "cell_type": "markdown",
   "metadata": {},
   "source": [
    "### 연산자"
   ]
  },
  {
   "cell_type": "markdown",
   "metadata": {},
   "source": [
    "- == & != 등은 전부 boolean을 의미한다.\n",
    "    - 맞으면 `True`, 틀리면 `False`\n",
    "- `and` = `&`, `or` = `|`"
   ]
  },
  {
   "cell_type": "markdown",
   "metadata": {},
   "source": [
    "### 숫자처리함수"
   ]
  },
  {
   "cell_type": "code",
   "execution_count": 14,
   "metadata": {},
   "outputs": [
    {
     "name": "stdout",
     "output_type": "stream",
     "text": [
      "5\n",
      "16\n",
      "12\n",
      "5\n",
      "3\n",
      "5\n",
      "4\n",
      "4\n",
      "4.0\n"
     ]
    }
   ],
   "source": [
    "print(abs(-5)) # -5의 절댓값 = 5\n",
    "print(pow(4, 2)) # 4 ^ 2 = 16\n",
    "print(max(5, 12)) # 변수 중 최댓값 = 12\n",
    "print(min(5, 12)) # 5\n",
    "print(round(3.14)) # 3\n",
    "print(round(4.99)) # 5\n",
    "\n",
    "from math import * # math library 안의 모든 값(*로 표현)을 이용하겠다는 선언\n",
    "print(floor(4.99)) # 내림, 4\n",
    "print(ceil(3.14)) # 올림, 4\n",
    "print(sqrt(16)) # 제곱근, 4"
   ]
  },
  {
   "cell_type": "markdown",
   "metadata": {},
   "source": [
    "### 랜덤함수"
   ]
  },
  {
   "cell_type": "code",
   "execution_count": 16,
   "metadata": {},
   "outputs": [
    {
     "name": "stdout",
     "output_type": "stream",
     "text": [
      "0.8449637445298089\n",
      "3.9362665682695166\n",
      "7\n",
      "8\n"
     ]
    }
   ],
   "source": [
    "from random import *\n",
    "\n",
    "print(random()) # 0.0 ~ 1.0 미만의 임의의 값 생성\n",
    "print(random() * 10) # 0.0 ~ 10.0 미만의 임의의 값 생성\n",
    "print(int(random() * 10)) #0 ~ 10 미만의 임의의 정수 생성\n",
    "print(int(random() * 10 + 1)) # 1 ~ 11 미만의 임의의 정수 생성"
   ]
  },
  {
   "cell_type": "code",
   "execution_count": null,
   "metadata": {},
   "outputs": [],
   "source": [
    "print(int(random() * 45) + 1) # 1 ~ 45 이하의 임의의 정수 생성\n",
    "\n",
    "print(randrange(1, 46))\n",
    "\n",
    "# 1 ~ 46 미만의 임의의 값 생성\n",
    "# 지정된 구간에 포함되어 있는 숫자들 중에서\n",
    "# 임의의 1개를 무작위로 뽑는 난수발생 함수\n",
    "# 사용법은 range 함수와 동일하다.\n",
    "\n",
    "print(randint(1, 46))\n",
    "\n",
    "# 1 이상 46 이하의 정수(int)를 반환한다.\n",
    "# random이나 randrange 함수와는 달리 마지막 숫자가 포함된다."
   ]
  },
  {
   "cell_type": "markdown",
   "metadata": {},
   "source": [
    "## 4. 문자열"
   ]
  },
  {
   "cell_type": "markdown",
   "metadata": {},
   "source": [
    "### 슬라이싱"
   ]
  },
  {
   "cell_type": "code",
   "execution_count": 19,
   "metadata": {},
   "outputs": [
    {
     "name": "stdout",
     "output_type": "stream",
     "text": [
      "성별 : 1\n",
      "연 : 99\n",
      "월 : 01\n",
      "일 : 20\n",
      "생년월일 : 990120\n",
      "뒤 7자리 : 1234567\n",
      "뒤 7자리 (뒤부터): 1234567\n"
     ]
    }
   ],
   "source": [
    "jumin = '990120-1234567'\n",
    "\n",
    "print(\"성별 : \" + jumin[7])\n",
    "print(\"연 : \" + jumin[0:2]) # 0부터 2 직전까지\n",
    "print(\"월 : \" + jumin[2:4])\n",
    "print(\"일 : \" + jumin[4:6])\n",
    "\n",
    "print(\"생년월일 : \" + jumin[:6]) # 처음부터 6 직전까지\n",
    "print(\"뒤 7자리 : \" + jumin[7:]) # 7부터 끝까지\n",
    "\n",
    "print(\"뒤 7자리 (뒤부터): \" + jumin[-7:]) # 뒤에서 7번째 변수부터 끝까지"
   ]
  },
  {
   "cell_type": "markdown",
   "metadata": {},
   "source": [
    "### 문자열 처리함수"
   ]
  },
  {
   "cell_type": "code",
   "execution_count": 21,
   "metadata": {},
   "outputs": [
    {
     "name": "stdout",
     "output_type": "stream",
     "text": [
      "python is amazing\n",
      "PYTHON IS AMAZING\n",
      "True\n",
      "17\n",
      "Java is Amazing\n",
      "5\n",
      "15\n",
      "5\n",
      "-1\n"
     ]
    },
    {
     "ename": "ValueError",
     "evalue": "substring not found",
     "output_type": "error",
     "traceback": [
      "\u001b[1;31m---------------------------------------------------------------------------\u001b[0m",
      "\u001b[1;31mValueError\u001b[0m                                Traceback (most recent call last)",
      "\u001b[1;32mc:\\Users\\wnsvy7203\\OneDrive\\바탕 화면\\TIL\\0723\\0723_1.ipynb 셀 25\u001b[0m in \u001b[0;36m<cell line: 18>\u001b[1;34m()\u001b[0m\n\u001b[0;32m     <a href='vscode-notebook-cell:/c%3A/Users/wnsvy7203/OneDrive/%EB%B0%94%ED%83%95%20%ED%99%94%EB%A9%B4/TIL/0723/0723_1.ipynb#ch0000042?line=14'>15</a>\u001b[0m \u001b[39mprint\u001b[39m(python\u001b[39m.\u001b[39mfind(\u001b[39m\"\u001b[39m\u001b[39mn\u001b[39m\u001b[39m\"\u001b[39m)) \u001b[39m# n이 나오는 위치 출력\u001b[39;00m\n\u001b[0;32m     <a href='vscode-notebook-cell:/c%3A/Users/wnsvy7203/OneDrive/%EB%B0%94%ED%83%95%20%ED%99%94%EB%A9%B4/TIL/0723/0723_1.ipynb#ch0000042?line=16'>17</a>\u001b[0m \u001b[39mprint\u001b[39m(python\u001b[39m.\u001b[39mfind(\u001b[39m\"\u001b[39m\u001b[39mJava\u001b[39m\u001b[39m\"\u001b[39m)) \u001b[39m# -1\u001b[39;00m\n\u001b[1;32m---> <a href='vscode-notebook-cell:/c%3A/Users/wnsvy7203/OneDrive/%EB%B0%94%ED%83%95%20%ED%99%94%EB%A9%B4/TIL/0723/0723_1.ipynb#ch0000042?line=17'>18</a>\u001b[0m \u001b[39mprint\u001b[39m(python\u001b[39m.\u001b[39;49mindex(\u001b[39m\"\u001b[39;49m\u001b[39mJava\u001b[39;49m\u001b[39m\"\u001b[39;49m)) \u001b[39m# ValueError: substring not found\u001b[39;00m\n\u001b[0;32m     <a href='vscode-notebook-cell:/c%3A/Users/wnsvy7203/OneDrive/%EB%B0%94%ED%83%95%20%ED%99%94%EB%A9%B4/TIL/0723/0723_1.ipynb#ch0000042?line=19'>20</a>\u001b[0m \u001b[39mprint\u001b[39m(python\u001b[39m.\u001b[39mcount(\u001b[39m\"\u001b[39m\u001b[39mn\u001b[39m\u001b[39m\"\u001b[39m))\n",
      "\u001b[1;31mValueError\u001b[0m: substring not found"
     ]
    }
   ],
   "source": [
    "python = \"Python is Amazing\"\n",
    "\n",
    "print(python.lower()) # 전부 소문자로 출력\n",
    "print(python.upper()) # 전부 대문자로 출력\n",
    "print(python[0].isupper()) # python 변수의 첫 번째 요소가 대문자인지를 확인\n",
    "print(len(python)) # 전체 길이\n",
    "print(python.replace(\"Python\", \"Java\")) # Python을 Java로 바꿔라\n",
    "\n",
    "index = python.index(\"n\") # 처음으로 n이 나오는 위치 출력\n",
    "print(index)\n",
    "\n",
    "index = python.index(\"n\", index + 1) # 다음 n이 나오는 위치\n",
    "print(index)\n",
    "\n",
    "print(python.find(\"n\")) # n이 나오는 위치 출력\n",
    "\n",
    "print(python.find(\"Java\")) # -1\n",
    "print(python.index(\"Java\")) # ValueError: substring not found\n",
    "\n",
    "print(python.count(\"n\")) # n이 총 몇 번 등장하는지 출력 = 2\n"
   ]
  },
  {
   "cell_type": "markdown",
   "metadata": {},
   "source": [
    "### 문자열 포맷"
   ]
  },
  {
   "cell_type": "code",
   "execution_count": 22,
   "metadata": {},
   "outputs": [
    {
     "name": "stdout",
     "output_type": "stream",
     "text": [
      "나는 20살입니다.\n",
      "나는 파이썬을 좋아해요.\n",
      "Apple은 A로 시작해요.\n"
     ]
    },
    {
     "ename": "TypeError",
     "evalue": "not enough arguments for format string",
     "output_type": "error",
     "traceback": [
      "\u001b[1;31m---------------------------------------------------------------------------\u001b[0m",
      "\u001b[1;31mTypeError\u001b[0m                                 Traceback (most recent call last)",
      "\u001b[1;32mc:\\Users\\wnsvy7203\\OneDrive\\바탕 화면\\TIL\\0723\\0723_1.ipynb 셀 27\u001b[0m in \u001b[0;36m<cell line: 5>\u001b[1;34m()\u001b[0m\n\u001b[0;32m      <a href='vscode-notebook-cell:/c%3A/Users/wnsvy7203/OneDrive/%EB%B0%94%ED%83%95%20%ED%99%94%EB%A9%B4/TIL/0723/0723_1.ipynb#ch0000045?line=2'>3</a>\u001b[0m \u001b[39mprint\u001b[39m(\u001b[39m\"\u001b[39m\u001b[39m나는 \u001b[39m\u001b[39m%s\u001b[39;00m\u001b[39m을 좋아해요.\u001b[39m\u001b[39m\"\u001b[39m \u001b[39m%\u001b[39m \u001b[39m\"\u001b[39m\u001b[39m파이썬\u001b[39m\u001b[39m\"\u001b[39m) \u001b[39m# 문자열\u001b[39;00m\n\u001b[0;32m      <a href='vscode-notebook-cell:/c%3A/Users/wnsvy7203/OneDrive/%EB%B0%94%ED%83%95%20%ED%99%94%EB%A9%B4/TIL/0723/0723_1.ipynb#ch0000045?line=3'>4</a>\u001b[0m \u001b[39mprint\u001b[39m(\u001b[39m\"\u001b[39m\u001b[39mApple은 \u001b[39m\u001b[39m%c\u001b[39;00m\u001b[39m로 시작해요.\u001b[39m\u001b[39m\"\u001b[39m \u001b[39m%\u001b[39m \u001b[39m\"\u001b[39m\u001b[39mA\u001b[39m\u001b[39m\"\u001b[39m) \u001b[39m# 문자 한 글자\u001b[39;00m\n\u001b[1;32m----> <a href='vscode-notebook-cell:/c%3A/Users/wnsvy7203/OneDrive/%EB%B0%94%ED%83%95%20%ED%99%94%EB%A9%B4/TIL/0723/0723_1.ipynb#ch0000045?line=4'>5</a>\u001b[0m \u001b[39mprint\u001b[39m(\u001b[39m\"\u001b[39;49m\u001b[39m나는 \u001b[39;49m\u001b[39m%s\u001b[39;49;00m\u001b[39m색과 \u001b[39;49m\u001b[39m%s\u001b[39;49;00m\u001b[39m색을 좋아해요.\u001b[39;49m\u001b[39m\"\u001b[39;49m \u001b[39m%\u001b[39;49m (\u001b[39m\"\u001b[39;49m\u001b[39m파란,\u001b[39;49m\u001b[39m\"\u001b[39;49m \u001b[39m\"\u001b[39;49m\u001b[39m빨간\u001b[39;49m\u001b[39m\"\u001b[39;49m))\n",
      "\u001b[1;31mTypeError\u001b[0m: not enough arguments for format string"
     ]
    }
   ],
   "source": [
    "# 방법 1\n",
    "print(\"나는 %d살입니다.\" % 20) # 숫자\n",
    "print(\"나는 %s을 좋아해요.\" % \"파이썬\") # 문자열\n",
    "print(\"Apple은 %c로 시작해요.\" % \"A\") # 문자 한 글자\n",
    "print(\"나는 %s색과 %s색을 좋아해요.\" % (\"파란,\" \"빨간\"))"
   ]
  },
  {
   "cell_type": "code",
   "execution_count": 23,
   "metadata": {},
   "outputs": [
    {
     "name": "stdout",
     "output_type": "stream",
     "text": [
      "나는 20살입니다.\n",
      "나는 파란색과 빨간색을 좋아해요.\n",
      "나는 파란색과 빨간색을 좋아해요.\n",
      "나는 빨간색과 파란색을 좋아해요.\n"
     ]
    }
   ],
   "source": [
    "# 방법 2\n",
    "print(\"나는 {}살입니다.\".format(20))\n",
    "print(\"나는 {}색과 {}색을 좋아해요.\".format(\"파란\", \"빨간\"))\n",
    "print(\"나는 {0}색과 {1}색을 좋아해요.\".format(\"파란\", \"빨간\")) # 0번째, 1번째\n",
    "print(\"나는 {1}색과 {0}색을 좋아해요.\".format(\"파란\", \"빨간\")) # 1번째, 0번째"
   ]
  },
  {
   "cell_type": "code",
   "execution_count": 24,
   "metadata": {},
   "outputs": [
    {
     "name": "stdout",
     "output_type": "stream",
     "text": [
      "나는 20살이며, 빨간색을 좋아해요.\n"
     ]
    }
   ],
   "source": [
    "# 방법 3\n",
    "print(\"나는 {age}살이며, {color}색을 좋아해요.\".format(age = 20, color = \"빨간\"))"
   ]
  },
  {
   "cell_type": "code",
   "execution_count": 25,
   "metadata": {},
   "outputs": [
    {
     "name": "stdout",
     "output_type": "stream",
     "text": [
      "나는 20살이며, 빨간색을 좋아해요.\n"
     ]
    }
   ],
   "source": [
    "# 방법 4(v 3.6 이상)\n",
    "age = 20\n",
    "color = \"빨간\"\n",
    "print(f\"나는 {age}살이며, {color}색을 좋아해요.\")"
   ]
  }
 ],
 "metadata": {
  "kernelspec": {
   "display_name": "Python 3.9.13 64-bit",
   "language": "python",
   "name": "python3"
  },
  "language_info": {
   "codemirror_mode": {
    "name": "ipython",
    "version": 3
   },
   "file_extension": ".py",
   "mimetype": "text/x-python",
   "name": "python",
   "nbconvert_exporter": "python",
   "pygments_lexer": "ipython3",
   "version": "3.9.13"
  },
  "orig_nbformat": 4,
  "vscode": {
   "interpreter": {
    "hash": "d0f63c8ac4ae55f0599ce1f2b79c462941338767091400e19b50672fdac5e4d3"
   }
  }
 },
 "nbformat": 4,
 "nbformat_minor": 2
}
