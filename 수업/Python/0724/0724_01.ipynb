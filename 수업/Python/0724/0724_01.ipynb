{
 "cells": [
  {
   "cell_type": "markdown",
   "metadata": {},
   "source": [
    "# Python_나도코딩"
   ]
  },
  {
   "cell_type": "markdown",
   "metadata": {},
   "source": [
    "## 4. 문자열"
   ]
  },
  {
   "cell_type": "markdown",
   "metadata": {},
   "source": [
    "### 탈출 문자"
   ]
  },
  {
   "cell_type": "code",
   "execution_count": null,
   "metadata": {},
   "outputs": [],
   "source": [
    "print(\"백문이 불여일견\\n백견이 불여일타\") # \\n : 줄바꿈\n",
    "print(\"저는 \\\"박준표\\\"입니다.\") # \\\" \\' : 문장 내에서 따옴표\n",
    "# \\\\ : 문장 내에서 \\\n",
    "print(\"Red Apple\\rPine\")\n",
    "# \\r : 커서를 맨 앞으로 이동한 후 뒤의 문자를 순서대로 출력\n",
    "print(\"Redd\\bApple\") # \\b : 백스페이스(한 글자 삭제)\n",
    "# \\t : 탭"
   ]
  },
  {
   "cell_type": "code",
   "execution_count": null,
   "metadata": {},
   "outputs": [],
   "source": [
    "url = \"http://naver.com\"\n",
    "\n",
    "my_str = url.replace(\"http://\",\"\")\n",
    "\n",
    "my_str = my_str[:my_str.index(\".\")]\n",
    "\n",
    "password = my_str[:3] + str(len(my_str)) + str(my_str.count(\"e\")) + \"!\"\n",
    "\n",
    "print(f\"{url}의 비밀번호는 {password}입니다.\")"
   ]
  },
  {
   "cell_type": "markdown",
   "metadata": {},
   "source": [
    "## 5. 컨테이너"
   ]
  },
  {
   "cell_type": "markdown",
   "metadata": {},
   "source": [
    "### 리스트"
   ]
  },
  {
   "cell_type": "code",
   "execution_count": null,
   "metadata": {},
   "outputs": [],
   "source": [
    "subway = [10, 20, 30]\n",
    "print(subway)"
   ]
  },
  {
   "cell_type": "code",
   "execution_count": null,
   "metadata": {},
   "outputs": [],
   "source": [
    "subway = [\"유재석\", \"조세호\", \"박명수\"]\n",
    "print(subway)\n",
    "\n",
    "print(subway.index(\"조세호\"))\n",
    "\n",
    "subway.append(\"하하\")\n",
    "print(subway)\n",
    "\n",
    "subway.insert(1, \"정형돈\")\n",
    "print(subway)\n",
    "\n",
    "print(subway.pop())\n",
    "print(subway)\n",
    "\n",
    "subway.append(\"하하\")\n",
    "print(subway)\n",
    "print(subway.count(\"유재석\"))"
   ]
  },
  {
   "cell_type": "code",
   "execution_count": null,
   "metadata": {},
   "outputs": [],
   "source": [
    "num_list = [5, 2, 4, 1, 3]\n",
    "num_list.sort()\n",
    "print(num_list)\n",
    "\n",
    "num_list.reverse()\n",
    "print(num_list)\n",
    "\n",
    "# num_list.clear = 모두 지우기\n",
    "\n",
    "mix_list = [\"조세호\", 20, True]\n",
    "\n",
    "num_list.extend(mix_list)\n",
    "print(num_list)"
   ]
  },
  {
   "cell_type": "markdown",
   "metadata": {},
   "source": [
    "### 딕셔너리"
   ]
  },
  {
   "cell_type": "code",
   "execution_count": null,
   "metadata": {},
   "outputs": [],
   "source": [
    "cabinet = {3: \"유재석\", 100: \"박명수\"}\n",
    "print(cabinet[3])\n",
    "print(cabinet[100])\n",
    "\n",
    "print(cabinet.get(3))\n",
    "\n",
    "# 다음과 같이, 없는 자료를 출력하라고 요구했을 때\n",
    "# print(cabinet.get(5)), print(cabinet[5])\n",
    "# 얼핏 보면 같아 보이지만, 전자는 None을, 후자는 오류 발생\n",
    "\n",
    "print(3 in cabinet)\n",
    "print(5 in cabinet)"
   ]
  },
  {
   "cell_type": "code",
   "execution_count": null,
   "metadata": {},
   "outputs": [],
   "source": [
    "cabinet = {\"A-3\": \"유재석\", \"B-100\": \"김태호\"}\n",
    "\n",
    "print(cabinet[\"A-3\"])\n",
    "print(cabinet[\"B-100\"])\n",
    "\n",
    "print(cabinet)\n",
    "cabinet[\"A-3\"] = \"김종국\"\n",
    "cabinet[\"C-20\"] = \"조세호\"\n",
    "print(cabinet)\n",
    "\n",
    "del cabinet[\"A-3\"]\n",
    "print(cabinet)\n",
    "\n",
    "# key만 출력\n",
    "print(cabinet.keys())\n",
    "\n",
    "# value만 출력\n",
    "print(cabinet.values())\n",
    "\n",
    "# key, value 쌍으로 출력\n",
    "print(cabinet.items())\n",
    "\n",
    "cabinet.clear()\n",
    "print(cabinet)"
   ]
  },
  {
   "cell_type": "markdown",
   "metadata": {},
   "source": [
    "### 튜플"
   ]
  },
  {
   "cell_type": "code",
   "execution_count": null,
   "metadata": {},
   "outputs": [],
   "source": [
    "menu = (\"돈가스\", \"치즈까스\")\n",
    "\n",
    "print(menu[0])\n",
    "print(menu[1])\n",
    "\n",
    "# menu.add(\"생선까스\") 값을 추가, 변경 불가능"
   ]
  },
  {
   "cell_type": "code",
   "execution_count": null,
   "metadata": {},
   "outputs": [],
   "source": [
    "# name = \"김종국\"\n",
    "# age = 20\n",
    "# hobby = \"코딩\"\n",
    "# print(name, age, hobby)\n",
    "\n",
    "(name, age, hobby) = (\"김종국\", 20, \"코딩\")\n",
    "print(name, age, hobby)"
   ]
  },
  {
   "cell_type": "markdown",
   "metadata": {},
   "source": [
    "### 세트"
   ]
  },
  {
   "cell_type": "code",
   "execution_count": null,
   "metadata": {},
   "outputs": [],
   "source": [
    "# 집합 (set)\n",
    "# 중복 안됨, 순서 없음\n",
    "\n",
    "my_set = {1, 2, 3, 3, 3}\n",
    "print(my_set)\n",
    "\n",
    "# 선언 방법\n",
    "java = {\"유재석\", \"김태호\", \"양세형\"}\n",
    "python = set([\"유재석\", \"박명수\"])\n",
    "\n",
    "# 교집합\n",
    "print(java & python)\n",
    "print(java.intersection(python))\n",
    "\n",
    "# 합집합\n",
    "print(java | python)\n",
    "print(java.union(python))\n",
    "\n",
    "# 차집합 (java 가능 & python 불가능)\n",
    "print(java - python)\n",
    "print(java.difference(python))\n",
    "\n",
    "python.add(\"김태호\")\n",
    "print(python)\n",
    "\n",
    "java.remove(\"김태호\")\n",
    "print(java)"
   ]
  },
  {
   "cell_type": "markdown",
   "metadata": {},
   "source": [
    "### 자료구조의 변경"
   ]
  },
  {
   "cell_type": "code",
   "execution_count": null,
   "metadata": {},
   "outputs": [],
   "source": [
    "menu = {\"커피\", \"우유\", \"주스\"}\n",
    "print(menu, type(menu))\n",
    "\n",
    "menu = list(menu)\n",
    "print(menu, type(menu))\n",
    "\n",
    "menu = tuple(menu)\n",
    "print(menu, type(menu))\n",
    "\n",
    "menu = set(menu)\n",
    "print(menu, type(menu))"
   ]
  },
  {
   "cell_type": "code",
   "execution_count": null,
   "metadata": {},
   "outputs": [],
   "source": [
    "# 댓글 이벤트 진행\n",
    "# 1명은 치킨, 3명은 커피 쿠폰을 받게 된다.\n",
    "# 추첨 프로그램 작성\n",
    "\n",
    "# 조건 1 : 편의상 댓글은 20명이 작성, 아이디는 1 ~ 20이라고 가정\n",
    "# 조건 2 : 댓글 내용과 상관없이 무작위로 추첨하되 중복 불가\n",
    "# 조건 3 : random 모듈의 shuffle과 sample 활용\n",
    "\n",
    "# (출력 예제)\n",
    "# -- 당첨자 발표 --\n",
    "# 치킨 당첨자 : 1\n",
    "# 커피 당첨자 : [2, 3, 4]\n",
    "# -- 축하합니다 --\n",
    "\n",
    "# (활용 예제)\n",
    "# from random import *\n",
    "# 1st = [1, 2, 3, 4, 5]\n",
    "# shuffle(1st)\n",
    "# print(1st)\n",
    "# print(sample(1st, 1)) "
   ]
  },
  {
   "cell_type": "code",
   "execution_count": 1,
   "metadata": {},
   "outputs": [
    {
     "name": "stdout",
     "output_type": "stream",
     "text": [
      " -- 당첨자 발표 -- \n",
      "치킨 당첨자: 5\n",
      "커피 당첨자: [16, 10, 13]\n",
      " -- 축하합니다 -- \n"
     ]
    }
   ],
   "source": [
    "from random import *\n",
    "\n",
    "users = list(range(1, 21))\n",
    "\n",
    "shuffle(users)\n",
    "\n",
    "winners = sample(users, 4)\n",
    "\n",
    "\n",
    "# (출력 예제)\n",
    "# -- 당첨자 발표 --\n",
    "# 치킨 당첨자 : 1\n",
    "# 커피 당첨자 : [2, 3, 4]\n",
    "# -- 축하합니다 --\n",
    "\n",
    "print(\" -- 당첨자 발표 -- \")\n",
    "print(f\"치킨 당첨자: {winners[0]}\")\n",
    "print(f\"커피 당첨자: {winners[1:]}\")\n",
    "print(\" -- 축하합니다 -- \")"
   ]
  },
  {
   "cell_type": "markdown",
   "metadata": {},
   "source": [
    "## 6. 제어문"
   ]
  },
  {
   "cell_type": "markdown",
   "metadata": {},
   "source": [
    "### if 문"
   ]
  },
  {
   "cell_type": "code",
   "execution_count": 48,
   "metadata": {},
   "outputs": [
    {
     "name": "stdout",
     "output_type": "stream",
     "text": [
      "우산을 챙기세요\n"
     ]
    }
   ],
   "source": [
    "weather = input()\n",
    "\n",
    "# if 조건:\n",
    "#     실행 명령문\n",
    "\n",
    "if weather == \"비\" or weather == \"눈\":\n",
    "    print(\"우산을 챙기세요\")\n",
    "elif weather == \"미세먼지\":\n",
    "    print(\"마스크를 챙기세요\")\n",
    "else:\n",
    "    print(\"준비물 필요 없어요.\")"
   ]
  },
  {
   "cell_type": "code",
   "execution_count": 47,
   "metadata": {},
   "outputs": [
    {
     "name": "stdout",
     "output_type": "stream",
     "text": [
      "너무 추워요. 나가지 마세요\n"
     ]
    }
   ],
   "source": [
    "temp = int(input(\"기온은 어때요? \"))\n",
    "\n",
    "if 30 <= temp:\n",
    "    print(\"너무 더워요. 나가지 마세요.\")\n",
    "elif 10 <= temp and temp < 30:\n",
    "    print(\"괜찮은 날씨에요\")\n",
    "elif 0 <= temp and temp < 30:\n",
    "    print(\"외투를 챙기세요\")\n",
    "else:\n",
    "    print(\"너무 추워요. 나가지 마세요\")\n"
   ]
  },
  {
   "cell_type": "markdown",
   "metadata": {},
   "source": [
    "### for 문"
   ]
  },
  {
   "cell_type": "code",
   "execution_count": 52,
   "metadata": {},
   "outputs": [
    {
     "name": "stdout",
     "output_type": "stream",
     "text": [
      "대기번호 : 1\n",
      "대기번호 : 2\n",
      "대기번호 : 3\n",
      "대기번호 : 4\n",
      "대기번호 : 5\n",
      "아이언맨님, 커피가 준비되었습니다.\n",
      "토르님, 커피가 준비되었습니다.\n",
      "아이엠 그루트님, 커피가 준비되었습니다.\n"
     ]
    }
   ],
   "source": [
    "for waiting_num in range(1, 6):\n",
    "    print(f\"대기번호 : {waiting_num}\")\n",
    "\n",
    "starbucks = [\"아이언맨\", \"토르\", \"아이엠 그루트\"]\n",
    "for customer in starbucks:\n",
    "    print(f\"{customer}님, 커피가 준비되었습니다.\") "
   ]
  },
  {
   "cell_type": "markdown",
   "metadata": {},
   "source": [
    "### while 문"
   ]
  },
  {
   "cell_type": "code",
   "execution_count": 54,
   "metadata": {},
   "outputs": [
    {
     "name": "stdout",
     "output_type": "stream",
     "text": [
      "토르, 커피가 준비되었습니다. 5번 남았어요.\n",
      "토르, 커피가 준비되었습니다. 4번 남았어요.\n",
      "토르, 커피가 준비되었습니다. 3번 남았어요.\n",
      "토르, 커피가 준비되었습니다. 2번 남았어요.\n",
      "토르, 커피가 준비되었습니다. 1번 남았어요.\n",
      "커피는 폐기처분되었습니다.\n"
     ]
    }
   ],
   "source": [
    "customer = \"토르\"\n",
    "index = 5\n",
    "while index >= 1:\n",
    "    print(f\"{customer}, 커피가 준비되었습니다. {index}번 남았어요.\")\n",
    "    index -= 1\n",
    "    if index == 0:\n",
    "        print(\"커피는 폐기처분되었습니다.\")"
   ]
  },
  {
   "cell_type": "code",
   "execution_count": 57,
   "metadata": {},
   "outputs": [
    {
     "name": "stdout",
     "output_type": "stream",
     "text": [
      "아이언맨, 커피가 준비되었습니다.\n",
      "아이언맨, 커피가 준비되었습니다.\n",
      "아이언맨, 커피가 준비되었습니다.\n",
      "아이언맨, 커피가 준비되었습니다.\n"
     ]
    }
   ],
   "source": [
    "customer = \"아이언맨\"\n",
    "person = \"unknown\"\n",
    "while person != customer:\n",
    "    print(f\"{customer}, 커피가 준비되었습니다.\")\n",
    "    person = input(\"이름이 어떻게 되세요? \")"
   ]
  },
  {
   "cell_type": "markdown",
   "metadata": {},
   "source": [
    "### continue와 break"
   ]
  },
  {
   "cell_type": "code",
   "execution_count": 61,
   "metadata": {},
   "outputs": [
    {
     "name": "stdout",
     "output_type": "stream",
     "text": [
      "1, 책을 읽어봐.\n",
      "3, 책을 읽어봐.\n",
      "4, 책을 읽어봐.\n",
      "6, 책을 읽어봐.\n",
      "오늘 수업 여기까지. 7는 교무실로 따라와.\n"
     ]
    }
   ],
   "source": [
    "absent = [2, 5]\n",
    "no_book = [7]\n",
    "for student in range(1, 11):\n",
    "    if student in absent:\n",
    "        continue\n",
    "    elif student in no_book:\n",
    "        print(f\"오늘 수업 여기까지. {student}는 교무실로 따라와.\")\n",
    "        break\n",
    "    print(f\"{student}, 책을 읽어봐.\")"
   ]
  },
  {
   "cell_type": "markdown",
   "metadata": {},
   "source": [
    "### 한 줄 for 문"
   ]
  },
  {
   "cell_type": "code",
   "execution_count": 62,
   "metadata": {},
   "outputs": [
    {
     "name": "stdout",
     "output_type": "stream",
     "text": [
      "[101, 102, 103, 104, 105]\n"
     ]
    }
   ],
   "source": [
    "students = [1, 2, 3, 4, 5]\n",
    "\n",
    "students = [i+100 for i in students]\n",
    "print(students)"
   ]
  },
  {
   "cell_type": "code",
   "execution_count": 64,
   "metadata": {},
   "outputs": [
    {
     "name": "stdout",
     "output_type": "stream",
     "text": [
      "['Iron man', 'Thor', 'I am groot']\n"
     ]
    }
   ],
   "source": [
    "students = [\"Iron man\", \"Thor\", \"I am groot\"]\n",
    "\n",
    "studnets = [len(i) for i in students]\n",
    "print(students)"
   ]
  },
  {
   "cell_type": "code",
   "execution_count": 66,
   "metadata": {},
   "outputs": [
    {
     "name": "stdout",
     "output_type": "stream",
     "text": [
      "['IRON MAN', 'THOR', 'I AM GROOT']\n"
     ]
    }
   ],
   "source": [
    "students = [\"Iron man\", \"Thor\", \"I am groot\"]\n",
    "\n",
    "students = [i.upper() for i in students]\n",
    "print(students)"
   ]
  },
  {
   "cell_type": "code",
   "execution_count": 68,
   "metadata": {},
   "outputs": [
    {
     "name": "stdout",
     "output_type": "stream",
     "text": [
      "[O] 1번째 손님 (소요시간 : 13분)\n",
      "[O] 2번째 손님 (소요시간 : 10분)\n",
      "[ ] 3번째 손님 (소요시간 : 45분)\n",
      "[O] 4번째 손님 (소요시간 : 11분)\n",
      "[O] 5번째 손님 (소요시간 : 14분)\n",
      "[ ] 6번째 손님 (소요시간 : 31분)\n",
      "[ ] 7번째 손님 (소요시간 : 41분)\n",
      "[O] 8번째 손님 (소요시간 : 6분)\n",
      "[O] 9번째 손님 (소요시간 : 9분)\n",
      "[ ] 10번째 손님 (소요시간 : 38분)\n",
      "[ ] 11번째 손님 (소요시간 : 19분)\n",
      "[ ] 12번째 손님 (소요시간 : 37분)\n",
      "[ ] 13번째 손님 (소요시간 : 23분)\n",
      "[ ] 14번째 손님 (소요시간 : 21분)\n",
      "[ ] 15번째 손님 (소요시간 : 20분)\n",
      "[ ] 16번째 손님 (소요시간 : 34분)\n",
      "[ ] 17번째 손님 (소요시간 : 19분)\n",
      "[ ] 18번째 손님 (소요시간 : 40분)\n",
      "[ ] 19번째 손님 (소요시간 : 20분)\n",
      "[ ] 20번째 손님 (소요시간 : 22분)\n",
      "[ ] 21번째 손님 (소요시간 : 22분)\n",
      "[O] 22번째 손님 (소요시간 : 14분)\n",
      "[O] 23번째 손님 (소요시간 : 8분)\n",
      "[O] 24번째 손님 (소요시간 : 8분)\n",
      "[ ] 25번째 손님 (소요시간 : 29분)\n",
      "[ ] 26번째 손님 (소요시간 : 50분)\n",
      "[ ] 27번째 손님 (소요시간 : 32분)\n",
      "[ ] 28번째 손님 (소요시간 : 42분)\n",
      "[O] 29번째 손님 (소요시간 : 8분)\n",
      "[ ] 30번째 손님 (소요시간 : 47분)\n",
      "[ ] 31번째 손님 (소요시간 : 29분)\n",
      "[ ] 32번째 손님 (소요시간 : 21분)\n",
      "[ ] 33번째 손님 (소요시간 : 48분)\n",
      "[ ] 34번째 손님 (소요시간 : 20분)\n",
      "[ ] 35번째 손님 (소요시간 : 31분)\n",
      "[ ] 36번째 손님 (소요시간 : 46분)\n",
      "[ ] 37번째 손님 (소요시간 : 24분)\n",
      "[O] 38번째 손님 (소요시간 : 9분)\n",
      "[ ] 39번째 손님 (소요시간 : 46분)\n",
      "[ ] 40번째 손님 (소요시간 : 35분)\n",
      "[ ] 41번째 손님 (소요시간 : 35분)\n",
      "[ ] 42번째 손님 (소요시간 : 41분)\n",
      "[ ] 43번째 손님 (소요시간 : 23분)\n",
      "[O] 44번째 손님 (소요시간 : 12분)\n",
      "[O] 45번째 손님 (소요시간 : 10분)\n",
      "[ ] 46번째 손님 (소요시간 : 29분)\n",
      "[ ] 47번째 손님 (소요시간 : 17분)\n",
      "[O] 48번째 손님 (소요시간 : 10분)\n",
      "[ ] 49번째 손님 (소요시간 : 28분)\n",
      "[ ] 50번째 손님 (소요시간 : 48분)\n",
      "\n",
      "총 탑승 승객 : 14명\n"
     ]
    }
   ],
   "source": [
    "# 당신은 Cocoa 서비스를 이용하는 택시 기사입니다.\n",
    "# 50명의 승객과 매칭 기회가 있을 때, 총 탑습 승객 수를 구하는 프로그램\n",
    "\n",
    "# 조건 1 : 승객별 운행 소요 시간은 5 ~ 50분 사이의 난수로 정해집니다.\n",
    "# 조건 2 : 당신은 소요 시간 5분 ~ 15분 사이의 승객만 매칭해야 합니다.\n",
    "\n",
    "# (출력문 예제)\n",
    "# [O] 1번째 손님 (소요시간 : 15분)\n",
    "# [ ] 2번째 손님 (소요시간 : 50분)\n",
    "# [O] 3번째 손님 (소요시간 : 5분)\n",
    "# ...\n",
    "# [ ] 50번째 손님 (소요시간 : 16분)\n",
    "\n",
    "# 총 탑승 승객 : 2명\n",
    "\n",
    "from random import *\n",
    "\n",
    "cnt = 0 # 총 탑승 승객\n",
    "\n",
    "for i in range(1, 51):\n",
    "    time  = randrange(5, 51)\n",
    "    if 5 <= time <= 15:\n",
    "        print(f\"[O] {i}번째 손님 (소요시간 : {time}분)\")\n",
    "        cnt += 1\n",
    "    else:\n",
    "        print(f\"[ ] {i}번째 손님 (소요시간 : {time}분)\")\n",
    "\n",
    "print(f\"\\n총 탑승 승객 : {cnt}명\")"
   ]
  },
  {
   "cell_type": "markdown",
   "metadata": {},
   "source": [
    "## 7. 함수"
   ]
  },
  {
   "cell_type": "code",
   "execution_count": 70,
   "metadata": {},
   "outputs": [],
   "source": [
    "def open_account():\n",
    "    print(\"새로운 계좌가 생성되었습니다.\")\n",
    "\n"
   ]
  },
  {
   "cell_type": "markdown",
   "metadata": {},
   "source": [
    "### 전달값과 반환값"
   ]
  },
  {
   "cell_type": "code",
   "execution_count": 71,
   "metadata": {},
   "outputs": [
    {
     "name": "stdout",
     "output_type": "stream",
     "text": [
      "입금이 완료되었습니다. 잔액은 1000원입니다.\n",
      "1000\n",
      "수수료 100원이며, 잔액은400원입니다.\n"
     ]
    }
   ],
   "source": [
    "def deposit(balance, money):\n",
    "    print(f\"입금이 완료되었습니다. 잔액은 {balance + money}원입니다.\")\n",
    "    return balance + money\n",
    "\n",
    "balance = 0\n",
    "balance = deposit(balance, 1000)\n",
    "print(balance)\n",
    "\n",
    "def withdraw(balance, money):\n",
    "    if balance >= money:\n",
    "        print(f\"출금이 완료되었습니다. 잔액은 {balance - money}원입니다.\")\n",
    "        return balance - money\n",
    "    else:\n",
    "        print(f\"출금에 실패했습니다. 잔액은 {balance}원입니다.\")\n",
    "        return balance\n",
    "\n",
    "def withdraw_night(balance, money):\n",
    "    commission = 100\n",
    "    return commission, balance - money - commission\n",
    "\n",
    "commission, balance = withdraw_night(balance, 500)\n",
    "print(f\"수수료 {commission}원이며, 잔액은{balance}원입니다.\")"
   ]
  },
  {
   "cell_type": "markdown",
   "metadata": {},
   "source": [
    "### 기본값"
   ]
  },
  {
   "cell_type": "code",
   "execution_count": 75,
   "metadata": {},
   "outputs": [
    {
     "name": "stdout",
     "output_type": "stream",
     "text": [
      "이름 : 유재석\t나이 : 18\t주 사용 언어 : 파이썬\n",
      "이름 : 김태호\t나이 : 18\t주 사용 언어 : 파이썬\n"
     ]
    }
   ],
   "source": [
    "# def profile(name, age, main_lang):\n",
    "#     print(f\"이름 : {name}\\t나이 : {age}\\t주 사용 언어 : {main_lang}\")\n",
    "# profile(\"유재석\", 20, \"파이썬\")\n",
    "# profile(\"김태호\", 25, \"자바\")\n",
    "\n",
    "def profile(name, age=18, main_lang=\"파이썬\"):\n",
    "    print(f\"이름 : {name}\\t나이 : {age}\\t주 사용 언어 : {main_lang}\")\n",
    "profile(\"유재석\")\n",
    "profile(\"김태호\")"
   ]
  },
  {
   "cell_type": "markdown",
   "metadata": {},
   "source": [
    "### 키워드값"
   ]
  },
  {
   "cell_type": "code",
   "execution_count": 77,
   "metadata": {},
   "outputs": [
    {
     "name": "stdout",
     "output_type": "stream",
     "text": [
      "유재석 20 파이썬\n",
      "김태호 25 자바\n"
     ]
    }
   ],
   "source": [
    "def profile(name, age, main_lang):\n",
    "    print(name, age, main_lang)\n",
    "\n",
    "profile(name=\"유재석\", main_lang=\"파이썬\", age=20)\n",
    "profile(main_lang=\"자바\", age=25, name=\"김태호\")"
   ]
  },
  {
   "cell_type": "markdown",
   "metadata": {},
   "source": [
    "### 가변 인자"
   ]
  },
  {
   "cell_type": "code",
   "execution_count": 81,
   "metadata": {},
   "outputs": [
    {
     "name": "stdout",
     "output_type": "stream",
     "text": [
      "이름 : 유재석\t나이 : 20\t Python Java C C++ C# \n",
      "이름 : 김태호\t나이 : 25\t Kotlin Swift \n"
     ]
    }
   ],
   "source": [
    "# def profile(name, age, lang1, lang2, lang3, lang4, lang5):\n",
    "#     print(f\"이름 : {name}\\t나이 : {age}\\t\", end=\" \")\n",
    "#     print(lang1, lang2, lang3, lang4, lang5)\n",
    "\n",
    "# profile(\"유재석\", 20, \"Python\", \"Java\", \"C\", \"C++\", \"C#\")\n",
    "# profile(\"김태호\", 25, \"Kotlin\", \"Swift\", \"\", \"\", \"\")\n",
    "\n",
    "# 변수의 개수가 서로 다를 때 가변인자를 넣으면 편하다.\n",
    "\n",
    "def profile(name, age, *language):\n",
    "    print(f\"이름 : {name}\\t나이 : {age}\\t\", end=\" \")\n",
    "    for lang in language:\n",
    "        print(lang, end=\" \")\n",
    "    print()\n",
    "\n",
    "profile(\"유재석\", 20, \"Python\", \"Java\", \"C\", \"C++\", \"C#\")\n",
    "profile(\"김태호\", 25, \"Kotlin\", \"Swift\")"
   ]
  },
  {
   "cell_type": "markdown",
   "metadata": {},
   "source": [
    "### 지역변수, 전역변수"
   ]
  },
  {
   "cell_type": "code",
   "execution_count": 86,
   "metadata": {},
   "outputs": [
    {
     "name": "stdout",
     "output_type": "stream",
     "text": [
      "전체 총 : 10\n",
      "[함수 내] 남은 총 : 8\n",
      "남은 총 : 8\n"
     ]
    }
   ],
   "source": [
    "gun = 10\n",
    "\n",
    "def checkpoint(soldiers):\n",
    "    global gun # 전역 공간에 있는 gun 사용\n",
    "    gun = gun - soldiers\n",
    "    print(f\"[함수 내] 남은 총 : {gun}\")\n",
    "\n",
    "# return을 해줌으로써 gun을 함수 외부로 출력할 수 있다.\n",
    "def checkpoint_ret(gun, soldiers):\n",
    "    gun = gun - soldiers\n",
    "    print(f\"[함수 내] 남은 총 : {gun}\")\n",
    "    return gun\n",
    "\n",
    "print(f\"전체 총 : {gun}\")\n",
    "gun = checkpoint_ret(gun, 2)\n",
    "print(f\"남은 총 : {gun}\")\n"
   ]
  },
  {
   "cell_type": "code",
   "execution_count": 90,
   "metadata": {},
   "outputs": [
    {
     "name": "stdout",
     "output_type": "stream",
     "text": [
      "키 175cm 남자의 표준 체중은 67.38kg입니다.\n"
     ]
    }
   ],
   "source": [
    "# 표준 체중을 구하는 프로그램을 작성하시오.\n",
    "\n",
    "# * 표준 체중 : 각 개인의 키에 적당한 체중\n",
    "\n",
    "# (성별에 따른 공식)\n",
    "# 남자 : 키(m) X 키(m) X 22\n",
    "# 여자 : 키(m) X 키(m) X 21\n",
    "\n",
    "# 조건 1 : 표준 체중은 별도의 함수 내에서 계산\n",
    "#     * 함수명 : std_weight\n",
    "#     * 전달값 : 키(height), 성별(gender)\n",
    "# 조건 2 : 표준 체중은 소수점 둘째자리까지 표시\n",
    "\n",
    "# (출력 예제)\n",
    "# 키 175cm 남자의 표준 체중은 67.38kg입니다.\n",
    "\n",
    "def std_weight(height, gender): # 키 m 단위 (실수)\n",
    "    if gender == \"남자\":\n",
    "        return (height ** 2) * 22\n",
    "    else:\n",
    "        return (height ** 2) * 21\n",
    "\n",
    "height = 175\n",
    "gender = \"남자\"\n",
    "\n",
    "weight = round(std_weight(height / 100 , gender), 2)\n",
    "\n",
    "print(f\"키 {height}cm {gender}의 표준 체중은 {weight}kg입니다.\")"
   ]
  },
  {
   "cell_type": "markdown",
   "metadata": {},
   "source": [
    "## 8. 모듈 / 패키지"
   ]
  },
  {
   "cell_type": "markdown",
   "metadata": {},
   "source": [
    "### 모듈"
   ]
  },
  {
   "cell_type": "markdown",
   "metadata": {},
   "source": [
    "- 모듈 = 다양한 기능을 하나의 파일로 묶은 것\n",
    "\n",
    "- 패키지 = 다양한 파일을 하나의 폴더로 묶은 것\n",
    "\n",
    "- 라이브러리 = 다양한 패키지를 하나의 묶음으로 묶은 것\n",
    "\n",
    "- pip = 라이브러리를 관리하는 관리자, PyPI(Python Package Index)에 저장된 외부 패키지들을 설치하도록 도와주는 패키지 관리 시스템\n",
    "\n",
    "- 가상환경 = 패키지의 활용 공간"
   ]
  },
  {
   "cell_type": "markdown",
   "metadata": {},
   "source": [
    "- 파이썬에 기본적으로 설치된 모듈과 내장 함수\n",
    "\n",
    "    - https://docs.python.org/ko/3/library/index.html\\\n",
    "```"
   ]
  },
  {
   "cell_type": "markdown",
   "metadata": {},
   "source": [
    "- 패키지 관리\n",
    "    - 일반적으로 패키지를 기록하는 파일의 이름은 requirements.txt로 정의\n",
    "    - $ pip freeze > requirements.txt `(박제)`\n",
    "    - $ pip install -r requirements.txt"
   ]
  },
  {
   "cell_type": "markdown",
   "metadata": {},
   "source": [
    "### 패키지"
   ]
  },
  {
   "cell_type": "markdown",
   "metadata": {},
   "source": [
    "- 모든 폴더에는 __init__.py를 만들어 패키지로 인식\n",
    "\n",
    "    - Python 3.3버전부터는 파일이 없어도 되지만, 하위 버전 호환 및 프레임워크 등에서의 동작을 위해 파일을 생성하는 것 권장"
   ]
  },
  {
   "cell_type": "markdown",
   "metadata": {},
   "source": [
    "### 가상환경"
   ]
  },
  {
   "cell_type": "markdown",
   "metadata": {},
   "source": [
    "- 파이썬 표준 라이브러리가 아닌 외부 패키지와 모듈을 사용하는 경우, 모두 pip를 통해 설치해야 한다.\n",
    "\n",
    "- 복수의 프로젝트를 하는 경우 버전이 다를 수 있음\n",
    "    - 과거 외주 프로젝트 - django 버전 2.x\n",
    "    - 신규 회사 프로젝트 - django 버전 3.x\n",
    "    - 이런 경우 가상환경을 만들어 프로젝트별로 독립적인 패키지를 관리할 수 있다.\n",
    "\n",
    "- 가상 환경을 만들고 관리하는데 사용되는 모듈(Python 3.5부터)\n",
    "\n",
    "- 특정 디렉토리에 가상환경을 만들고, 고유한 파이썬 패키지 집합을 가질 수 있다.\n",
    "    - 특정 폴더에 가상환경이 있고,\n",
    "    - 실행 환경(ex. bash)에서 가상환경을 활성화시켜\n",
    "    - 해당 폴더에 있는 패키지를 관리/사용\n",
    "\n"
   ]
  },
  {
   "cell_type": "markdown",
   "metadata": {},
   "source": [
    "### 표준입출력"
   ]
  },
  {
   "cell_type": "code",
   "execution_count": null,
   "metadata": {},
   "outputs": [],
   "source": [
    "print(\"Python\", \"Java\", \"JavaScript\", sep=\" vs \", end=\"?\")\n",
    "# sep = 요소 사이 처리\n",
    "# end = 문장의 마지막 부분 처리"
   ]
  }
 ],
 "metadata": {
  "kernelspec": {
   "display_name": "Python 3.9.13 64-bit",
   "language": "python",
   "name": "python3"
  },
  "language_info": {
   "codemirror_mode": {
    "name": "ipython",
    "version": 3
   },
   "file_extension": ".py",
   "mimetype": "text/x-python",
   "name": "python",
   "nbconvert_exporter": "python",
   "pygments_lexer": "ipython3",
   "version": "3.9.13"
  },
  "orig_nbformat": 4,
  "vscode": {
   "interpreter": {
    "hash": "d0f63c8ac4ae55f0599ce1f2b79c462941338767091400e19b50672fdac5e4d3"
   }
  }
 },
 "nbformat": 4,
 "nbformat_minor": 2
}
