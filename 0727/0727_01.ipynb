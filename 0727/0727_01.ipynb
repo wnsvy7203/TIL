{
 "cells": [
  {
   "cell_type": "markdown",
   "metadata": {},
   "source": [
    "# 0727_Python"
   ]
  },
  {
   "cell_type": "markdown",
   "metadata": {},
   "source": [
    "## 객체지향 프로그래밍(Object-Oriented Programming)"
   ]
  },
  {
   "cell_type": "markdown",
   "metadata": {},
   "source": [
    "## 1. 정의\n",
    "- 컴퓨터 프로그래밍의 패러다임(방법론) 중 하나\n",
    "- 컴퓨터 프로그램을 여러 개의 독립된 단위, '객체'들의 모임으로 파악하고자 하는 것이다. 각각의 객체는 메시지를 주고 받고, 데이터를 처리할 수 있다."
   ]
  },
  {
   "cell_type": "markdown",
   "metadata": {},
   "source": [
    "- 장점\n",
    "    - 클래스 단위로 모듈화하여 개발할 수 있어서 많은 인원이 참여하는 대규모 소프트웨어 개발에 적합\n",
    "    - 필요한 부분만 수정하기 쉽기 때문에 유지보수가 쉬움\n",
    "- 단점\n",
    "    - 설계 시 많은 노력과 시간이 필요함\n",
    "    - 실행 속도가 상대적으로 느림"
   ]
  },
  {
   "cell_type": "markdown",
   "metadata": {},
   "source": [
    "## 2. 객체"
   ]
  },
  {
   "cell_type": "markdown",
   "metadata": {},
   "source": [
    "- 속성(정보)과 행동(동작)으로 구성된 모든 것\n",
    "- 객체(실제 사례) / 클래스(설계도)\n",
    "    - 클래스로 만든 객체를 인스턴스라고도 함\n",
    "    - 인스턴스는 특정 타입/클래스의 인스턴스라고 설명한다.(특정 타입/클래스에 종속되어 있는 개념)\n",
    "- 객체는 특정 타입의 인스턴스다."
   ]
  },
  {
   "cell_type": "markdown",
   "metadata": {},
   "source": [
    "### 기본 문법"
   ]
  },
  {
   "cell_type": "code",
   "execution_count": null,
   "metadata": {},
   "outputs": [],
   "source": [
    "# 클래스 정의 class Myclass:\n",
    "# 인스턴스 생성 my_instance = Myclass()\n",
    "# 메서드 호출 my_instance.my_method()\n",
    "# 속성 my_instance.my_attribute\n",
    "\n",
    "class Person:\n",
    "    pass\n",
    "\n",
    "print(type(Person)) # <class 'type'>\n",
    "person1 = Person()\n",
    "\n",
    "print(isinstance(person1, Person)) # True\n",
    "print(type(person1)) # <class '__main__.Person'>\n",
    "\n",
    "# Python은 모든 것이 객체, 모든 객체는 특정 타입의 인스턴스이다."
   ]
  },
  {
   "cell_type": "code",
   "execution_count": null,
   "metadata": {},
   "outputs": [],
   "source": [
    "# 객체 비교하기\n",
    "# == : 동등한(equal) / 변수가 참조하는 객체가 동등한 경우 True\n",
    "# is : 동일한(identical) / 두 변수가 동일한 객체를 가리키는 경우 True\n",
    "\n",
    "a = [1, 2, 3]\n",
    "b = [1, 2, 3]\n",
    "\n",
    "print(a == b, a is b)\n",
    "# True False\n",
    "\n",
    "c = [1, 2, 3]\n",
    "d = c\n",
    "\n",
    "print(c == d, c is d) # True True"
   ]
  },
  {
   "cell_type": "markdown",
   "metadata": {},
   "source": [
    "### 속성"
   ]
  },
  {
   "cell_type": "code",
   "execution_count": null,
   "metadata": {},
   "outputs": [],
   "source": [
    "# 특정 데이터 타입/클래스의 객체들이 가지게 될 상태/데이터를 의미\n",
    "# 클래스 변수/인스턴스 변수가 존재\n",
    "\n",
    "class Person:\n",
    "    blood_color = 'red' # 클래스 변수\n",
    "    population = 100 # 클래스 변수\n",
    "\n",
    "    def __init__(self, name):\n",
    "        self.name = name # 인스턴스 변수\n",
    "\n",
    "person1 = Person('지민')\n",
    "print(person1.name) # 지민"
   ]
  },
  {
   "cell_type": "markdown",
   "metadata": {},
   "source": [
    "### 인스턴스 변수"
   ]
  },
  {
   "cell_type": "code",
   "execution_count": null,
   "metadata": {},
   "outputs": [],
   "source": [
    "# 인스턴스가 개인적으로 가지고 있는 속성(attribute)\n",
    "# 생성자 메서드(__init__)에서 self.<name>으로 정의\n",
    "# 인스턴스가 생성된 이후 <instance>.<name>으로 접근 및 할당\n",
    "\n",
    "class Person:\n",
    "    def __init__(self, name):\n",
    "        self.name = name\n",
    "\n",
    "john = Person('john')\n",
    "print(john.name) # john\n",
    "john.name = 'John Kim'\n",
    "print(john.name) # John Kim"
   ]
  },
  {
   "cell_type": "markdown",
   "metadata": {},
   "source": [
    "### 클래스 변수"
   ]
  },
  {
   "cell_type": "code",
   "execution_count": null,
   "metadata": {},
   "outputs": [],
   "source": [
    "# 클래스 선언 내부에서 정의\n",
    "# <classname>.<name>으로 접근 및 할당\n",
    "\n",
    "class Circle():\n",
    "    pi = 3.14 # 클래스 변수 정의 / 공용\n",
    "\n",
    "    def __init__(self, r):\n",
    "        self.r = r # 인스턴스 변수 / 개인용\n",
    "\n",
    "c1 = Circle(5)\n",
    "c2 = Circle(10)\n",
    "\n",
    "print(Circle.pi) # 3.14\n",
    "print(c1.pi) # 3.14 / 인스턴스.클래스변수도 가능하다.\n",
    "print(c2.pi) # 3.14\n",
    "\n",
    "Circle.pi = 5\n",
    "print(Circle.pi) # 5 공용인 클래스변수가 바뀌면 다 같이 바뀐다.\n",
    "print(c1.pi) # 5\n",
    "print(c2.pi) # 5"
   ]
  },
  {
   "cell_type": "code",
   "execution_count": null,
   "metadata": {},
   "outputs": [],
   "source": [
    "class Person:\n",
    "    count = 0\n",
    "    \n",
    "    # 인스턴스 변수 설정\n",
    "    def __init__(self, name):\n",
    "        self.name = name\n",
    "        Person.count += 1\n",
    "\n",
    "person1 = Person('아이유')\n",
    "person2 = Person('이찬혁')\n",
    "\n",
    "print(Person.count)"
   ]
  },
  {
   "cell_type": "code",
   "execution_count": null,
   "metadata": {},
   "outputs": [],
   "source": [
    "class Circle:\n",
    "    pi = 3.14\n",
    "\n",
    "    def __init__(self, r):\n",
    "        self.r = r\n",
    "\n",
    "c1 = Circle(5)\n",
    "c2 = Circle(10)\n",
    "\n",
    "print(Circle.pi) # 3.14\n",
    "print(c1.pi) # 3.14 / 인스턴스.변수(로 인스턴스 변수를 가져오는데\n",
    "print(c2.pi) # 3.14 / 값이 없으면, 클래스 변수를 가져온다.)\n",
    "\n",
    "c2.pi = 5 # 인스턴스 변수 변경\n",
    "print(Circle.pi) # 3.14(클래스 변수)\n",
    "print(c1.pi) # 3.14(클래스 변수)\n",
    "print(c2.pi) # 5(새로운 인스턴스 변수가 생성됨)\n",
    "\n",
    "# 클래스 변수를 변경할 경우 항상 클래스.클래스변수 형식으로 변경"
   ]
  },
  {
   "cell_type": "markdown",
   "metadata": {},
   "source": [
    "### OOP 메서드"
   ]
  },
  {
   "cell_type": "code",
   "execution_count": null,
   "metadata": {},
   "outputs": [],
   "source": [
    "# 메서드 : 특정 데이터 타입/클래스의 객체에 공통적으로 적용 가능한 행위(함수)\n",
    "\n",
    "class Person:\n",
    "    def talk(self):\n",
    "        print('안녕')\n",
    "    \n",
    "    def eat(self, food):\n",
    "        print(f'{food}를 냠냠')\n",
    "\n",
    "person1 = Person()\n",
    "person1.talk() # 안녕\n",
    "person1.eat('피자') # 피자를 냠냠\n",
    "person1.eat('치킨') # 치킨를 냠냠"
   ]
  },
  {
   "cell_type": "markdown",
   "metadata": {},
   "source": [
    "#### 인스턴스 메서드"
   ]
  },
  {
   "cell_type": "markdown",
   "metadata": {},
   "source": [
    "- 인스턴스 메서드 : 인스턴스 변수 처리\n",
    "- 클래스 메서드 : 클래스 처리\n",
    "- 정적 메서드 : 나머지(클래스와 인스턴스 모두와 상관없는 경우)"
   ]
  },
  {
   "cell_type": "code",
   "execution_count": null,
   "metadata": {},
   "outputs": [],
   "source": [
    "# (1) \n",
    "# 인스턴스 메서드 : 인스턴스 변수를 사용하거나, 값을 설정하는 메서드\n",
    "# 클래스 내부에 정의되는 메서드의 기본\n",
    "# 호출 시, 첫 번째 인자로 인스턴스 자기자신(self)이 자동으로 전달됨\n",
    "\n",
    "class Myclass:\n",
    "    def instance_method(self):\n",
    "        pass\n",
    "\n",
    "\n",
    "\n",
    "# my_instance = MyClass()\n",
    "# my_instance.instance_method.()\n",
    "\n",
    "# self : 인스턴스 자기자신\n",
    "# 매개변수 이름으로 self를 첫 번째 인자로 정의 \n",
    "# 다른 단어로 써도 작동은 하지만, 암묵적인 규칙"
   ]
  },
  {
   "cell_type": "code",
   "execution_count": null,
   "metadata": {},
   "outputs": [],
   "source": [
    "# (2) \n",
    "# 생성자(constructor) 메서드 : 인스턴스 객체가 생성될 때 자동 호출되는 메서드\n",
    "# 인스턴스 변수들의 초기값을 설정\n",
    "\n",
    "class Person:\n",
    "\n",
    "    def __init__(self):\n",
    "        print('인스턴스가 생성되었습니다.')\n",
    "\n",
    "person1 = Person() # 인스턴스가 생성되었습니다."
   ]
  },
  {
   "cell_type": "code",
   "execution_count": null,
   "metadata": {},
   "outputs": [],
   "source": [
    "class Person:\n",
    "\n",
    "    def __init__(self, name):\n",
    "        print(f'인스턴스가 생성되었습니다. {name}')\n",
    "\n",
    "person1 = Person('지민') # 인스턴스가 생성되었습니다. 지민"
   ]
  },
  {
   "cell_type": "code",
   "execution_count": null,
   "metadata": {},
   "outputs": [],
   "source": [
    "# (3)\n",
    "# 매직 메서드 (Double underscore)가 있는 메서드는\n",
    "# 특수한 동작을 위해 만들어진 메서드 : 스페셜 혹은 매직 메서드라고 불림\n",
    "# 특정 상황에 자동으로 불리는 메서드\n",
    "# 객체의 특수 조작 행위를 지정(함수, 연산자)"
   ]
  },
  {
   "cell_type": "code",
   "execution_count": null,
   "metadata": {},
   "outputs": [],
   "source": [
    "# (4)\n",
    "# 소멸자(destructor) 메서드\n",
    "# 인스턴스 객체가 소멸(파괴)되기 직전에 호출되는 메서드"
   ]
  },
  {
   "cell_type": "markdown",
   "metadata": {},
   "source": [
    "#### 클래스 메서드"
   ]
  },
  {
   "cell_type": "code",
   "execution_count": null,
   "metadata": {},
   "outputs": [],
   "source": [
    "# (1)\n",
    "# 클래스 메서드 : 클래스가 사용할 메서드\n",
    "# @classmethod 데코레이터를 사용하여 정의\n",
    "# 호출 시, 첫 번째 인자로 클래스(cls)가 전달됨"
   ]
  },
  {
   "cell_type": "code",
   "execution_count": null,
   "metadata": {},
   "outputs": [],
   "source": [
    "# (2)\n",
    "# 데코레이터 : 함수를 어떤 함수로 꾸며서 새로운 기능 부여\n",
    "# @데코레이터(함수명) 형태로 함수 위에 작성\n",
    "# 순서대로 적용되므로 작성 순서가 중요하다.\n",
    "\n",
    "def hello():\n",
    "    print(\"hello\")\n",
    "\n",
    "# 데코레이팅 함수\n",
    "def add_print(original): # 파라미터로 함수를 받는다.\n",
    "    def wrapper(): # 함수 내에서 새로운 함수 선언\n",
    "        print('함수 시작') # 부가기능 -> original 함수를 꾸민다.\n",
    "        original()\n",
    "        print('함수 끝') # 부가기능 -> original을 꾸민다.\n",
    "    return wrapper # 함수를 return 한다.\n",
    "\n",
    "@add_print # add print를 사용해서 print_hello()함수를 꾸며주는 명령어\n",
    "def print_hello():\n",
    "    print('hello')\n",
    "\n",
    "print_hello()\n",
    "# '함수 시작'\n",
    "# 'hello'\n",
    "# '함수 끝'"
   ]
  },
  {
   "cell_type": "code",
   "execution_count": null,
   "metadata": {},
   "outputs": [],
   "source": [
    "# (3)\n",
    "# 비교\n",
    "# 클래스 메서드 -> 클래스 변수 사용\n",
    "# 인스턴스 메서드 -> 인스턴스 변수 사용\n",
    "# 인스턴스 변수, 클래스 변수 모두 사용하고 싶다면\n",
    "# 클래스는 인스턴스 변수 사용 불가능\n",
    "# 인스턴스 메서드는 클래스 변수, 인스턴스 변수 둘 다 사용 가능"
   ]
  },
  {
   "cell_type": "markdown",
   "metadata": {},
   "source": [
    "#### 스태틱 메서드"
   ]
  },
  {
   "cell_type": "code",
   "execution_count": null,
   "metadata": {},
   "outputs": [],
   "source": [
    "# (1)\n",
    "# 인스턴스 변수, 클래스 변수를 전혀 다루지 않는 메서드\n",
    "# 객체 상태나 클래스 상태 수정 불가능\n",
    "# 속성을 다루지 않고, 단지 기능(행동)만을 하는 메서드를 정의할 때 사용\n",
    "# @staticmethod 데코레이터를 사용해 정의\n",
    "# 일반 함수처럼 동작하지만, 클래스의 이름공간에 귀속\n",
    "# 주로 해당 클래스로 한정하는 용도로 사용\n",
    "\n",
    "class Person:\n",
    "    count = 0 # 클래스 변수\n",
    "    def __init__(self, name): # 인스턴스 변수 설정\n",
    "        self.name = name\n",
    "        Person.count += 1\n",
    "    @staticmethod\n",
    "    def check_rich(money): # 스태틱은 cls, self 사용 x\n",
    "        return money > 10000\n",
    "\n",
    "person1 = Person('아이유')\n",
    "person2 = Person('이찬혁')\n",
    "print(Person.check_rich(100000)) # True 스태틱은 클래스로 접근 가능\n",
    "print(person1.check_rich(100000)) # True 스태틱은 인스턴스로 접근 가능        "
   ]
  },
  {
   "cell_type": "code",
   "execution_count": null,
   "metadata": {},
   "outputs": [],
   "source": [
    "# 인스턴스와 클래스 간의 이름 공간(namespace)\n",
    "# 클래스를 정의하면, 클래스와 해당하는 이름의 공간 생성\n",
    "# 인스턴스에서 특정 속성에 접근하면, 인스턴스-클래스 순으로 탐색\n",
    "\n",
    "class Person:\n",
    "    name = 'unknown'\n",
    "\n",
    "    def talk(self):\n",
    "        print(self.name)\n",
    "\n",
    "# p1은 인스턴스 변수가 정의되어 있지 않아 클래스 변수(unknown)가 출력됨\n",
    "p1 = Person()\n",
    "p1.talk() # unknown\n",
    "\n",
    "\n",
    "\n",
    "# p2 인스턴스 변수 설정 전/후\n",
    "# p2 인스턴스 변수가 정의되어 인스턴스 변수 Kim이 출력됨\n",
    "p2 = Person()\n",
    "p2.talk() # unknown\n",
    "p2.name = 'Kim'\n",
    "p2.talk() # Kim\n",
    "\n",
    "\n",
    "# Person 클래스의 값이 Kim으로 변경된 것이 아닌\n",
    "# p2 인스턴스의 이름 공간에 name이 Kim으로 저장\n",
    "print(Person.name) # unknown\n",
    "print(p1.name) # unknown \n",
    "print(p2.name) # Kim"
   ]
  },
  {
   "cell_type": "markdown",
   "metadata": {},
   "source": [
    "## 메서드 정리"
   ]
  },
  {
   "cell_type": "markdown",
   "metadata": {},
   "source": [
    "- 인스턴스 메서드\n",
    "    - 호출한 인스턴스를 의미하는 self, 매개변수를 통해 인스턴스를 조작\n",
    "\n",
    "- 클래스 메서드\n",
    "    - 클래스를 의미하는 cls, 매개 변수를 통해 클래스를 조작\n",
    "\n",
    "- 스태틱 메서드\n",
    "    - 클래스 변수나 인스턴스 변수를 사용하지 않는 경우에 사용 : 객체 상태나 클래스 상태를 수정할 수 없다."
   ]
  },
  {
   "cell_type": "code",
   "execution_count": null,
   "metadata": {},
   "outputs": [],
   "source": [
    "class MyClass:\n",
    "\n",
    "    def method(self):\n",
    "        return 'instance method', self\n",
    "\n",
    "    @classmethod\n",
    "    def classmethod(cls):\n",
    "        return 'class method', cls\n",
    "    \n",
    "    @staticmethod\n",
    "    def staticmethod():\n",
    "        return 'static method'\n",
    "\n",
    "obj = MyClass() # 인스턴스\n",
    "\n",
    "print(obj.method()) # 'instance method', <__main__MyClass at >\n",
    "\n",
    "print(MyClass.method(obj)) # ('instance method', <__main__Myclass at >) : 권장되는 방법은 아니다.\n",
    "\n",
    "print(MyClass.classmethod()) # ('class method', __main__MyClass)\n",
    "\n",
    "print(MyClass.staticmethod()) # static method\n",
    "\n",
    "# MyClass.method() # method() missing 1 required positional argument: 'self'\n",
    "\n",
    "# 인스턴스는 클래스 메서드와 스태틱 메서드 모두 접근 가능\n",
    "\n",
    "print(obj.classmethod()) # ('class method', <class '__main__MyClass'>)\n",
    "\n",
    "print(MyClass.classmethod()) # ('class method', <class '__main__MyClass'>)\n",
    "\n",
    "print(obj.staticmethod()) # static method   "
   ]
  },
  {
   "cell_type": "markdown",
   "metadata": {},
   "source": [
    "### 객체지향의 핵심 4가지\n",
    "- 객체 <-> 객체\n",
    "    - 정보 : 클래스 변수, 인스턴스 변수\n",
    "    - 행동 : 클래스 메서드, 인스턴스 메서드, 스태틱 메서드"
   ]
  },
  {
   "cell_type": "markdown",
   "metadata": {},
   "source": [
    "#### 추상화\n",
    "- 현실 세계를 프로그램 설계에 반영\n",
    "    - 복잡한 것은 숨기고, 필요한 것만 드러내기"
   ]
  },
  {
   "cell_type": "markdown",
   "metadata": {},
   "source": [
    "#### 상속\n",
    "- 두 클래스 사이 부모 - 자식 관계를 정립하는 것\n",
    "- 모든 파이썬 클래스는 object를 상속받음\n",
    "- 하위 클래스는 상위 클래스에 정의된 속성, 행동, 관계 및 제약 조건을 모두 상속받음\n",
    "- 부모 클래스의 속성, 메서드가 자식 클래스에 상속되므로, 코드 재사용성이 높아짐"
   ]
  },
  {
   "cell_type": "code",
   "execution_count": null,
   "metadata": {},
   "outputs": [],
   "source": [
    "# 상속 - 상속 없이 구현하는 경우 : 학생과 교수의 정보를 나타내기 어려움\n",
    "class Person:\n",
    "    def __init__(self, name, age):\n",
    "        self.name = name\n",
    "        self.age = age\n",
    "\n",
    "    def talk(self):\n",
    "        print(f'반갑습니다. {self.name}입니다.')\n",
    "\n",
    "s1 = Person('김학생', 23)\n",
    "s1.talk() # 반갑습니다. 김학생입니다.\n",
    "\n",
    "p1 = Person('박교수', 49)\n",
    "p1.talk() # 반갑습니다. 박교수입니다.\n",
    "\n",
    "s1.gpa = 4.5\n",
    "p1.department = '컴퓨터공학과'"
   ]
  },
  {
   "cell_type": "code",
   "execution_count": null,
   "metadata": {},
   "outputs": [],
   "source": [
    "class Person:\n",
    "    def __init__(self, name, age):\n",
    "        self.name = name\n",
    "        self.age = age\n",
    "\n",
    "    def talk(self):\n",
    "        print(f'반갑습니다. {self.name}입니다.')\n",
    "class Professor(Person):\n",
    "    def __init__(self, name, age, department):\n",
    "        self.name = name\n",
    "        self.age = age\n",
    "        self.department = department\n",
    "    \n",
    "class Student(Person):\n",
    "    def __init__(self, name, age, gpa):\n",
    "        self.name = name\n",
    "        self.age = age\n",
    "        self.gpa = gpa\n",
    "\n",
    "p1 = Professor('박교수', 49, '컴퓨터공학과')\n",
    "s1 = Student('김학생', 20, 3.5)\n",
    "# 부모 Person 클래스의 talk 메서드 활용\n",
    "p1.talk() # 반갑습니다. 박교수입니다.\n",
    "\n",
    "# 부모 Person 클래스의 talk 메서드를 활용\n",
    "s1.talk() # 반갑습니다. 김학생입니다."
   ]
  },
  {
   "cell_type": "code",
   "execution_count": null,
   "metadata": {},
   "outputs": [],
   "source": [
    "# 상속 관련 함수와 메서드\n",
    "# (1) isinstance(object, classinfo) : classinfo의 instance거나 subclass인 경우 True\n",
    "\n",
    "class Person:\n",
    "    pass\n",
    "\n",
    "class Professor:\n",
    "    pass\n",
    "\n",
    "class Student:\n",
    "    pass\n",
    "\n",
    "# 인스턴스 생성\n",
    "p1 = Professor()\n",
    "s1 = Student()\n",
    "\n",
    "print(isinstance(p1, Person)) # False\n",
    "print(isinstance(p1, Professor)) # True\n",
    "print(isinstance(p1, Student)) # False\n",
    "print(isinstance(s1, Person)) # False\n",
    "print(isinstance(s1, Professor)) # False\n",
    "print(isinstance(s1, Student)) # True"
   ]
  },
  {
   "cell_type": "code",
   "execution_count": null,
   "metadata": {},
   "outputs": [],
   "source": [
    "class Person:\n",
    "    pass\n",
    "\n",
    "class Professor(Person):\n",
    "    pass\n",
    "\n",
    "class Student(Person):\n",
    "    pass\n",
    "\n",
    "p1 = Professor()\n",
    "s1 = Student()\n",
    "\n",
    "print(isinstance(p1, Person)) # True\n",
    "print(isinstance(p1, Professor)) # True\n",
    "print(isinstance(p1, Student)) # False\n",
    "print(isinstance(s1, Person)) # True\n",
    "print(isinstance(s1, Professor)) # False\n",
    "print(isinstance(s1, Student)) # True"
   ]
  },
  {
   "cell_type": "code",
   "execution_count": null,
   "metadata": {},
   "outputs": [],
   "source": [
    "# (2) issubclass(class, classinfo) : class가 classinfo의 subclass면 True\n",
    "# classinfo는 클래스 객체의 튜플일 수 있으며, classinfo의 모든 항목을 검사\n",
    "\n",
    "class Person:\n",
    "    pass\n",
    "\n",
    "class Professor(Person):\n",
    "    pass\n",
    "\n",
    "class Student(Person):\n",
    "    pass\n",
    "\n",
    "p1 = Professor()\n",
    "s1 = Student()\n",
    "\n",
    "print(issubclass(bool, int)) # True\n",
    "print(issubclass(float, int)) # False\n",
    "print(issubclass(Professor, Person)) # True\n",
    "print(issubclass(Professor, (Person, Student))) # True"
   ]
  },
  {
   "cell_type": "code",
   "execution_count": null,
   "metadata": {},
   "outputs": [],
   "source": [
    "# (3) super() : 자식클래스에서 부모클래스를 사용하고 싶은 경우\n",
    "\n",
    "class Person:\n",
    "    def __init__(self, name, age, number, email):\n",
    "        self.name = name\n",
    "        self.age = age\n",
    "        self.number = number\n",
    "        self.email = email\n",
    "\n",
    "class Student(Person):\n",
    "    def __init__(self, name, age, number, email, student_id):\n",
    "        # Person 클래스 소환\n",
    "        super().__init__(name, age, number, email)\n",
    "        self.student_id = student_id\n",
    "\n",
    "# super가 없으면 일일이 다시 다 쳐야 함\n",
    "\n",
    "# 메서드 오버라이딩을 통해 자식 클래스에서 다시 정의하는 것도 가능\n",
    "# 상속관계에서의 이름 공간은 인스턴스, 자식 클래스, 부모 클래스 순으로 탐색"
   ]
  },
  {
   "cell_type": "code",
   "execution_count": null,
   "metadata": {},
   "outputs": [],
   "source": [
    "# (4) 다중 상속 : 두 개 이상의 클래스를 상속 받는 경우\n",
    "# 중복된 속성이나 메서드가 있는 경우, 상속 순서에 의해 결정된다.(상속이 우선하면 출력값도 우선한다.)\n",
    "\n",
    "class Person:\n",
    "    def __init__(self, name):\n",
    "        self.name = name\n",
    "\n",
    "    def greeting(self):\n",
    "        return f'안녕, {self.name}'\n",
    "\n",
    "class Mom(Person):\n",
    "    gene = 'XX'\n",
    "\n",
    "    def swim(self):\n",
    "        return '엄마가 수영'\n",
    "\n",
    "class Dad(Person):\n",
    "    gene = 'XY'\n",
    "\n",
    "    def walk(self):\n",
    "        return '아빠가 걷기'\n",
    "\n",
    "class FirstChild(Dad, Mom):\n",
    "    def swim(self):\n",
    "        return '첫째가 수영'\n",
    "    \n",
    "    def cry(self):\n",
    "        return '첫째가 응애'\n",
    "\n",
    "class SecondChild(Mom, Dad):\n",
    "    def walk(self):\n",
    "        return '둘째가 걷기'\n",
    "    \n",
    "    def cry(self):\n",
    "        return '둘째가 응애'\n",
    "\n",
    "baby1 = FirstChild('아가')\n",
    "print(baby1.cry()) # 첫째가 응애\n",
    "print(baby1.walk()) # 아빠가 걷기\n",
    "print(baby1.swim()) # 첫째가 수영\n",
    "print(baby1.gene) # XY\n",
    "\n",
    "\n",
    "baby2 = SecondChild('아가')\n",
    "print(baby2.cry()) # 둘째가 응애\n",
    "print(baby2.walk()) # 둘째가 걷기\n",
    "print(baby2.swim()) # 엄마가 수영\n",
    "print(baby2.gene) # XX\n",
    "\n"
   ]
  },
  {
   "cell_type": "code",
   "execution_count": null,
   "metadata": {},
   "outputs": [],
   "source": [
    "# (5) mro 메서드 (Method Resolution Order)\n",
    "# 해당 인스턴스의 클래스가 어떤 부모 클래스를 가지는지 확인하는 메서드\n",
    "# 기존의 인스턴스 -> 클래스 순으로 이름 공간을 탐색하는 과정에서 상속 관계에 있으면\n",
    "# 인스턴스 -> 자식 클래스 -> 부모 클래스로 확장"
   ]
  },
  {
   "cell_type": "markdown",
   "metadata": {},
   "source": [
    "#### 다형성(Polymorphism)\n",
    "- 동일한 메서드가 클래스에 따라 다르게 행동할 수 있음을 의미한다.\n",
    "    - 서로 다른 클래스에 속해있는 객체들이 동일한 메시지에 대해 다른 방식으로 응답할 수 있다는 뜻\n",
    "    - 메서드 오버라이딩(덮어쓰기)\n",
    "        - 상속받은 메서드를 재정의\n",
    "            - 클래스 상속 시, 부모 클래스에서 정의한 메서드를 자식 클래스에서 변경\n",
    "            - 부모 클래스의 메서드 이름과 기본 기능은 그대로 사용하지만, 특정 기능을 바꾸고 싶을 때 사용\n",
    "            - 부모 클래스의 메서드를 실행시키고 싶은 경우 super를 활용"
   ]
  },
  {
   "cell_type": "code",
   "execution_count": null,
   "metadata": {},
   "outputs": [],
   "source": [
    "class Person:\n",
    "    def __init__(self, name):\n",
    "        self.name = name\n",
    "    \n",
    "    def talk(self):\n",
    "        print(f'반갑습니다. {self.name}입니다.')\n",
    "\n",
    "# 자식 클래스 = Professor\n",
    "class Professor(Person):\n",
    "    def talk(self):\n",
    "        print(f'{self.name}일세.')\n",
    "\n",
    "# 자식 클래스 - Student\n",
    "class Student(Person):\n",
    "    def talk(self):\n",
    "        super().talk()\n",
    "        print(f'저는 학생입니다.')\n",
    "\n",
    "p1 = Professor('김교수')\n",
    "p1.talk() # 김교수일세.\n",
    "\n",
    "s1 = Student('이학생')\n",
    "s1.talk()\n",
    "# 반갑습니다. 이학생입니다.\n",
    "# 저는 학생입니다.\n",
    "\n",
    "# 오버로딩 : 똑같은 이름을 정의하고 각각 다르게 동작하도록 하는 기능\n",
    "# *args가 있기 때문에 오버로딩이 파이썬에서는 필요가 없다. print()"
   ]
  },
  {
   "cell_type": "markdown",
   "metadata": {},
   "source": [
    "#### 캡슐화\n",
    "- 객체의 일부 구현 내용에 대해 외부로부터의 직접적인 액세스 차단\n",
    "    - ex. 주민번호\n",
    "- 파이썬에서는 암묵적으로 존재하지만, 언어적으로는 존재하지 않는다.\n",
    "##### 접근 제어자의 종류\n",
    "- Public Access Modifier\n",
    "- Protected Access Modifier\n",
    "- Private Access Modifier\n"
   ]
  },
  {
   "cell_type": "code",
   "execution_count": null,
   "metadata": {},
   "outputs": [],
   "source": [
    "# (1) Public Member\n",
    "# 언더바 없이 시작하는 메서드나 속성\n",
    "# 어디서나 호출이 가능, 하위 클래스 override 허용\n",
    "# 일반적으로 작성되는 메서드와 속성의 대다수를 차지\n",
    "\n",
    "class Person:\n",
    "    def __init__(self, name, age):\n",
    "        self.name = name\n",
    "        self.age = age\n",
    "\n",
    "# Person 클래스의 인스턴스인 p1은 이름(name)과 나이(age) 모두 접근 가능하다.\n",
    "\n",
    "p1 = Person('김싸피', 30)\n",
    "print(p1.name) # 김싸피\n",
    "print(p1.age) # 30"
   ]
  },
  {
   "cell_type": "code",
   "execution_count": null,
   "metadata": {},
   "outputs": [],
   "source": [
    "# (2) Protected Member\n",
    "# 언더바 1개로 시작하는 메서드나 속성\n",
    "# 암묵적 규칙에 의해 부모 클래스 내부와 자식 클래스에서만 호출 가능\n",
    "# 하위 클래스 override 허용\n",
    "\n",
    "class Person:\n",
    "    def __init__(self, name, age):\n",
    "        self.name = name\n",
    "        self._age = age\n",
    "    \n",
    "    def get_age(self):\n",
    "        return self._age\n",
    "\n",
    "# 인스턴스를 만들고 get_age 메서드를 활용하여 호출할 수 있습니다.\n",
    "p1 = Person('김싸피', 30)\n",
    "print(p1.get_age()) # 30\n",
    "\n",
    "# _age에 직접 접근하여도 확인이 가능하다.\n",
    "# 파이썬에서는 암묵적으로 활용될 뿐\n",
    "print(p1._age) # 30"
   ]
  },
  {
   "cell_type": "code",
   "execution_count": null,
   "metadata": {},
   "outputs": [],
   "source": [
    "# (3) Private Member\n",
    "# 언더바 2개로 시작하는 메서드나 속성\n",
    "# 본 클래스 내부에서만 사용 가능\n",
    "# 하위클래스 상속 및 호출 불가능 (오류)\n",
    "# 외부 호출 불가능 (오류)\n",
    "\n",
    "class Person:\n",
    "    def __init__(self, name, age):\n",
    "        self.name = name\n",
    "        self.__age = age\n",
    "    \n",
    "    def get_age(self):\n",
    "        return self.__age\n",
    "\n",
    "# 인스턴스를 만들고 get_age 메서드를 활용하여 호출할 수 있습니다.\n",
    "p1 = Person('김싸피', 30)\n",
    "print(p1.get_age()) # 30\n",
    "\n",
    "# _age에 직접 접근 불가능\n",
    "print(p1.__age) # AttributeError: 'Person' object has no attribute '__age'"
   ]
  },
  {
   "cell_type": "code",
   "execution_count": 36,
   "metadata": {},
   "outputs": [],
   "source": [
    "# (4) getter 메서드와 setter 메서드\n",
    "# 변수에 접근할 수 있는 메서드를 별도로 생성\n",
    "# getter 메서드 : 변수의 값을 읽는 메서드, @property 데코레이터 사용\n",
    "# setter 메서드 : 변수의 값을 설정하는 성격의 메서드, @변수.setter 사용\n",
    "\n",
    "class Person:\n",
    "    def __init__(self, age):\n",
    "        self._age = age\n",
    "    \n",
    "    @property\n",
    "    def age(self):\n",
    "        return self._age\n",
    "\n",
    "    @age.setter\n",
    "    def age(self, new_age):\n",
    "        if new_age <= 19:\n",
    "            raise ValueError('Too Young For SSAFY')\n",
    "            return\n",
    "        \n",
    "        self._age = new_age\n",
    "\n",
    "# 인스턴스를 만들어서 나이에 접근하면 정상 출력\n",
    "p1 = Person(20)\n",
    "print(p1.age) # 20\n",
    "\n",
    "# p1 인스턴스의 나이를 다른 값으로 바꿔도 정상적으로 반영\n",
    "p1.age = 33\n",
    "print(p1.age) # 33\n",
    "\n",
    "# setter 함수에는 \"나이가 19살 이하면 안된다는\" 조건문이 하나 걸려 있어서,\n",
    "# 나이를 19 이하로 변경하게 되면 오류 발생\n",
    "p1.age = 19\n",
    "print(p1.age) # ValueError('Too Young For SSAFY')"
   ]
  },
  {
   "cell_type": "markdown",
   "metadata": {},
   "source": [
    "## 에러와 예외 처리"
   ]
  },
  {
   "cell_type": "markdown",
   "metadata": {},
   "source": [
    "### 디버깅\n",
    "- 1945년 프로그래밍 언어의 일종인 코볼 발명자 그레이스 호퍼가 발견, Mark Ⅱ라는 컴퓨터 회로에 벌레인 나방이 들어가 합선을 일으켜 비정상적으로 동작해서, 이때부터 소프트웨어에서 발생하는 문제를 버그라고 부른다.\n",
    "\n",
    "- 정의\n",
    "    - 잘못된 프로그램을 수정하는 것을 디버깅이라 한다.\n",
    "    - 에러 메시지가 발생하는 경우 : 해당 위치를 찾아 메시지 해결\n",
    "    - 로직 에러가 발생하는 경우 : 명시적인 에러 메시지 없이 예상과 다른 결과가 나온 경우\n",
    "        - 정상적으로 동작했던 코드 이후 작성된 코드를 생각해봄\n",
    "        - 전체 코드를 살펴봄\n",
    "        - 휴식을 가져봄\n",
    "        - 누군가에게 설명(?)\n",
    "- 방법\n",
    "    - print를 여러 번 해서 오류가 없는지 꾸준히 확인\n",
    "        - 특정 함수 결과, 반복/조건 결과 등 나눠서 생각, 코드를 bisection으로 나눠서 생각\n",
    "    - 개발 환경(text editor, IDE)등에서 제공하는 기능 활용\n",
    "        - breakpoint, 변수 조회 등\n",
    "    - Python tutor 활용 (단순 파이썬 코드인 경우)\n",
    "    - 뇌컴파일, 눈디버깅"
   ]
  },
  {
   "cell_type": "markdown",
   "metadata": {},
   "source": [
    "### 문법 에러(Syntax Error)\n",
    "- 파일이름, 줄번호, ^ 문자를 통해 파이썬이 코드를 읽어 나갈 때(parser) 문제가 발생한 위치를 표현\n",
    "- 파이썬은 SyntaxError 발생 즉시 프로그램 종료 후 에러코드 출력\n",
    "- 줄에서 에러가 감지된 가장 앞의 위치를 가리키는 캐럿(Caret)기호(^) 표시"
   ]
  },
  {
   "cell_type": "code",
   "execution_count": null,
   "metadata": {},
   "outputs": [],
   "source": [
    "# Invalid syntax\n",
    "\n",
    "# (1) 문법 오류\n",
    "while # SyntaxError: invalid syntax\n",
    "\n",
    "\n",
    "# (2) 잘못된 할당\n",
    "5 = 3\n",
    "# SyntaxError: cannot assign to literal\n",
    "\n",
    "# (3) EOL(End of Line)\n",
    "print('hello \n",
    "# SyntaxError: EOL while scanning string literal\n",
    "\n",
    "# (4) EOF(End of File)\n",
    "print(\n",
    "# SyntaxError: unexpected EOF while parsing"
   ]
  },
  {
   "cell_type": "markdown",
   "metadata": {},
   "source": [
    "### 예외(Exception)\n",
    "- 실행 도중 예상치 못한 상황\n",
    "    - 문장이나 표현식이 문법적으로 올바르더라도 발생하는 에러\n",
    "    - 실행 중에 감지되는 에러\n",
    "    - 타입이 메시지의 일부로 출력됨\n",
    "        - NameError, TypeError 등은 발생한 예외 타입의 종류(이름)\n",
    "- 모든 내장 예외는 Exception Class를 상속받아 이뤄짐\n",
    "- 사용자 정의 예외를 만들어 관리 가능"
   ]
  },
  {
   "cell_type": "code",
   "execution_count": null,
   "metadata": {},
   "outputs": [],
   "source": [
    "# Exception\n",
    "\n",
    "# (1) ZeroDivisionError: 0으로 나눌 때 발생\n",
    "10/0\n",
    "\n",
    "# (2) NameError: namespace 상에 이름이 없는 경우\n",
    "print(name_error)\n",
    "\n",
    "# (3) TypeError - 타입 불일치\n",
    "1 + '1' # TypeError: unsupported operand type(s) for +: 'int' and 'str'(java는 더해진다.)\n",
    "round('3.5') # TypeError: type str doesn't define __round__method\n",
    "\n",
    "# (4) TypeError - argument 누락\n",
    "divmod() # TypeError: divmod expected 2 arguments, got 0\n",
    "import random\n",
    "random.sample() # TypeError: sample() missing 2 required positional arguments 'population' and 'k'\n",
    "\n",
    "# (5) TypeError - argument 개수 초과 \n",
    "divmod(1, 2, 3) # TypeError: divmod expected 2 arguments, got 3\n",
    "import random\n",
    "random.sample(range(3), 1, 2) # TypeError: sample() takes 3 positional arguments but 4 were given\n",
    "\n",
    "# (6) TypeError - argument type 불일치\n",
    "import random\n",
    "random.sample(1, 2) # TypeError: Population must be a sequence. For dicts or sets, use sorted(d).\n",
    "\n",
    "# (7) ValueError - 타입은 올바르지만 값이 적절하지 않거나 없는 경우\n",
    "int('3.5') # ValueError: invalid literal for int() with base 10: '3.5'\n",
    "range(3).index(6) # ValueError: 6 is not in range\n",
    "\n",
    "# (8) IndexError - 인덱스가 존재하지 않거나 범위를 벗어나는 경우\n",
    "empty_list = [] \n",
    "empty_list[2] # IndexError:list index out of range\n",
    "\n",
    "# (9) KeyError - 해당 키가 존재하지 않는 경우\n",
    "song = {'IU' : '좋은날'}\n",
    "song['BTS'] # KeyError: 'BTS'\n",
    "\n",
    "# (10) ModuleNotFoundError - 모듈을 찾을 수 없을 때\n",
    "import ssafy # ModuleNotFoundError: No module named 'ssafy'\n",
    "\n",
    "# (11) ImportError - 모듈은 있으나 존재하지 않는 클래스/함수를 가져오는 경우\n",
    "from random import sample\n",
    "print(sample(range(3), 1)) # [1]\n",
    "\n",
    "from random import samp # ImportError: cannot import name 'samp' from 'random'(/파일 위치)\n",
    "\n",
    "# (12) KeyboardInterrupt - 임의로 프로그램을 종료했을 때\n",
    "while True:\n",
    "    continue \n",
    "'''Traceback (most recent call last):\n",
    "    File \"...\", line 2, in <module>\n",
    "        continue\n",
    "KeyboardInterrupt\n",
    "'''\n",
    "\n",
    "# (13) IndentationError - Indentation이 적절하지 않은 경우\n",
    "for i in range(3):\n",
    "    print(i) # IndentationError: expected an indented block\n",
    "\n",
    "for i in range(3):\n",
    "    print(i)\n",
    "        print(i) # IndentationError: unexpected indent"
   ]
  },
  {
   "cell_type": "markdown",
   "metadata": {},
   "source": [
    "### 파이썬 내장 예외(built-in-exceptions)\n",
    "- 파이썬 내장 예외의 클래스 계층 구조\n"
   ]
  },
  {
   "cell_type": "markdown",
   "metadata": {},
   "source": [
    "### 예외 처리\n",
    "- try 문(statement) / except 절(clause)을 이용하여 예외 처리를 할 수 있음\n",
    "- try 문\n",
    "    - 오류가 발생할 가능성이 있는 코드를 실행\n",
    "    - 예외가 발생하지 않으면, except 없이 실행 종료\n",
    "- except 문\n",
    "    - 예외가 발생하면, except 절이 실행\n",
    "    - 예외 상황을 처리하는 코드를 받아서 적절한 조치를 취함\n",
    "- try 문은 반드시 한 개 이상의 except 문이 필요하다."
   ]
  },
  {
   "cell_type": "code",
   "execution_count": 37,
   "metadata": {},
   "outputs": [
    {
     "name": "stdout",
     "output_type": "stream",
     "text": [
      "숫자가 아닙니다.\n"
     ]
    }
   ],
   "source": [
    "try:\n",
    "    num = input('숫자입력: ')\n",
    "    print(int(num))\n",
    "except ValueError:\n",
    "    print('숫자가 아닙니다.')"
   ]
  },
  {
   "cell_type": "markdown",
   "metadata": {},
   "source": [
    "### 에러 메시지 처리 (as)\n",
    "- as 키워드를 활용하여 원본 에러 메시지를 사용할 수 있음\n",
    "    - 예외를 다른 이름에 대입"
   ]
  },
  {
   "cell_type": "code",
   "execution_count": 38,
   "metadata": {},
   "outputs": [
    {
     "name": "stdout",
     "output_type": "stream",
     "text": [
      "제대로 입력해줘.\n"
     ]
    }
   ],
   "source": [
    "# 복수의 예외 처리\n",
    "try:\n",
    "    num = input('100으로 나눌 값을 입력하시오.: ')\n",
    "    100/int(num)\n",
    "except (ValueError, ZeroDivisionError):\n",
    "    print('제대로 입력해줘.')"
   ]
  },
  {
   "cell_type": "code",
   "execution_count": 39,
   "metadata": {},
   "outputs": [
    {
     "name": "stdout",
     "output_type": "stream",
     "text": [
      "숫자를 넣어주세요.\n"
     ]
    }
   ],
   "source": [
    "# 에러 별로 별도의 에러처리\n",
    "# 순차적으로 실행되기 때문에, 가장 작은 범주부터 예외 처리를 해야 한다.\n",
    "\n",
    "try:\n",
    "    num = input('100으로 나눌 값을 입력하시오.: ')\n",
    "    print(100/int(num))\n",
    "except ValueError:\n",
    "    print('숫자를 넣어주세요.')\n",
    "except ZeroDivisionError:\n",
    "    print('0으로 나눌 수 없습니다.')\n",
    "except:\n",
    "    print('에러는 모르지만 에러가 발생하였습니다.')"
   ]
  },
  {
   "cell_type": "markdown",
   "metadata": {},
   "source": [
    "### 예외 처리 종합\n",
    "- try : 코드를 실행\n",
    "- except : try 문에서 예외 발생 시 실행\n",
    "- else : try 문에서 예외가 발생하지 않으면 실행\n",
    "- finally : 예외 발생 여부와 관계없이 항상 실행\n",
    "\n",
    "##### 다만, if문으로 조건을 잘 짜는 게 좀 더 빠르다."
   ]
  }
 ],
 "metadata": {
  "kernelspec": {
   "display_name": "Python 3.9.13 64-bit",
   "language": "python",
   "name": "python3"
  },
  "language_info": {
   "codemirror_mode": {
    "name": "ipython",
    "version": 3
   },
   "file_extension": ".py",
   "mimetype": "text/x-python",
   "name": "python",
   "nbconvert_exporter": "python",
   "pygments_lexer": "ipython3",
   "version": "3.9.13"
  },
  "orig_nbformat": 4,
  "vscode": {
   "interpreter": {
    "hash": "d0f63c8ac4ae55f0599ce1f2b79c462941338767091400e19b50672fdac5e4d3"
   }
  }
 },
 "nbformat": 4,
 "nbformat_minor": 2
}
