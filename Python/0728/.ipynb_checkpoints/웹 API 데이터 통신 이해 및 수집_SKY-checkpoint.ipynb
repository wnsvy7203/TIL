{
 "cells": [
  {
   "cell_type": "markdown",
   "id": "f154fd1e",
   "metadata": {},
   "source": [
    "## 웹 API의 이해\n",
    "- API란 Application Programming Interface 의 약자로 컴퓨팅 처리를 쉽게 해주는 기능을 말합니다.\n",
    "    - 조금 더 설명하면, 두 소프트웨어가 서로 통신할 수 있도록 연결 시켜주는 기능이고,\n",
    "    - 한 마디로 줄이면, API는 기능입니다.\n",
    "    - 즉, 우리가 브라우저를 통해 서버에게 정보를 요청한 것이 api를 사용한 것\n",
    "\n",
    "### 웹 API의 데이터 획득 과정\n",
    "    - 요청과 응답\n",
    "    - 요청: reqeust - python의 경우 requests 라이브러리\n",
    "        - url 만들기(경로 추가, 매개 변수 추가)\n",
    "    - 응답: response - html, json\n",
    "\n",
    "\n",
    "### 웹 API의 인증 방식\n",
    "     - key를 사용하지 않는 경우 - url = 'https://api.agify.io/?name=jun', url = 'http://api.open-notify.org/iss-now.json'\n",
    "     - key(a.k.a api_key)를 사용하는 경우\n",
    "\n",
    "\n",
    "### 응답 데이터의 형식 및 처리\n",
    "    - html, json, xml\n",
    "\n",
    "#### JSON 형식의 데이터 처리\n",
    "\n",
    "* 파이썬 딕셔너리를 Json으로 변환: json.dump()\n",
    "* Json을 파이썬 딕셔너리로 변환: json.load()"
   ]
  },
  {
   "cell_type": "markdown",
   "id": "5d1194ff",
   "metadata": {},
   "source": [
    "## 요청을 위한 형식 만들기(url, 경로 추가, 매개 변수 추가)"
   ]
  },
  {
   "cell_type": "code",
   "execution_count": 17,
   "id": "c0e562af",
   "metadata": {},
   "outputs": [
    {
     "name": "stdout",
     "output_type": "stream",
     "text": [
      "https://api.github.com/events\n"
     ]
    },
    {
     "data": {
      "text/plain": [
       "<Response [403]>"
      ]
     },
     "execution_count": 17,
     "metadata": {},
     "output_type": "execute_result"
    }
   ],
   "source": [
    "import requests\n",
    "\n",
    "base_url = 'https://api.github.com/' # url\n",
    "sub_url = 'events' # 경로\n",
    "\n",
    "url = base_url + sub_url\n",
    "print(url)\n",
    "\n",
    "requests.get(url) # <Response [200]> 적당한 값을 받았음을 알리는 반응"
   ]
  },
  {
   "cell_type": "code",
   "execution_count": 16,
   "id": "556940e0",
   "metadata": {},
   "outputs": [
    {
     "name": "stdout",
     "output_type": "stream",
     "text": [
      "https://news.google.com/search?q=파이썬hl=ko&gl=KR#ceid=KR%3Ako\n"
     ]
    },
    {
     "data": {
      "text/plain": [
       "<Response [200]>"
      ]
     },
     "execution_count": 16,
     "metadata": {},
     "output_type": "execute_result"
    }
   ],
   "source": [
    "from bs4 import BeautifulSoup\n",
    "\n",
    "base_url = 'https://news.google.com/'\n",
    "search_url = 'search?q=' + '파이썬' + 'hl=ko&gl=KR#ceid=KR%3Ako'\n",
    "\n",
    "url = base_url + search_url\n",
    "print(url)\n",
    "\n",
    "requests.get(url)"
   ]
  },
  {
   "cell_type": "markdown",
   "id": "d4d993a8",
   "metadata": {},
   "source": [
    "## API 키를 사용하지 않고 데이터 가져오기\n",
    "### 국제 우주 정거장의 정보 가져오기(iss-now)"
   ]
  },
  {
   "cell_type": "code",
   "execution_count": 28,
   "id": "ac2fb593",
   "metadata": {},
   "outputs": [
    {
     "name": "stdout",
     "output_type": "stream",
     "text": [
      "<Response [200]>\n",
      "<class 'requests.models.Response'>\n"
     ]
    }
   ],
   "source": [
    "import requests\n",
    "import json\n",
    "\n",
    "url = 'http://api.open-notify.org/iss-now.json'\n",
    "\n",
    "result = requests.get(url)\n",
    "print(result)\n",
    "print(type(result))"
   ]
  },
  {
   "cell_type": "code",
   "execution_count": 29,
   "id": "6953f5e2",
   "metadata": {},
   "outputs": [
    {
     "data": {
      "text/plain": [
       "{'timestamp': 1658995507,\n",
       " 'message': 'success',\n",
       " 'iss_position': {'latitude': '51.4311', 'longitude': '162.2266'}}"
      ]
     },
     "execution_count": 29,
     "metadata": {},
     "output_type": "execute_result"
    }
   ],
   "source": [
    "dict1 = json.loads(result.text)\n",
    "dict1"
   ]
  },
  {
   "cell_type": "code",
   "execution_count": 30,
   "id": "00980493",
   "metadata": {},
   "outputs": [
    {
     "data": {
      "text/plain": [
       "dict_keys(['timestamp', 'message', 'iss_position'])"
      ]
     },
     "execution_count": 30,
     "metadata": {},
     "output_type": "execute_result"
    }
   ],
   "source": [
    "dict1.keys()"
   ]
  },
  {
   "cell_type": "code",
   "execution_count": 31,
   "id": "7232e5a4",
   "metadata": {},
   "outputs": [],
   "source": [
    "# lat = float(dict1.get('iss_position').get('latitude'))\n",
    "# lon = float(dict1.get('iss_position').get('longitude'))\n",
    "\n",
    "lat = float(dict1['iss_position']['latitude'])\n",
    "lon = float(dict1['iss_position']['longitude'])"
   ]
  },
  {
   "cell_type": "markdown",
   "id": "a26b62c2",
   "metadata": {},
   "source": [
    "* 국제 우주정거장의 위치 정보를 10초마다 갱신하는 코드"
   ]
  },
  {
   "cell_type": "code",
   "execution_count": 32,
   "id": "1d964e90",
   "metadata": {},
   "outputs": [
    {
     "name": "stdout",
     "output_type": "stream",
     "text": [
      "위도:  51.4311\n",
      "경도:  162.2266\n",
      "위도:  51.4311\n",
      "경도:  162.2266\n",
      "위도:  51.4311\n",
      "경도:  162.2266\n",
      "위도:  51.4311\n",
      "경도:  162.2266\n",
      "위도:  51.4311\n",
      "경도:  162.2266\n"
     ]
    }
   ],
   "source": [
    "import requests\n",
    "import json\n",
    "import time\n",
    "\n",
    "url = 'http://api.open-notify.org/iss-now.json'\n",
    "\n",
    "for k in range(5):\n",
    "    result = requests.get(url)\n",
    "    dic1 = json.loads(result.text)\n",
    "    print(\"위도: \", dict1['iss_position']['latitude'])\n",
    "    print(\"경도: \", dict1['iss_position']['longitude'])\n",
    "    time.sleep(10)"
   ]
  },
  {
   "cell_type": "markdown",
   "id": "5be21047",
   "metadata": {},
   "source": [
    "### agify api "
   ]
  },
  {
   "cell_type": "code",
   "execution_count": 36,
   "id": "556f8835",
   "metadata": {},
   "outputs": [
    {
     "name": "stdout",
     "output_type": "stream",
     "text": [
      "50\n"
     ]
    }
   ],
   "source": [
    "import requests\n",
    "\n",
    "url = 'https://api.agify.io/?name=jun'\n",
    "result = requests.get(url).json() # requests 에서 가져온 str을 바로 dict로 바꿔준다.\n",
    "print(result.get('age'))"
   ]
  },
  {
   "cell_type": "markdown",
   "id": "08fc7a96",
   "metadata": {},
   "source": [
    "### lotto  api"
   ]
  },
  {
   "cell_type": "code",
   "execution_count": 39,
   "id": "518befeb",
   "metadata": {},
   "outputs": [
    {
     "name": "stdout",
     "output_type": "stream",
     "text": [
      "{'totSellamnt': 101960162000, 'returnValue': 'success', 'drwNoDate': '2022-06-25', 'firstWinamnt': 2108962250, 'drwtNo6': 45, 'drwtNo4': 24, 'firstPrzwnerCo': 12, 'drwtNo5': 29, 'bnusNo': 16, 'firstAccumamnt': 25307547000, 'drwNo': 1021, 'drwtNo2': 15, 'drwtNo3': 17, 'drwtNo1': 12}\n"
     ]
    }
   ],
   "source": [
    "import requests\n",
    "url = 'https://www.dhlottery.co.kr/common.do?method=getLottoNumber&drwNo=1021' # parameter 여러 개를 넘길 때는 구분자 &를 사용한다.\n",
    "\n",
    "result = requests.get(url).json()\n",
    "print(result)"
   ]
  },
  {
   "cell_type": "code",
   "execution_count": 40,
   "id": "25932515",
   "metadata": {},
   "outputs": [
    {
     "name": "stdout",
     "output_type": "stream",
     "text": [
      "[12, 15, 17, 24, 29, 45]\n"
     ]
    }
   ],
   "source": [
    "list1 = [result['drwtNo1'], result['drwtNo2'], result['drwtNo3'], result['drwtNo4'], result['drwtNo5'], result['drwtNo6']]\n",
    "print(list1)"
   ]
  },
  {
   "cell_type": "markdown",
   "id": "4851a87a",
   "metadata": {},
   "source": [
    "## key를 사용하여 데이터를 요청하는 경우\n",
    "- 대부분의 api server 에서 요구하는 방식\n",
    "- 공공 데이터 포털\n",
    "- 네이버 개발자 센터, 카카오 개발자 그룹, etc\n"
   ]
  },
  {
   "cell_type": "markdown",
   "id": "c89fadf8",
   "metadata": {},
   "source": [
    "* TMDB API 기본 사용법과 키 발급 받는 방법\n",
    " - https://www.themoviedb.org/signup?language=ko"
   ]
  },
  {
   "cell_type": "code",
   "execution_count": null,
   "id": "7b68876b",
   "metadata": {},
   "outputs": [],
   "source": []
  },
  {
   "cell_type": "code",
   "execution_count": null,
   "id": "735529d0",
   "metadata": {},
   "outputs": [],
   "source": []
  },
  {
   "cell_type": "code",
   "execution_count": null,
   "id": "22038014",
   "metadata": {},
   "outputs": [],
   "source": []
  },
  {
   "cell_type": "markdown",
   "id": "2420a7b3",
   "metadata": {},
   "source": [
    "\n",
    "### 응답 데이터의 형식 및 처리\n",
    "    - html, json, xml\n",
    "\n",
    "#### JSON 형식의 데이터 처리\n",
    "\n",
    "* 파이썬 딕셔너리를 Json으로 변환: json.dump()\n",
    "* Json을 파이썬 딕셔너리로 변환: json.load()"
   ]
  },
  {
   "cell_type": "markdown",
   "id": "812c2221",
   "metadata": {},
   "source": [
    "2020년 3월 서울 지하철역 유동인구 정보를 분석하고 지도에 표시하려고 합니다.\n",
    "google map platform(https://developers.google.com/maps/documentation/geocoding/overview)에서 제공하는 api를 사용하여 \"동대문역\"의 지리 정보를 얻어 json 변수에 할당하였습니다."
   ]
  },
  {
   "cell_type": "raw",
   "id": "35ae4e58",
   "metadata": {},
   "source": [
    "json = {'results': [{'address_components': [{'long_name': '２８８', 'short_name': '２８８', 'types': ['premise']}, {'long_name': '종로', 'short_name': '종로', 'types': ['political', 'sublocality', 'sublocality_level_4']}, {'long_name': '종로6가', 'short_name': '종로6가', 'types': ['political', 'sublocality', 'sublocality_level_2']}, {'long_name': '종로구', 'short_name': '종로구', 'types': ['political', 'sublocality', 'sublocality_level_1']}, {'long_name': '서울특별시', 'short_name': '서울특별시', 'types': ['administrative_area_level_1', 'political']}, {'long_name': '대한민국', 'short_name': 'KR', 'types': ['country', 'political']}, {'long_name': '110-126', 'short_name': '110-126', 'types': ['postal_code']}], 'formatted_address': '대한민국 서울특별시 종로구 종로6가 종로 288', 'geometry': {'location': {'lat': 37.5711389, 'lng': 127.0095452}, 'location_type': 'ROOFTOP', 'viewport': {'northeast': {'lat': 37.5724878802915, 'lng': 127.0108941802915}, 'southwest': {'lat': 37.5697899197085, 'lng': 127.0081962197085}}}, 'place_id': 'ChIJm6x0HTujfDURbf9iX8DtJ2A', 'types': ['establishment', 'point_of_interest', 'tourist_attraction']}], 'status': 'OK'}"
   ]
  },
  {
   "cell_type": "markdown",
   "id": "5d228817",
   "metadata": {},
   "source": [
    "__(1)동대문역의 주소('대한민국 서울특별시 종로구 종로6가 종로 288')를 추출하여, long_addr 변수에 저장하세요.__"
   ]
  },
  {
   "cell_type": "code",
   "execution_count": null,
   "id": "2b81bec3",
   "metadata": {},
   "outputs": [],
   "source": []
  },
  {
   "cell_type": "markdown",
   "id": "377c4487",
   "metadata": {},
   "source": [
    "__(2) 동대문역의 위도(37.5711389), 경도(127.0095452) 정보를 추출하여, lat, lng변수에 저장하세요.__"
   ]
  },
  {
   "cell_type": "code",
   "execution_count": null,
   "id": "0e63e0fa",
   "metadata": {},
   "outputs": [],
   "source": []
  },
  {
   "cell_type": "markdown",
   "id": "d26b0ba8",
   "metadata": {},
   "source": [
    "* (참고) xml 형식의 데이터 처리\n",
    "* XML 언어의 특징\n",
    "- XML(eXtensible Markup Language): 데이터 저장 및 전달을 위해 만든 다목적 마크업 언어\n",
    "- 태그를 이용해서 문서나 데이터를 구조화하는 언어\n",
    "- HTML은 태그가 미리 정해져 있지만, XML은 자신이 태그를 정해서 사용 가능\n",
    "- XML의 규칙\n",
    "- 1. 태그는 <문자열>로 시작해서 </문자열>로 끝남(요소)\n",
    "- 2. 태그를 중첩해서 사용할 때는 시작하는 순서와 끝나는 순서가 서로 일치해야 함\n",
    "- 3. 태그의 속성은 <태그명 속성이름=＂속성값“>으로 표현함\n"
   ]
  },
  {
   "cell_type": "code",
   "execution_count": null,
   "id": "bfcb1855",
   "metadata": {},
   "outputs": [],
   "source": [
    "xml_data = \"\"\"<?xml version=\"1.0\" encoding=\"UTF-8\" ?>\n",
    "<사용자정보>\n",
    "    <이름>홍길동</이름>\n",
    "    <나이>25</나이>\n",
    "    <거주지>서울</거주지>\n",
    "    <신체정보>\n",
    "        <키 unit=\"cm\">175.4</키>\n",
    "        <몸무게 unit=\"kg\">71.2</몸무게>\n",
    "    </신체정보>\n",
    "    <취미>등산</취미>\n",
    "    <취미>자전거타기</취미>\n",
    "    <취미>독서</취미>\n",
    "</사용자정보> \n",
    "\"\"\"\n",
    "print(xml_data)"
   ]
  },
  {
   "cell_type": "markdown",
   "id": "ec5d97c5",
   "metadata": {},
   "source": [
    "* XML형식의 데이터에서 데이터 추출하기: 파이썬 딕셔너리로 전환"
   ]
  },
  {
   "cell_type": "code",
   "execution_count": null,
   "id": "34cec599",
   "metadata": {},
   "outputs": [],
   "source": [
    "import xmltodict"
   ]
  },
  {
   "cell_type": "code",
   "execution_count": null,
   "id": "844a9ee2",
   "metadata": {},
   "outputs": [],
   "source": [
    "import xmltodict\n",
    "import json\n",
    "\n",
    "dictionary = xmltodict.parse(\"\"\"<note>\n",
    "  <date>2021-03-07</date>\n",
    "  <time>15:23</time>\n",
    "  <to>Sara</to>\n",
    "  <from>Khan</from>\n",
    "  <msg>Let's meet this weekend!</msg>\n",
    "</note>\"\"\")\n",
    "json_object = json.dumps(dictionary) \n",
    "print(json_object)"
   ]
  },
  {
   "cell_type": "code",
   "execution_count": null,
   "id": "5cc46352",
   "metadata": {},
   "outputs": [],
   "source": []
  }
 ],
 "metadata": {
  "kernelspec": {
   "display_name": "Python 3 (ipykernel)",
   "language": "python",
   "name": "python3"
  },
  "language_info": {
   "codemirror_mode": {
    "name": "ipython",
    "version": 3
   },
   "file_extension": ".py",
   "mimetype": "text/x-python",
   "name": "python",
   "nbconvert_exporter": "python",
   "pygments_lexer": "ipython3",
   "version": "3.9.13"
  },
  "vscode": {
   "interpreter": {
    "hash": "c4b9ebf4ca459396e2ad1150752490c26670c1a037c08cad955a4425787bec2e"
   }
  }
 },
 "nbformat": 4,
 "nbformat_minor": 5
}
