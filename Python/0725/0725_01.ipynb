{
 "cells": [
  {
   "cell_type": "markdown",
   "metadata": {},
   "source": [
    "# 0725_Python"
   ]
  },
  {
   "cell_type": "markdown",
   "metadata": {},
   "source": [
    "## 1. 데이터 구조 (Data Structure)"
   ]
  },
  {
   "cell_type": "markdown",
   "metadata": {},
   "source": [
    "- 순서가 있는 데이터 구조\n",
    "    - 문자열(String)\n",
    "    - 리스트(List)\n",
    "    - 튜플(Tuple)\n",
    "- 순서가 없는 데이터 구조\n",
    "    - 셋(Set)\n",
    "    - 딕셔너리(Dictionary)\n",
    "- 얕은 복사와 깊은 복사"
   ]
  },
  {
   "cell_type": "markdown",
   "metadata": {},
   "source": [
    "### 데이터 구조 활용"
   ]
  },
  {
   "cell_type": "markdown",
   "metadata": {},
   "source": [
    "- 데이터 구조를 활용하기 위해서는 메서드(method)를 활용\n",
    "    - 메서드는 클래스 내부에 정의한 함수, 사실상 함수와 동일\n",
    "    - 객체의 기능(추후 객체 지향 프로그래밍에서 학습)<br>\n",
    "        `데이터 구조.메서드() 형태로 활용`\n",
    "    - ex. `List.append(), String.split()`"
   ]
  },
  {
   "cell_type": "markdown",
   "metadata": {},
   "source": [
    "### 순서가 있는 데이터 구조"
   ]
  },
  {
   "cell_type": "markdown",
   "metadata": {},
   "source": [
    "#### 문자열"
   ]
  },
  {
   "cell_type": "code",
   "execution_count": null,
   "metadata": {},
   "outputs": [],
   "source": [
    "word = 'ssafy'\n",
    "print(id(word)) # id 함수 : 메모리 주소 확인\n",
    "\n",
    "word = 'test'\n",
    "print(id(word))"
   ]
  },
  {
   "cell_type": "code",
   "execution_count": 3,
   "metadata": {},
   "outputs": [
    {
     "name": "stdout",
     "output_type": "stream",
     "text": [
      "1\n",
      "-1\n"
     ]
    },
    {
     "ename": "ValueError",
     "evalue": "substring not found",
     "output_type": "error",
     "traceback": [
      "\u001b[1;31m---------------------------------------------------------------------------\u001b[0m",
      "\u001b[1;31mValueError\u001b[0m                                Traceback (most recent call last)",
      "\u001b[1;32mc:\\Users\\wnsvy7203\\OneDrive\\바탕 화면\\TIL\\0725\\0725_01.ipynb 셀 8\u001b[0m in \u001b[0;36m<cell line: 6>\u001b[1;34m()\u001b[0m\n\u001b[0;32m      <a href='vscode-notebook-cell:/c%3A/Users/wnsvy7203/OneDrive/%EB%B0%94%ED%83%95%20%ED%99%94%EB%A9%B4/TIL/0725/0725_01.ipynb#ch0000009?line=3'>4</a>\u001b[0m \u001b[39mprint\u001b[39m(\u001b[39m'\u001b[39m\u001b[39mapple\u001b[39m\u001b[39m'\u001b[39m\u001b[39m.\u001b[39mfind(\u001b[39m'\u001b[39m\u001b[39mp\u001b[39m\u001b[39m'\u001b[39m)) \u001b[39m# 1\u001b[39;00m\n\u001b[0;32m      <a href='vscode-notebook-cell:/c%3A/Users/wnsvy7203/OneDrive/%EB%B0%94%ED%83%95%20%ED%99%94%EB%A9%B4/TIL/0725/0725_01.ipynb#ch0000009?line=4'>5</a>\u001b[0m \u001b[39mprint\u001b[39m(\u001b[39m'\u001b[39m\u001b[39mapple\u001b[39m\u001b[39m'\u001b[39m\u001b[39m.\u001b[39mfind(\u001b[39m'\u001b[39m\u001b[39mk\u001b[39m\u001b[39m'\u001b[39m)) \u001b[39m# -1\u001b[39;00m\n\u001b[1;32m----> <a href='vscode-notebook-cell:/c%3A/Users/wnsvy7203/OneDrive/%EB%B0%94%ED%83%95%20%ED%99%94%EB%A9%B4/TIL/0725/0725_01.ipynb#ch0000009?line=5'>6</a>\u001b[0m \u001b[39mprint\u001b[39m(\u001b[39m'\u001b[39;49m\u001b[39mapple\u001b[39;49m\u001b[39m'\u001b[39;49m\u001b[39m.\u001b[39;49mindex(\u001b[39m'\u001b[39;49m\u001b[39mk\u001b[39;49m\u001b[39m'\u001b[39;49m)) \u001b[39m# ValueError: substring not found\u001b[39;00m\n\u001b[0;32m      <a href='vscode-notebook-cell:/c%3A/Users/wnsvy7203/OneDrive/%EB%B0%94%ED%83%95%20%ED%99%94%EB%A9%B4/TIL/0725/0725_01.ipynb#ch0000009?line=7'>8</a>\u001b[0m \u001b[39m# (3) s.isalpha() : 유니코드 상 Letter 여부\u001b[39;00m\n\u001b[0;32m      <a href='vscode-notebook-cell:/c%3A/Users/wnsvy7203/OneDrive/%EB%B0%94%ED%83%95%20%ED%99%94%EB%A9%B4/TIL/0725/0725_01.ipynb#ch0000009?line=8'>9</a>\u001b[0m \u001b[39mprint\u001b[39m(\u001b[39m'\u001b[39m\u001b[39mabc\u001b[39m\u001b[39m'\u001b[39m\u001b[39m.\u001b[39misalphs()) \u001b[39m# True\u001b[39;00m\n",
      "\u001b[1;31mValueError\u001b[0m: substring not found"
     ]
    }
   ],
   "source": [
    "# 문자열 조회/탐색 및 검증 메서드\n",
    "# (1) s.find(x) : x의 첫 번째 위치 반환. 없으면 -1 반환(오류 발생하지 않는다.)\n",
    "# (2) s.index(x) : x의 첫 번째 위치 반환. 없으면 오류\n",
    "print('apple'.find('p')) # 1\n",
    "print('apple'.find('k')) # -1\n",
    "print('apple'.index('k')) # ValueError: substring not found\n",
    "\n",
    "# (3) s.isalpha() : 유니코드 상 Letter 여부\n",
    "print('abc'.isalphs()) # True\n",
    "print('ㄱㄴㄷ'.isalpha()) # True\n",
    "\n",
    "# (4) s.isuuper() : 대문자 여부\n",
    "# (5) s.islower() : 소문자 여부\n",
    "# (6) s.istitle() : 첫 글자 대문자 여부, 띄어쓰기 이후에도 첫 글자 대문자 필수\n",
    "print('Apple banana'.istitle()) # False"
   ]
  },
  {
   "cell_type": "code",
   "execution_count": null,
   "metadata": {},
   "outputs": [],
   "source": [
    "# 문자열 관련 검증 메서드\n",
    "\n",
    "# s.isdecimal() : 우리가 아는 숫자\n",
    "# s.isdigit() : 수\n",
    "# s.isnumeric() : 숫자같으면 다 True"
   ]
  },
  {
   "cell_type": "code",
   "execution_count": 8,
   "metadata": {},
   "outputs": [
    {
     "name": "stdout",
     "output_type": "stream",
     "text": [
      "caane\n",
      "w!!ooowoo\n",
      "와우!\n",
      "와우!\n",
      "\n",
      "    와우!\n",
      "안녕하세요\n",
      "['a', 'b', 'c']\n",
      "['a', 'b', 'c']\n",
      "서울시\n",
      "s!s!a!f!y\n",
      "3 5\n",
      "Hi! everyone, i'm ssafy\n",
      "Hi! Everyone, I'M Ssafy\n",
      "HI! EVERYONE, I'M SSAFY\n",
      "hi! everyone, i'm ssafy\n",
      "Hi! eVERYONE, i'M SSAFY\n"
     ]
    }
   ],
   "source": [
    "# 문자열 변경 메서드\n",
    "\n",
    "# (1) s.replace(x, y, count) : x를 y로 처음부터 count회 만큼 변환\n",
    "print('coone'.replace('o', 'a')) # caane\n",
    "print('wooooowoo'.replace('o', '!', 2)) # w!!ooowoo\n",
    "\n",
    "\n",
    "# (2) s.strip([chars]) : 공백이나 특정 문자 제거\n",
    "print('    와우!\\n'.strip()) # '와우!'\n",
    "print('    와우!\\n'.lstrip()) # '와우!' \n",
    "print('    와우!\\n'.rstrip()) # '    와우!'\n",
    "print('안녕하세요????'.rstrip('?')) # '안녕하세요'\n",
    "\n",
    "# (3) s.split(sep = None, maxsplit = -1)\n",
    "print('a,b,c'.split(',')) # ['a', 'b', 'c']\n",
    "print('a b c'.split()) # ['a', 'b', 'c']\n",
    "print('서울시 강남구 OO동'.split()[0]) # '서울시'\n",
    "\n",
    "# (4) 'separator'.join([iterable]) : 구분자로 iterable을 합침\n",
    "print('!'.join('ssafy')) # 's!s!a!f!y'\n",
    "print(' '.join(['3', '5'])) # '3 5'\n",
    "\n",
    "# (5) s.capitalize() : 가장 첫 번째 글자를 대문자로 변경\n",
    "# (6) s.title() : 문자열 내 띄어쓰기 기준으로 각 단어의 첫글자는 대문자로, 나머지는 소문자로 변환\n",
    "# (7) s.upper() : 모두 대문자로 변경\n",
    "# (8) s.lower() : 모두 소문자로 변경\n",
    "# (9) s.swapcase() : 대 소문자 서로 변경\n",
    "msg = 'hI! Everyone, I\\'m ssafy'\n",
    "print(msg.capitalize()) # hI! Everyone, I'm ssafy\n",
    "print(msg.title()) # Hi! everyone, i'm ssafy\n",
    "print(msg.upper()) # HI! EVERYONE, I'M SSAFY\n",
    "print(msg.lower()) # hi! everyone, i'm ssafy\n",
    "print(msg.swapcase()) # Hi! eVERYONE, i'M SSAFY"
   ]
  },
  {
   "cell_type": "markdown",
   "metadata": {},
   "source": [
    "#### 리스트"
   ]
  },
  {
   "cell_type": "code",
   "execution_count": 10,
   "metadata": {},
   "outputs": [
    {
     "name": "stdout",
     "output_type": "stream",
     "text": [
      "['starbucks', 'tomntoms', 'hollys', 'banapresso']\n",
      "['starbucks', 'tomntoms', 'start', 'hollys', 'banapresso']\n",
      "['starbucks', 'tomntoms', 'start', 'hollys', 'banapresso', 'end']\n"
     ]
    }
   ],
   "source": [
    "# 리스트 메서드\n",
    "cafe =['starbucks', 'tomntoms', 'hollys']\n",
    "\n",
    "# (1) L.append(x) : 리스트 마지막에 항목 x 추가\n",
    "cafe.append('banapresso')\n",
    "print(cafe) # ['starbucks', 'tomntoms', 'hollys', 'banapresso']\n",
    "\n",
    "# (2) L.insert(i, x) : 리스트 인덱스 i에 항목 x 삽입\n",
    "cafe.insert(2, 'start')\n",
    "print(cafe) # ['starbucks', 'tomntoms', 'start', 'hollys', 'banapresso']\n",
    "cafe.insert(100000, 'end')\n",
    "print(cafe) # ['starbucks', 'tomntoms', 'start', 'hollys', 'banapresso', 'end']"
   ]
  },
  {
   "cell_type": "code",
   "execution_count": 14,
   "metadata": {},
   "outputs": [
    {
     "name": "stdout",
     "output_type": "stream",
     "text": [
      "[1, 2, 3]\n",
      "3\n",
      "[1, 2]\n",
      "[]\n"
     ]
    }
   ],
   "source": [
    "numbers = [1, 2, 3, 'hi']\n",
    "\n",
    "# (3) L.remove(x) : 리스트 가장 왼쪽에 있는 항목(첫 번째) x를 제거 / 항목이 없을 경우 ValueError\n",
    "# numbers.remove('hii') -> ValueError: list.remove(x): x not in list\n",
    "numbers.remove('hi') # [1, 2, 3]\n",
    "print(numbers)\n",
    "\n",
    "# (4) L.pop(i) : 리스트의 인덱스 i에 있는 항목을 반환 후 제거. i 없을 시, 맨 마지막 인덱스 제거\n",
    "word = numbers.pop()\n",
    "print(word) # 3 반환 후 제거\n",
    "print(numbers) # [1, 2]\n",
    "\n",
    "# (5) L.clear() = 빈 리스트 반환\n",
    "numbers.clear()\n",
    "print(numbers) # []"
   ]
  },
  {
   "cell_type": "code",
   "execution_count": 24,
   "metadata": {},
   "outputs": [
    {
     "name": "stdout",
     "output_type": "stream",
     "text": [
      "4\n",
      "0\n",
      "[2, 3, 5, 7] None\n",
      "[4, 3, 8, 6] [3, 4, 6, 8]\n",
      "[2, 2, 1, 1, 1, 3, 2, 1] None\n"
     ]
    }
   ],
   "source": [
    "# (6) L.index(x, start, end) : 리스트에 있는 항목 중 가장 왼쪽에 있는 항목 x의 인덱스를 반환\n",
    "# (7) L.count(x) : 리스트에서 항목 x가 몇 개 존재하는지 개수를 반환\n",
    "numbers = [1, 2, 3, 1, 1, 1, 2, 2]\n",
    "print(numbers.count(1)) # 4\n",
    "print(numbers.count(100)) # 0\n",
    "\n",
    "# (8) L.sort() : 원본 리스트를 정렬 (매개변수 이용가능) sorted와 구분할 것\n",
    "numbers1 = [3, 2, 5, 7]\n",
    "result1 = numbers1.sort()\n",
    "print(numbers1, result1) # [2, 3, 5, 7] None(result 자체는 아무 값도 없다.)\n",
    "\n",
    "numbers2 = [4, 3, 8, 6]\n",
    "result2 = sorted(numbers2)\n",
    "print(numbers2, result2) # [4, 3, 8, 6] [3, 4, 6, 8]\n",
    "\n",
    "# (9) L.extend(m) : 순회형 m의 모든 항목들의 리스트 끝에 추가 (+=와 같은 기능)\n",
    "\n",
    "# (10) L.reverse() : 리스트를 거꾸로 정렬\n",
    "result3 = numbers.reverse() # reverse 자체는 아무 값도 없다.\n",
    "print(numbers, result3) # [2, 2, 1, 1, 1, 3, 2, 1] None"
   ]
  },
  {
   "cell_type": "markdown",
   "metadata": {},
   "source": [
    "#### 튜플"
   ]
  },
  {
   "cell_type": "code",
   "execution_count": 26,
   "metadata": {},
   "outputs": [
    {
     "name": "stdout",
     "output_type": "stream",
     "text": [
      "<class 'tuple'>\n",
      "2282032835536\n",
      "수\n",
      "('월', '화', '수', '목', '금', '월', '화', '수', '목', '금')\n",
      "('월', '화', '수', '목', '금', False, True)\n",
      "2282032778208\n"
     ]
    }
   ],
   "source": [
    "# 튜플은 변경할 수 없기 때문에 값에 영향을 미치지 않는 메서드만을 지원\n",
    "# 리스트 메서드 중 항목을 변경하는 메서드들을 제외하고 대부분 동일\n",
    "\n",
    "day_name =  ('월', '화', '수', '목', '금')\n",
    "print(type(day_name)) # <class 'tuple'>\n",
    "print(id(day_name))\n",
    "\n",
    "print(day_name[-3]) # 수\n",
    "print(day_name * 2) # ('월', '화', '수', '목', '금', '월', '화', '수', '목', '금')\n",
    "day_name += False, True\n",
    "\n",
    "print(day_name) # ('월', '화', '수', '목', '금', False, True)\n",
    "print(id(day_name)) # 앞의 id와는 다른 값을 가짐 : 값이 더해진 튜플은 이전과 다른 새로운 튜플이라는 뜻"
   ]
  },
  {
   "cell_type": "markdown",
   "metadata": {},
   "source": [
    "#### 연산자"
   ]
  },
  {
   "cell_type": "code",
   "execution_count": null,
   "metadata": {},
   "outputs": [],
   "source": [
    "# 포함 여부 확인\n",
    "# in / not in\n",
    "print('a' in 'apple') # True\n",
    "\n",
    "# 시퀀스형 연산자\n",
    "    # 산술 연산자 (+) : 시퀀스 간 concatenation(연결/연쇄)\n",
    "    # 반복 연산자 (*) : 시퀀스 반복"
   ]
  },
  {
   "cell_type": "markdown",
   "metadata": {},
   "source": [
    "### 순서가 없는 데이터 구조"
   ]
  },
  {
   "cell_type": "markdown",
   "metadata": {},
   "source": [
    "#### 셋(Set)"
   ]
  },
  {
   "cell_type": "markdown",
   "metadata": {},
   "source": [
    "- Set 은 중복되는 요소가 없이, 순서에 상관없는 데이터들의 묶음이다.\n",
    "    - 중복을 허용하지 않으므로, 중복되는 원소가 있다면 하나만 저장\n",
    "    - 순서가 없으므로, 인덱스를 이용한 접근 불가능\n",
    "- 집합(수학)을 표현한 컨테이너\n",
    "    - 집합 연산 가능\n",
    "- 담고 있는 요소를 삽입, 변경, 삭제 가능"
   ]
  },
  {
   "cell_type": "code",
   "execution_count": 29,
   "metadata": {},
   "outputs": [
    {
     "name": "stdout",
     "output_type": "stream",
     "text": [
      "<class 'set'>\n",
      "{'사과', '수박', '바나나'}\n",
      "{'사과', '딸기', '수박', '바나나'}\n",
      "{'바나나', '사과', '수박', '딸기', '참외'}\n",
      "{'바나나', '사과', '수박', '참외'}\n",
      "{'사과', '수박', '참외'}\n"
     ]
    }
   ],
   "source": [
    "# 셋 메서드\n",
    "# (1) s.copy() : 셋의 얕은 복사본 반환\n",
    "# (2) s.add(x)\n",
    "a = {'사과', '바나나', '수박'}\n",
    "print(type(a))\n",
    "print(a)\n",
    "a.add('딸기')\n",
    "print(a) # set에는 순서가 없으므로, 여러 번 프린트 할 때마다 위치가 달라짐\n",
    "\n",
    "# (3) s.update(t) 셋 t에 있는 항목 중 셋 s에 없는 항목 추가\n",
    "a.update(['딸기', '바나나', '참외'])\n",
    "print(a)\n",
    "\n",
    "# (4) s.remove(x) : 항목 x를 셋 s에서 삭제 / 항목 없을 경우, KeyError\n",
    "a.remove('딸기')\n",
    "print(a)\n",
    "\n",
    "# (5) s.discard(x) : 셋 s에 항목 x가 있는 경우, 항목 x를 셋 s에서 삭제\n",
    "a.discard('바나나') # Ctrl + D 하면 문서 내 모든 항목 pick, 오류 없음\n",
    "print(a)\n",
    "\n",
    "# (6) s.pop() : 임의의 원소 제거 후 반환, 뭐가 날아갈 지 모름.\n",
    "# (7) s.clear() : 모든 항목 제거"
   ]
  },
  {
   "cell_type": "code",
   "execution_count": null,
   "metadata": {},
   "outputs": [],
   "source": [
    "# 집합 관련 함수\n",
    "# (8) s.isdisjoint(t)  True\n",
    "# (9) s.issubset(t) 셋 s가 셋 t의 하위 셋인 경우 True\n",
    "# (10) s.issuperset(t) 셋 s가 셋 t의 상위 셋인 경우 True\n",
    "\n",
    "a = {'사과', '바나나', '수박'}\n",
    "b = {'포도', '망고'}\n",
    "c = {'사과', '포도', '망고', '수박', '바나나'}\n",
    "\n",
    "print(a.isdisjoint(b)) # True -> a와 b는 서로소인가\n",
    "print(b.issubset(c)) # True -> b가 c의 하위셋인가\n",
    "print(a.issuperset(c)) # False -> a가 c의 상위셋인가"
   ]
  },
  {
   "cell_type": "markdown",
   "metadata": {},
   "source": [
    "#### 딕셔너리"
   ]
  },
  {
   "cell_type": "code",
   "execution_count": 33,
   "metadata": {},
   "outputs": [
    {
     "name": "stdout",
     "output_type": "stream",
     "text": [
      "사과 {'banana': '바나나'}\n",
      "0\n",
      "{'apple': '사과', 'banana': '바나나'}\n"
     ]
    }
   ],
   "source": [
    "# (1) d.get(key[,default]) : key를 통해 value를 소환,\n",
    "# KeyError가 발생하지 않으며, default 값 설정 가능(기본: None)\n",
    "# (2) d.pop(key[,default]) : key가 딕셔너리에 있으면 제거하고 해당 값 반환\n",
    "# 없으면 default 반환, dafault 지정되어 있지 않으면 KeyError\n",
    "my_dict = {'apple': '사과', 'banana': '바나나'}\n",
    "data = my_dict.pop('apple')\n",
    "\n",
    "print(data, my_dict) #'사과' {'banana': '바나나'}\n",
    "data = my_dict.pop('apple', 0)\n",
    "print(data) # 0\n",
    "\n",
    "# (3) d.update() : 제공하는 key, value로 덮어쓰기\n",
    "my_dict2 = {'apple': '사', 'banana': '바나나'}\n",
    "my_dict2.update(apple = '사과') # Key는 변경 불가\n",
    "print(my_dict2)\n",
    "\n",
    "# (4) d.keys() : key 안 써도 key 소환\n",
    "# (5) d.values() : value만 소환\n",
    "# (6) d.items() : key, value 모두 소환"
   ]
  },
  {
   "cell_type": "markdown",
   "metadata": {},
   "source": [
    "### 얕은 복사와 깊은 복사(Shallow Copy & Deep Copy)"
   ]
  },
  {
   "cell_type": "markdown",
   "metadata": {},
   "source": [
    "#### 할당(assignment)"
   ]
  },
  {
   "cell_type": "markdown",
   "metadata": {},
   "source": [
    "- 대입 연산자 (=)\n",
    "    - 리스트 복사 확인하기"
   ]
  },
  {
   "cell_type": "code",
   "execution_count": 34,
   "metadata": {},
   "outputs": [
    {
     "name": "stdout",
     "output_type": "stream",
     "text": [
      "[1, 2, 3] [1, 2, 3]\n",
      "['hello', 2, 3] ['hello', 2, 3]\n"
     ]
    }
   ],
   "source": [
    "original_list = [1, 2, 3]\n",
    "copy_list = original_list\n",
    "print(original_list, copy_list) # [1, 2, 3] [1, 2, 3]\n",
    "\n",
    "copy_list[0] = 'hello' # 대입 연산자를 통한 복사는 해당 객체 참조까지 복사\n",
    "print(original_list, copy_list) # ['hello', 2, 3] ['hello', 2, 3]\n"
   ]
  },
  {
   "cell_type": "markdown",
   "metadata": {},
   "source": [
    "#### 얕은 복사"
   ]
  },
  {
   "cell_type": "code",
   "execution_count": 39,
   "metadata": {},
   "outputs": [
    {
     "name": "stdout",
     "output_type": "stream",
     "text": [
      "[1, 2, 3] [1, 2, 3]\n",
      "[1, 2, 3] [5, 2, 3]\n",
      "[1, 2, ['a', 'b']] [1, 2, ['a', 'b']]\n",
      "[1, 2, [0, 'b']] [1, 2, [0, 'b']]\n"
     ]
    }
   ],
   "source": [
    "a = [1, 2, 3]\n",
    "b = a[:] # slice(:) 연산자를 활용하여 값만 받아오고 새로운 공간 할당\n",
    "print(a, b) # [1, 2, 3] [1, 2, 3]\n",
    "\n",
    "b[0] = 5\n",
    "print(a, b)\n",
    "\n",
    "# 2차원 리스트는 새로운 공간이 할당되지 않음.\n",
    "c = [1, 2, ['a', 'b']]\n",
    "d = c[:]\n",
    "print(c, d) # [1, 2, ['a', 'b']] [1, 2, ['a', 'b']]\n",
    "\n",
    "d[2][0] = 0\n",
    "print(c, d) # [1, 2, [0, 'b']] [1, 2, [0, 'b']]"
   ]
  },
  {
   "cell_type": "markdown",
   "metadata": {},
   "source": [
    "#### 깊은 복사"
   ]
  },
  {
   "cell_type": "code",
   "execution_count": 40,
   "metadata": {},
   "outputs": [
    {
     "name": "stdout",
     "output_type": "stream",
     "text": [
      "[1, 2, ['a', 'b']] [1, 2, ['a', 'b']]\n",
      "[1, 2, ['a', 'b']] [1, 2, [0, 'b']]\n"
     ]
    }
   ],
   "source": [
    "import copy\n",
    "a = [1, 2, ['a', 'b']]\n",
    "b = copy.deepcopy(a)\n",
    "print(a, b)\n",
    "\n",
    "b[2][0] = 0\n",
    "print(a, b)"
   ]
  },
  {
   "cell_type": "code",
   "execution_count": 41,
   "metadata": {},
   "outputs": [
    {
     "name": "stdout",
     "output_type": "stream",
     "text": [
      "[[1, 2, 3], [4, 5, 6], [7, 8, 9]] [[1, 2, 3], [4, 5, 6], [7, 8, 9]]\n",
      "[[1, 2, 3], [4, 5, 6], [7, 8, 9]] [[1, 2, 'hello'], [4, 5, 6], [7, 8, 9]]\n"
     ]
    }
   ],
   "source": [
    "import copy\n",
    "a = [[1, 2, 3], [4, 5, 6], [7, 8, 9]]\n",
    "b = copy.deepcopy(a)\n",
    "print(a, b)\n",
    "\n",
    "b[0][2] = 'hello'\n",
    "print(a, b)"
   ]
  }
 ],
 "metadata": {
  "kernelspec": {
   "display_name": "Python 3.9.13 64-bit",
   "language": "python",
   "name": "python3"
  },
  "language_info": {
   "codemirror_mode": {
    "name": "ipython",
    "version": 3
   },
   "file_extension": ".py",
   "mimetype": "text/x-python",
   "name": "python",
   "nbconvert_exporter": "python",
   "pygments_lexer": "ipython3",
   "version": "3.9.13"
  },
  "orig_nbformat": 4,
  "vscode": {
   "interpreter": {
    "hash": "c4b9ebf4ca459396e2ad1150752490c26670c1a037c08cad955a4425787bec2e"
   }
  }
 },
 "nbformat": 4,
 "nbformat_minor": 2
}
