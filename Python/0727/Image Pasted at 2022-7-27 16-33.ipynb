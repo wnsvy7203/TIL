{
 "cells": [
  {
   "cell_type": "markdown",
   "id": "39aab8f0",
   "metadata": {},
   "source": [
    "# 클래스 - Team Sky 축구 게임"
   ]
  },
  {
   "cell_type": "markdown",
   "id": "2d6269cf",
   "metadata": {},
   "source": [
    "* 축구단 Team Sky를 구성할 각각의 선수를 프로그래밍하기"
   ]
  },
  {
   "attachments": {},
   "cell_type": "markdown",
   "id": "0da76629",
   "metadata": {},
   "source": [
    "![Image1.png](0727\\Image1.png)"
   ]
  },
  {
   "cell_type": "markdown",
   "id": "652cb353",
   "metadata": {},
   "source": [
    "* 클래스 선언"
   ]
  },
  {
   "cell_type": "code",
   "execution_count": null,
   "id": "dafb3de0",
   "metadata": {},
   "outputs": [],
   "source": [
    "class player:\n",
    "    pass"
   ]
  },
  {
   "cell_type": "code",
   "execution_count": null,
   "id": "fa35efc6",
   "metadata": {},
   "outputs": [],
   "source": [
    "player1 = player()"
   ]
  },
  {
   "cell_type": "code",
   "execution_count": null,
   "id": "92c25068",
   "metadata": {},
   "outputs": [],
   "source": [
    "player1"
   ]
  },
  {
   "cell_type": "markdown",
   "id": "6466d7d3",
   "metadata": {},
   "source": [
    "* team sky 선수가 가져야 하는 속성과 기능\n",
    "\n",
    "- 1. 모든 선수가 가져야 하는 속성: 팀이름, 이름, 등번호\n",
    "- 2. 모든 선수가 가져야 하는 기능: 드리블, 패스 기능\n",
    "- 3. 각각의 선수가 가져야 하는 기능: 역할별 기능( 공격하기, 공 배분하기, 수비하기, 슛 막기....)\n"
   ]
  },
  {
   "cell_type": "code",
   "execution_count": 16,
   "id": "a01cc4ba",
   "metadata": {},
   "outputs": [
    {
     "name": "stdout",
     "output_type": "stream",
     "text": [
      "김도원\n",
      "17\n",
      "골키퍼\n",
      "17번 선수가 드리블합니다\n",
      "이상찬\n",
      "7\n",
      "미드필더\n",
      "7번 이상찬선수가 공을 패스합니다.\n",
      "team sky\n",
      "team sky\n",
      "team sky팀 3번 양은진선수가 슛을 쏩니다.\n",
      "team sky팀 22번 박준표선수가 살인태클을 시전했습니다.\n"
     ]
    }
   ],
   "source": [
    "# 클래스 재선언\n",
    "\n",
    "class player:\n",
    "    team_name = 'team sky'\n",
    "\n",
    "    def __init__(self, name, number, role):\n",
    "        self.name = name\n",
    "        self.number = number\n",
    "        self.role = role\n",
    "\n",
    "    def dribble(self):\n",
    "        return f'{self.number}번 선수가 드리블합니다'\n",
    "\n",
    "    def pass_ball(self):\n",
    "        return f'{self.number}번 {self.name}선수가 공을 패스합니다.'\n",
    "\n",
    "player1 = player('김도원', 17, '골키퍼')\n",
    "print(player1.name)\n",
    "print(player1.number)\n",
    "print(player1.role)\n",
    "\n",
    "print(player1.dribble())\n",
    "\n",
    "player2 = player('이상찬', 7, '미드필더')\n",
    "print(player2.name)\n",
    "print(player2.number)\n",
    "print(player2.role)\n",
    "\n",
    "print(player2.pass_ball())\n",
    "\n",
    "print(player1.team_name)\n",
    "print(player2.team_name)\n",
    "\n",
    "# 클래스의 상속\n",
    "# 선수 중 공격수 객체와 수비수 객체를 분리한다.\n",
    "# 공격수와 수비수는 모두 team_sky의 선수이지만, 각각의 역할에 따라 고유의 기능이 있다.\n",
    "\n",
    "class forward_player(player):\n",
    "    def make_shoot(self):\n",
    "        return f'{player.team_name}팀 {self.number}번 {self.name}선수가 슛을 쏩니다.'\n",
    "\n",
    "player3 = forward_player('양은진', 3, '스트라이커')\n",
    "print(player3.make_shoot())\n",
    "\n",
    "class defender(player):\n",
    "    def tackle_ball(self):\n",
    "        return '{}팀 {}번 {}선수가 살인태클을 시전했습니다.'.format(player.team_name, self.number, self.name)\n",
    "\n",
    "player4 = defender('박준표', 22, '센터백')\n",
    "\n",
    "print(player4.tackle_ball())\n",
    "\n",
    "class goalkeeper_player(defender):\n",
    "    def tackle_ball(self):\n",
    "        return f'{player.team_name}팀 {self.number}번 {self.name}선수가 공을 잡았습니다.'"
   ]
  },
  {
   "cell_type": "code",
   "execution_count": null,
   "id": "6754191e",
   "metadata": {},
   "outputs": [],
   "source": []
  }
 ],
 "metadata": {
  "kernelspec": {
   "display_name": "Python 3.9.13 64-bit",
   "language": "python",
   "name": "python3"
  },
  "language_info": {
   "codemirror_mode": {
    "name": "ipython",
    "version": 3
   },
   "file_extension": ".py",
   "mimetype": "text/x-python",
   "name": "python",
   "nbconvert_exporter": "python",
   "pygments_lexer": "ipython3",
   "version": "3.9.13"
  },
  "vscode": {
   "interpreter": {
    "hash": "d0f63c8ac4ae55f0599ce1f2b79c462941338767091400e19b50672fdac5e4d3"
   }
  }
 },
 "nbformat": 4,
 "nbformat_minor": 5
}
