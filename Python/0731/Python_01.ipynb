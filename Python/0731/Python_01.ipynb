{
 "cells": [
  {
   "cell_type": "markdown",
   "metadata": {},
   "source": [
    "# Python_Rearrange_01"
   ]
  },
  {
   "cell_type": "markdown",
   "metadata": {},
   "source": [
    "## 기초 문법(Syntax)\n",
    "코드 블록을 구분할 때, <들여쓰기(identation)> 사용"
   ]
  },
  {
   "cell_type": "markdown",
   "metadata": {},
   "source": [
    "### 변수\n",
    "컴퓨터 메모리 어딘가에 저장되어 있는 객체를 참조하기 위해 사용되는 이름\n",
    "- 객체 : 값을 가지고 있는 모든 것\n",
    "- 동일 변수에 다른 객체 할당 가능, 참조하는 객체가 바뀔 수 있어서 '변수'"
   ]
  },
  {
   "cell_type": "code",
   "execution_count": 1,
   "metadata": {},
   "outputs": [
    {
     "name": "stdout",
     "output_type": "stream",
     "text": [
      "<class 'bool'>\n",
      "140725084907624\n"
     ]
    }
   ],
   "source": [
    "# 변수는 =을 통해 할당\n",
    "# 데이터 타입을 확인하기 위해서는 type() 활용\n",
    "# 해당 값의 메모리 주소를 확인하기 위해서는 id() 활용\n",
    "x = True\n",
    "\n",
    "print(type(x))\n",
    "print(id(x))"
   ]
  },
  {
   "cell_type": "markdown",
   "metadata": {},
   "source": [
    "### 식별자(Identifiers)\n",
    "파이썬에서 식별자는 변수, 함수, 모듈, 클래스 등을 식별하는데 사용되는 이름(name)\n",
    "- 식별자의 이름은 영문 알파벳(대문자와 소문자), 언더스코어(_), 숫자로 구성\n",
    "- 첫 글자에 숫자 x\n",
    "- 길이에 제한이 없다.\n",
    "- 대/소문자 구분\n",
    "- 예약어 사용 불가"
   ]
  },
  {
   "cell_type": "markdown",
   "metadata": {},
   "source": [
    "### 수치형(Numeric Type)\n",
    "\n",
    "**int(정수, Integer)**<br>\n",
    "파이썬에서 가장 큰 숫자를 활용하기 위해서는 sys 모듈 필요\n",
    "파이썬은 정수형 자료에서 오버플로우가 없다.(임의 정밀도 산술을 사용하기 때문)\n",
    "\n",
    "> **오버플로우**\n",
    "- 데이터 타입 별로 사용할 수 있는 메모리의 크기가 제한되어 있는데, 표현할 수 있는 수의 범위를 넘어가는 연산을 하게 되면, 기대했던 값이 출력되지 않는 현상을 의미(메모리를 넘어섰다는 의미)\n",
    "\n",
    "> **임의 정밀도 산술**\n",
    "- 사용할 수 있는 메모리 양이 정해져 있는 기존의 방식과 달리, 현재 남아있는 만큼의 가용 메모리를 모두 수 표현에 끌어쓸 수 있는 형태\n",
    "- 특정 값을 나타내는데 4byte로 부족하다면, 5byte, 또 부족하면 6byte까지 사용할 수 있게 유동적으로 운용\n",
    "\n",
    "**float(부동소수점, 실수)**<br>\n",
    "실수를 컴퓨터가 표현하는 과정에서 부동소수점을 사용하며, 항상 같은 값으로 일치되지는 않는다.\n",
    "컴퓨터가 2진수(비트)를 통해 숫자를 표현하는 과정에서 생기는 오류이며, 대부분의 경우에 중요하지 않으나 값이 같은지 비교하는 과정에서 문제가 발생할 수 있다. \n",
    "\n",
    "> **컴퓨터식 지수 표현 방식**\n",
    "- e를 사용할 수 있다(e와 E 모두 사용 가능).\n",
    "- 314 * 0.01 : 과학적 표기법(scientific notation)\n"
   ]
  },
  {
   "cell_type": "markdown",
   "metadata": {},
   "source": [
    "### 문자열\n",
    "**삼중 따옴표**<br>\n",
    "- `PEP-8`에 따르면 여러 줄에 걸쳐 있는 문장을 표현하는 경우에는 반드시 큰 따옴표 3개를 사용하도록 규정하고 있다.\n",
    "\n",
    "**이스케이스 시퀀스(Escape Sequence)**\n",
    "- 문자열을 활용하는 경우 특수문자 혹은 조작을 하기 위하여 사용되는 것으로 역슬래시 `\\`를 활용하여 구분한다.\n",
    "    - `\\r` : 캐리지 리턴\n",
    "    - `\\0` : 널(Null)"
   ]
  },
  {
   "cell_type": "markdown",
   "metadata": {},
   "source": [
    "### None Type\n",
    "값이 없음을 표현하기 위해 NoneType이 존재한다."
   ]
  },
  {
   "cell_type": "code",
   "execution_count": 2,
   "metadata": {},
   "outputs": [
    {
     "name": "stdout",
     "output_type": "stream",
     "text": [
      "<class 'NoneType'>\n"
     ]
    }
   ],
   "source": [
    "print(type(None))"
   ]
  },
  {
   "cell_type": "markdown",
   "metadata": {},
   "source": [
    "## 컨테이너(Container)"
   ]
  },
  {
   "cell_type": "markdown",
   "metadata": {},
   "source": [
    "### 컨테이너 분류\n",
    "\n",
    "**시퀀스형**<br>\n",
    "- 순서가 있는 데이터\n",
    "    - 리스트, 튜플, 레인지\n",
    "\n",
    "**비시퀀스형**<br>\n",
    "- 순서가 없는 데이터\n",
    "    - 세트, 딕셔너리\n",
    "\n",
    "**불변형 자료**<br>\n",
    "- immutable\n",
    "    - 튜플, 레인지\n",
    "\n",
    "**가변형 자료**<br>\n",
    "- mutable\n",
    "    - 리스트, 세트, 딕셔너리"
   ]
  },
  {
   "cell_type": "markdown",
   "metadata": {},
   "source": [
    "1. 튜플\n",
    "    - 주의 사항\n",
    "        - 단일 항목의 경우, 생성 시 값 뒤에 쉼표를 붙여야 한다.<br>\n",
    "        `a = 1,`\n",
    "    - 대입\n",
    "        - 우변의 값을 좌변의 변수에 한 번에 할당하는 과정을 의미\n",
    "        - 함수에서 복수의 값을 반환하는 경우에도 튜플로 반환\n",
    "        - 빈 tuple은 빈 괄호 쌍으로 만들어진다.<br>: `empty = ()`"
   ]
  },
  {
   "cell_type": "markdown",
   "metadata": {},
   "source": [
    "2. 딕셔너리\n",
    "    - key는 immutable한 데이터만 가능\n",
    "        - string, integer, float, boolean, tupe, range 등\n",
    "        - value는 list, dictioary를 포함한 모든 것이 가능하다.\n",
    "        - 중복된 key도 불가능\n",
    "        - .keys, .values, .items 메소드를 통해 각각 key, value, key/value 확인 가능"
   ]
  },
  {
   "cell_type": "markdown",
   "metadata": {},
   "source": [
    "## 형 변환\n",
    "\n",
    "**암시적 형변환**<br>\n",
    "- bool + Numeric Type\n",
    "- Numeric Type 끼리의 연산"
   ]
  },
  {
   "cell_type": "code",
   "execution_count": 5,
   "metadata": {},
   "outputs": [
    {
     "name": "stdout",
     "output_type": "stream",
     "text": [
      "4.5\n",
      "<class 'float'>\n"
     ]
    }
   ],
   "source": [
    "# 위와 같은 상황에서'만' 가능하다.\n",
    "print(True + 3.5)\n",
    "print(type(3.5 + 2))"
   ]
  },
  {
   "cell_type": "markdown",
   "metadata": {},
   "source": [
    "**명시적 형변환**<br>\n",
    "- string -> integer: 형식에 맞는 숫자만 가능\n",
    "- integer -> string 모두 가능\n",
    "\n",
    "<img width=\"708\" alt=\"typecasting\" src=\"https://user-images.githubusercontent.com/18046097/61180466-a6a67780-a651-11e9-8c0a-adb9e1ee04de.png\">"
   ]
  },
  {
   "cell_type": "markdown",
   "metadata": {},
   "source": [
    "## 식별 연산자\n",
    "- -5에서 256까지의 id는 같다.\n",
    "- 257 이후의 id는 다르다.\n"
   ]
  },
  {
   "cell_type": "markdown",
   "metadata": {},
   "source": [
    "## 프로그램 구성 단위\n",
    "- 리터럴(literal): 읽혀지는대로 쓰여 있는 값 그 자체를 의미"
   ]
  },
  {
   "cell_type": "code",
   "execution_count": 6,
   "metadata": {},
   "outputs": [],
   "source": [
    "name = '김싸피'\n",
    "# name은 식별자(변수)\n",
    "# '김싸피'는 리터럴"
   ]
  },
  {
   "cell_type": "code",
   "execution_count": 8,
   "metadata": {},
   "outputs": [
    {
     "data": {
      "text/plain": [
       "'ssafy'"
      ]
     },
     "execution_count": 8,
     "metadata": {},
     "output_type": "execute_result"
    }
   ],
   "source": [
    "'ssafy'"
   ]
  },
  {
   "cell_type": "markdown",
   "metadata": {},
   "source": [
    "## 조건문\n",
    "\n",
    "**조건 표현식(Conditional Expression)**\n",
    "- 일반적으로 조건에 따라 값을 정할 때 활용\n",
    "- `true_value if <조건식> else false_value`"
   ]
  },
  {
   "cell_type": "markdown",
   "metadata": {},
   "source": [
    "## 반복문\n",
    "\n",
    "### while 문\n",
    "- 조건식이 True인 경우 반복적으로 코드 실행\n",
    "\n",
    "### for 문\n",
    "- 시퀀스(string, tupe, list, range)를 포함한 순회 가능한 객체(iterable)의 요소들을 순회\n",
    "\n",
    "**dictionary 순회**\n",
    "- 단순순회 하면 key를 활용하여 순회한다.\n",
    "- `.keys()`를 활용하면 key를 순회\n",
    "- `.values()`를 활용하면 key는 출력할 수 없고, value만 순회한다.\n",
    "- `.itmes()`를 활용하면 두 변수 모두 활용할 수 있다.\n",
    "- `enumerate()`: 인덱스(index)와 값(value)을 함께 활용 가능\n",
    "```python\n",
    "members = ['민수', '영희', '철수']\n",
    "\n",
    "for idx, member in enumerate(members, 1):\n",
    "    print(idx, member)\n",
    "# 1 민수\n",
    "# 2 영희\n",
    "# 3 철수\n",
    "```"
   ]
  },
  {
   "cell_type": "markdown",
   "metadata": {},
   "source": [
    "### List Comprehension\n",
    "- 표현식과 제어문을 통해 리스트 생성\n",
    "- 여러 줄의 코드를 한 줄로 줄일 수 있다.\n",
    "\n",
    "```python\n",
    "[expression for 변수 in iterable]\n",
    "\n",
    "list(expression for 변수 in iterable)\n",
    "```\n",
    "\n",
    "### Dictionary Comprehension\n",
    "```python\n",
    "dict({키: 값 for 요소 in iterable})\n",
    "```\n",
    "\n",
    "### 반복제어\n",
    "- break: 반복문 종료\n",
    "- continue: continue 이후의 코드를 수행하지 않고, 그 다음부터 계속하여 반복 수행\n",
    "- pass: 아무것도 하지 않는다.\n",
    "- else: 끝까지 반복문을 실행한 이후에 실행"
   ]
  }
 ],
 "metadata": {
  "kernelspec": {
   "display_name": "Python 3 (ipykernel)",
   "language": "python",
   "name": "python3"
  },
  "language_info": {
   "codemirror_mode": {
    "name": "ipython",
    "version": 3
   },
   "file_extension": ".py",
   "mimetype": "text/x-python",
   "name": "python",
   "nbconvert_exporter": "python",
   "pygments_lexer": "ipython3",
   "version": "3.9.13"
  },
  "vscode": {
   "interpreter": {
    "hash": "d0f63c8ac4ae55f0599ce1f2b79c462941338767091400e19b50672fdac5e4d3"
   }
  }
 },
 "nbformat": 4,
 "nbformat_minor": 2
}
