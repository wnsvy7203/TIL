{
 "cells": [
  {
   "cell_type": "code",
   "execution_count": 4,
   "metadata": {},
   "outputs": [
    {
     "name": "stdout",
     "output_type": "stream",
     "text": [
      "ASDF\n",
      "asdf\n"
     ]
    }
   ],
   "source": [
    "words = 'asdf'\n",
    "print(words.upper())\n",
    "print(words)"
   ]
  },
  {
   "cell_type": "code",
   "execution_count": null,
   "metadata": {},
   "outputs": [],
   "source": [
    "# Shallow copy란, 같은 주소값을 가지도록 할당하는 것.\n",
    "# Deep copy란, 아예 다른 값을 가지도록 할당하는 것."
   ]
  }
 ],
 "metadata": {
  "kernelspec": {
   "display_name": "Python 3.9.13 64-bit",
   "language": "python",
   "name": "python3"
  },
  "language_info": {
   "codemirror_mode": {
    "name": "ipython",
    "version": 3
   },
   "file_extension": ".py",
   "mimetype": "text/x-python",
   "name": "python",
   "nbconvert_exporter": "python",
   "pygments_lexer": "ipython3",
   "version": "3.9.13"
  },
  "orig_nbformat": 4,
  "vscode": {
   "interpreter": {
    "hash": "d0f63c8ac4ae55f0599ce1f2b79c462941338767091400e19b50672fdac5e4d3"
   }
  }
 },
 "nbformat": 4,
 "nbformat_minor": 2
}
